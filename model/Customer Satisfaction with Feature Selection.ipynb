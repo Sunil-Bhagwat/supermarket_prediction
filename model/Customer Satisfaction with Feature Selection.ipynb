{
 "cells": [
  {
   "cell_type": "code",
   "execution_count": 5,
   "id": "d29d6926",
   "metadata": {},
   "outputs": [],
   "source": [
    "import numpy as np # linear algebra\n",
    "import pandas as pd # data processing\n",
    "\n",
    "# warning filter\n",
    "import warnings\n",
    "warnings.filterwarnings('ignore')\n",
    "\n",
    "import sqlalchemy # sql connection\n",
    "\n",
    "#To Traceback error\n",
    "import traceback\n",
    "\n",
    "# For calculating Time required to run the model\n",
    "import time\n",
    "\n",
    "from tqdm import tqdm\n",
    "\n",
    "#ploting libraries\n",
    "import matplotlib.pyplot as plt \n",
    "import seaborn as sns\n",
    "\n",
    "#feature engineering\n",
    "from sklearn.preprocessing import OneHotEncoder\n",
    "from sklearn.preprocessing import LabelEncoder\n",
    "from category_encoders import OrdinalEncoder    # Used when you want to provide dictionary    \n",
    "\n",
    "#train test split\n",
    "from sklearn.model_selection import train_test_split, GridSearchCV, RandomizedSearchCV\n",
    "\n",
    "# Scaling Down\n",
    "from sklearn.preprocessing import MinMaxScaler, StandardScaler\n",
    "\n",
    "# Imputation\n",
    "from sklearn.impute import KNNImputer\n",
    "\n",
    "#metrics\n",
    "from sklearn.metrics import mean_squared_error, mean_absolute_error, r2_score\n",
    "\n",
    "from statsmodels.stats.outliers_influence import variance_inflation_factor\n"
   ]
  },
  {
   "cell_type": "markdown",
   "id": "4b92aad4",
   "metadata": {},
   "source": [
    "### Created......."
   ]
  },
  {
   "cell_type": "code",
   "execution_count": 6,
   "id": "dfd095d6",
   "metadata": {},
   "outputs": [
    {
     "name": "stdout",
     "output_type": "stream",
     "text": [
      "Requirement already satisfied: learn in c:\\users\\admin\\anaconda3\\lib\\site-packages (1.0.0)Note: you may need to restart the kernel to use updated packages.\n",
      "\n"
     ]
    }
   ],
   "source": [
    "pip install learn"
   ]
  },
  {
   "cell_type": "code",
   "execution_count": 7,
   "id": "02851804",
   "metadata": {},
   "outputs": [
    {
     "ename": "ModuleNotFoundError",
     "evalue": "No module named 'learn.processing'; 'learn' is not a package",
     "output_type": "error",
     "traceback": [
      "\u001b[1;31m---------------------------------------------------------------------------\u001b[0m",
      "\u001b[1;31mModuleNotFoundError\u001b[0m                       Traceback (most recent call last)",
      "Input \u001b[1;32mIn [7]\u001b[0m, in \u001b[0;36m<cell line: 2>\u001b[1;34m()\u001b[0m\n\u001b[0;32m      1\u001b[0m \u001b[38;5;66;03m#Use for Handaling Outliers\u001b[39;00m\n\u001b[1;32m----> 2\u001b[0m \u001b[38;5;28;01mfrom\u001b[39;00m \u001b[38;5;21;01mlearn\u001b[39;00m\u001b[38;5;21;01m.\u001b[39;00m\u001b[38;5;21;01mprocessing\u001b[39;00m \u001b[38;5;28;01mimport\u001b[39;00m DataPreProcessing\n\u001b[0;32m      4\u001b[0m \u001b[38;5;66;03m# For All Regressor Models\u001b[39;00m\n\u001b[0;32m      5\u001b[0m \u001b[38;5;28;01mfrom\u001b[39;00m \u001b[38;5;21;01mlearn\u001b[39;00m\u001b[38;5;21;01m.\u001b[39;00m\u001b[38;5;21;01msupervised\u001b[39;00m \u001b[38;5;28;01mimport\u001b[39;00m Regressor\n",
      "\u001b[1;31mModuleNotFoundError\u001b[0m: No module named 'learn.processing'; 'learn' is not a package"
     ]
    }
   ],
   "source": [
    "# #Use for Handaling Outliers\n",
    "# from learn.processing import DataPreProcessing\n",
    "\n",
    "# # For All Regressor Models\n",
    "# from learn.supervised import Regressor"
   ]
  },
  {
   "cell_type": "code",
   "execution_count": 8,
   "id": "afaa8709",
   "metadata": {},
   "outputs": [
    {
     "data": {
      "text/html": [
       "<div>\n",
       "<style scoped>\n",
       "    .dataframe tbody tr th:only-of-type {\n",
       "        vertical-align: middle;\n",
       "    }\n",
       "\n",
       "    .dataframe tbody tr th {\n",
       "        vertical-align: top;\n",
       "    }\n",
       "\n",
       "    .dataframe thead th {\n",
       "        text-align: right;\n",
       "    }\n",
       "</style>\n",
       "<table border=\"1\" class=\"dataframe\">\n",
       "  <thead>\n",
       "    <tr style=\"text-align: right;\">\n",
       "      <th></th>\n",
       "      <th>Invoice ID</th>\n",
       "      <th>Branch</th>\n",
       "      <th>City</th>\n",
       "      <th>Customer type</th>\n",
       "      <th>Gender</th>\n",
       "      <th>Product line</th>\n",
       "      <th>Unit price</th>\n",
       "      <th>Quantity</th>\n",
       "      <th>Tax 5%</th>\n",
       "      <th>Total</th>\n",
       "      <th>Date</th>\n",
       "      <th>Time</th>\n",
       "      <th>Payment</th>\n",
       "      <th>cogs</th>\n",
       "      <th>gross margin percentage</th>\n",
       "      <th>gross income</th>\n",
       "      <th>Rating</th>\n",
       "    </tr>\n",
       "  </thead>\n",
       "  <tbody>\n",
       "    <tr>\n",
       "      <th>0</th>\n",
       "      <td>750-67-8428</td>\n",
       "      <td>A</td>\n",
       "      <td>Yangon</td>\n",
       "      <td>Member</td>\n",
       "      <td>Female</td>\n",
       "      <td>Health and beauty</td>\n",
       "      <td>74.69</td>\n",
       "      <td>7</td>\n",
       "      <td>26.1415</td>\n",
       "      <td>548.9715</td>\n",
       "      <td>1/5/2019</td>\n",
       "      <td>13:08</td>\n",
       "      <td>Ewallet</td>\n",
       "      <td>522.83</td>\n",
       "      <td>4.761905</td>\n",
       "      <td>26.1415</td>\n",
       "      <td>9.1</td>\n",
       "    </tr>\n",
       "    <tr>\n",
       "      <th>1</th>\n",
       "      <td>226-31-3081</td>\n",
       "      <td>C</td>\n",
       "      <td>Naypyitaw</td>\n",
       "      <td>Normal</td>\n",
       "      <td>Female</td>\n",
       "      <td>Electronic accessories</td>\n",
       "      <td>15.28</td>\n",
       "      <td>5</td>\n",
       "      <td>3.8200</td>\n",
       "      <td>80.2200</td>\n",
       "      <td>3/8/2019</td>\n",
       "      <td>10:29</td>\n",
       "      <td>Cash</td>\n",
       "      <td>76.40</td>\n",
       "      <td>4.761905</td>\n",
       "      <td>3.8200</td>\n",
       "      <td>9.6</td>\n",
       "    </tr>\n",
       "  </tbody>\n",
       "</table>\n",
       "</div>"
      ],
      "text/plain": [
       "    Invoice ID Branch       City Customer type  Gender  \\\n",
       "0  750-67-8428      A     Yangon        Member  Female   \n",
       "1  226-31-3081      C  Naypyitaw        Normal  Female   \n",
       "\n",
       "             Product line  Unit price  Quantity   Tax 5%     Total      Date  \\\n",
       "0       Health and beauty       74.69         7  26.1415  548.9715  1/5/2019   \n",
       "1  Electronic accessories       15.28         5   3.8200   80.2200  3/8/2019   \n",
       "\n",
       "    Time  Payment    cogs  gross margin percentage  gross income  Rating  \n",
       "0  13:08  Ewallet  522.83                 4.761905       26.1415     9.1  \n",
       "1  10:29     Cash   76.40                 4.761905        3.8200     9.6  "
      ]
     },
     "execution_count": 8,
     "metadata": {},
     "output_type": "execute_result"
    }
   ],
   "source": [
    "df = pd.read_csv('supermarket_sales - Sheet1.csv')\n",
    "df.head(2)"
   ]
  },
  {
   "cell_type": "code",
   "execution_count": 9,
   "id": "31d88632",
   "metadata": {},
   "outputs": [
    {
     "data": {
      "text/plain": [
       "0"
      ]
     },
     "execution_count": 9,
     "metadata": {},
     "output_type": "execute_result"
    }
   ],
   "source": [
    "#Checking Duplicates\n",
    "df.duplicated().sum()"
   ]
  },
  {
   "cell_type": "code",
   "execution_count": 10,
   "id": "c4e6bea8",
   "metadata": {},
   "outputs": [
    {
     "name": "stdout",
     "output_type": "stream",
     "text": [
      "<class 'pandas.core.frame.DataFrame'>\n",
      "RangeIndex: 1000 entries, 0 to 999\n",
      "Data columns (total 17 columns):\n",
      " #   Column                   Non-Null Count  Dtype  \n",
      "---  ------                   --------------  -----  \n",
      " 0   Invoice ID               1000 non-null   object \n",
      " 1   Branch                   1000 non-null   object \n",
      " 2   City                     1000 non-null   object \n",
      " 3   Customer type            1000 non-null   object \n",
      " 4   Gender                   1000 non-null   object \n",
      " 5   Product line             1000 non-null   object \n",
      " 6   Unit price               1000 non-null   float64\n",
      " 7   Quantity                 1000 non-null   int64  \n",
      " 8   Tax 5%                   1000 non-null   float64\n",
      " 9   Total                    1000 non-null   float64\n",
      " 10  Date                     1000 non-null   object \n",
      " 11  Time                     1000 non-null   object \n",
      " 12  Payment                  1000 non-null   object \n",
      " 13  cogs                     1000 non-null   float64\n",
      " 14  gross margin percentage  1000 non-null   float64\n",
      " 15  gross income             1000 non-null   float64\n",
      " 16  Rating                   1000 non-null   float64\n",
      "dtypes: float64(7), int64(1), object(9)\n",
      "memory usage: 132.9+ KB\n"
     ]
    }
   ],
   "source": [
    "df.info()"
   ]
  },
  {
   "cell_type": "code",
   "execution_count": 11,
   "id": "905f7104",
   "metadata": {},
   "outputs": [
    {
     "data": {
      "text/plain": [
       "Invoice ID                 0\n",
       "Branch                     0\n",
       "City                       0\n",
       "Customer type              0\n",
       "Gender                     0\n",
       "Product line               0\n",
       "Unit price                 0\n",
       "Quantity                   0\n",
       "Tax 5%                     0\n",
       "Total                      0\n",
       "Date                       0\n",
       "Time                       0\n",
       "Payment                    0\n",
       "cogs                       0\n",
       "gross margin percentage    0\n",
       "gross income               0\n",
       "Rating                     0\n",
       "dtype: int64"
      ]
     },
     "execution_count": 11,
     "metadata": {},
     "output_type": "execute_result"
    }
   ],
   "source": [
    "df.isna().sum()"
   ]
  },
  {
   "cell_type": "markdown",
   "id": "9b181869",
   "metadata": {},
   "source": [
    "### 1. Invoice ID"
   ]
  },
  {
   "cell_type": "code",
   "execution_count": 12,
   "id": "87f17477",
   "metadata": {},
   "outputs": [
    {
     "data": {
      "text/plain": [
       "750-67-8428    1\n",
       "642-61-4706    1\n",
       "816-72-8853    1\n",
       "491-38-3499    1\n",
       "322-02-2271    1\n",
       "              ..\n",
       "633-09-3463    1\n",
       "374-17-3652    1\n",
       "378-07-7001    1\n",
       "433-75-6987    1\n",
       "849-09-3807    1\n",
       "Name: Invoice ID, Length: 1000, dtype: int64"
      ]
     },
     "execution_count": 12,
     "metadata": {},
     "output_type": "execute_result"
    }
   ],
   "source": [
    "df['Invoice ID'].value_counts()"
   ]
  },
  {
   "cell_type": "raw",
   "id": "9c09371f",
   "metadata": {},
   "source": [
    "In Invoice ID column all the values are unique, so we drop this column"
   ]
  },
  {
   "cell_type": "code",
   "execution_count": 13,
   "id": "db53a624",
   "metadata": {},
   "outputs": [],
   "source": [
    "df.drop(columns=['Invoice ID'],axis=1,inplace=True)"
   ]
  },
  {
   "cell_type": "markdown",
   "id": "3afd6a65",
   "metadata": {},
   "source": [
    "### 2. Branch"
   ]
  },
  {
   "cell_type": "code",
   "execution_count": 14,
   "id": "c68b6e02",
   "metadata": {},
   "outputs": [
    {
     "data": {
      "text/plain": [
       "A    340\n",
       "B    332\n",
       "C    328\n",
       "Name: Branch, dtype: int64"
      ]
     },
     "execution_count": 14,
     "metadata": {},
     "output_type": "execute_result"
    }
   ],
   "source": [
    "df['Branch'].value_counts()"
   ]
  },
  {
   "cell_type": "raw",
   "id": "74328dc1",
   "metadata": {},
   "source": [
    "We are use OneHotEncoder Here"
   ]
  },
  {
   "cell_type": "code",
   "execution_count": 15,
   "id": "16a07f2b",
   "metadata": {},
   "outputs": [
    {
     "data": {
      "text/plain": [
       "array([[1, 0, 0],\n",
       "       [0, 0, 1],\n",
       "       [1, 0, 0],\n",
       "       ...,\n",
       "       [1, 0, 0],\n",
       "       [1, 0, 0],\n",
       "       [1, 0, 0]])"
      ]
     },
     "execution_count": 15,
     "metadata": {},
     "output_type": "execute_result"
    }
   ],
   "source": [
    "One_hot_encoder = OneHotEncoder(dtype=int,sparse=False)\n",
    "One_hot_encoder.fit_transform(df[['Branch']])"
   ]
  },
  {
   "cell_type": "code",
   "execution_count": 16,
   "id": "f7336da4",
   "metadata": {},
   "outputs": [
    {
     "data": {
      "text/plain": [
       "array(['A', 'B', 'C'], dtype=object)"
      ]
     },
     "execution_count": 16,
     "metadata": {},
     "output_type": "execute_result"
    }
   ],
   "source": [
    "One_hot_encoder.categories_[0]"
   ]
  },
  {
   "cell_type": "code",
   "execution_count": 17,
   "id": "8203e570",
   "metadata": {
    "scrolled": true
   },
   "outputs": [],
   "source": [
    "df1 = pd.DataFrame(One_hot_encoder.fit_transform(df[['Branch']]))\n",
    "df1.columns= list(map(lambda x:'Branch_'+x,One_hot_encoder.categories_[0].tolist()))"
   ]
  },
  {
   "cell_type": "code",
   "execution_count": 18,
   "id": "4e0d568e",
   "metadata": {},
   "outputs": [],
   "source": [
    "df = pd.concat([df,df1],axis=1)"
   ]
  },
  {
   "cell_type": "code",
   "execution_count": 19,
   "id": "cb9b42dc",
   "metadata": {},
   "outputs": [],
   "source": [
    "df.drop(columns=['Branch'],inplace=True)"
   ]
  },
  {
   "cell_type": "markdown",
   "id": "bdfad4ef",
   "metadata": {},
   "source": [
    "### 3. City"
   ]
  },
  {
   "cell_type": "code",
   "execution_count": 20,
   "id": "e9d9ed74",
   "metadata": {},
   "outputs": [
    {
     "data": {
      "text/plain": [
       "Yangon       340\n",
       "Mandalay     332\n",
       "Naypyitaw    328\n",
       "Name: City, dtype: int64"
      ]
     },
     "execution_count": 20,
     "metadata": {},
     "output_type": "execute_result"
    }
   ],
   "source": [
    "df['City'].value_counts()"
   ]
  },
  {
   "cell_type": "raw",
   "id": "834c7d11",
   "metadata": {},
   "source": [
    "We are use OneHotEncoder Here"
   ]
  },
  {
   "cell_type": "code",
   "execution_count": 21,
   "id": "d2cd2544",
   "metadata": {},
   "outputs": [
    {
     "data": {
      "text/plain": [
       "array([[0, 0, 1],\n",
       "       [0, 1, 0],\n",
       "       [0, 0, 1],\n",
       "       ...,\n",
       "       [0, 0, 1],\n",
       "       [0, 0, 1],\n",
       "       [0, 0, 1]])"
      ]
     },
     "execution_count": 21,
     "metadata": {},
     "output_type": "execute_result"
    }
   ],
   "source": [
    "One_hot_encoder = OneHotEncoder(dtype=int,sparse=False)\n",
    "One_hot_encoder.fit_transform(df[['City']])"
   ]
  },
  {
   "cell_type": "code",
   "execution_count": 22,
   "id": "7a8118fd",
   "metadata": {},
   "outputs": [
    {
     "data": {
      "text/plain": [
       "array(['Mandalay', 'Naypyitaw', 'Yangon'], dtype=object)"
      ]
     },
     "execution_count": 22,
     "metadata": {},
     "output_type": "execute_result"
    }
   ],
   "source": [
    "One_hot_encoder.categories_[0]"
   ]
  },
  {
   "cell_type": "code",
   "execution_count": 23,
   "id": "732113e4",
   "metadata": {
    "scrolled": true
   },
   "outputs": [],
   "source": [
    "df1 = pd.DataFrame(One_hot_encoder.fit_transform(df[['City']]))\n",
    "df1.columns= list(map(lambda x:'City_'+x,One_hot_encoder.categories_[0].tolist()))"
   ]
  },
  {
   "cell_type": "code",
   "execution_count": 24,
   "id": "37842cd7",
   "metadata": {},
   "outputs": [],
   "source": [
    "df = pd.concat([df,df1],axis=1)"
   ]
  },
  {
   "cell_type": "code",
   "execution_count": 25,
   "id": "959baa9b",
   "metadata": {},
   "outputs": [],
   "source": [
    "df.drop(columns=['City'],inplace=True)"
   ]
  },
  {
   "cell_type": "markdown",
   "id": "3ce2ac9d",
   "metadata": {},
   "source": [
    "### 4. Customer type"
   ]
  },
  {
   "cell_type": "code",
   "execution_count": 26,
   "id": "797f6257",
   "metadata": {},
   "outputs": [
    {
     "data": {
      "text/plain": [
       "Member    501\n",
       "Normal    499\n",
       "Name: Customer type, dtype: int64"
      ]
     },
     "execution_count": 26,
     "metadata": {},
     "output_type": "execute_result"
    }
   ],
   "source": [
    "df['Customer type'].value_counts()"
   ]
  },
  {
   "cell_type": "raw",
   "id": "dcda34c0",
   "metadata": {},
   "source": [
    "This column contains Ordinal data, so we use Label Encoder"
   ]
  },
  {
   "cell_type": "code",
   "execution_count": 27,
   "id": "69f8a84e",
   "metadata": {},
   "outputs": [],
   "source": [
    "values_Customer_type =  {'Normal': 0, 'Member': 1}"
   ]
  },
  {
   "cell_type": "code",
   "execution_count": 66,
   "id": "2fe7927b",
   "metadata": {},
   "outputs": [
    {
     "data": {
      "text/plain": [
       "{'Normal': 0, 'Member': 1}"
      ]
     },
     "execution_count": 66,
     "metadata": {},
     "output_type": "execute_result"
    }
   ],
   "source": [
    "values_Customer_type"
   ]
  },
  {
   "cell_type": "code",
   "execution_count": 28,
   "id": "6d8c6607",
   "metadata": {},
   "outputs": [],
   "source": [
    "mapping = [{\n",
    "    'col': 'Customer type',\n",
    "    'mapping': values_Customer_type\n",
    "}]"
   ]
  },
  {
   "cell_type": "code",
   "execution_count": 29,
   "id": "b93c178f",
   "metadata": {},
   "outputs": [],
   "source": [
    "encoder = OrdinalEncoder(cols=['Customer type'], mapping=mapping)\n",
    "df['Customer type'] = encoder.fit_transform(df['Customer type'])"
   ]
  },
  {
   "cell_type": "markdown",
   "id": "77eb6553",
   "metadata": {},
   "source": [
    "### 5. Gender"
   ]
  },
  {
   "cell_type": "code",
   "execution_count": 30,
   "id": "313558d1",
   "metadata": {},
   "outputs": [
    {
     "data": {
      "text/plain": [
       "Female    501\n",
       "Male      499\n",
       "Name: Gender, dtype: int64"
      ]
     },
     "execution_count": 30,
     "metadata": {},
     "output_type": "execute_result"
    }
   ],
   "source": [
    "df['Gender'].value_counts()"
   ]
  },
  {
   "cell_type": "raw",
   "id": "e08c868e",
   "metadata": {},
   "source": [
    "Gender is a ordinal data so we do label encoding"
   ]
  },
  {
   "cell_type": "code",
   "execution_count": 31,
   "id": "f5c5c4ee",
   "metadata": {},
   "outputs": [],
   "source": [
    "encoder = LabelEncoder()\n",
    "df['Gender'] = encoder.fit_transform(df['Gender'])"
   ]
  },
  {
   "cell_type": "code",
   "execution_count": 32,
   "id": "9ac52ea4",
   "metadata": {},
   "outputs": [
    {
     "data": {
      "text/plain": [
       "{'Female': 0, 'Male': 1}"
      ]
     },
     "execution_count": 32,
     "metadata": {},
     "output_type": "execute_result"
    }
   ],
   "source": [
    "values_Gender = dict(zip(list(encoder.classes_),list(range(len(encoder.classes_)))))\n",
    "values_Gender"
   ]
  },
  {
   "cell_type": "markdown",
   "id": "7ef4769a",
   "metadata": {},
   "source": [
    "### 6. Product line"
   ]
  },
  {
   "cell_type": "code",
   "execution_count": 33,
   "id": "fb38119c",
   "metadata": {},
   "outputs": [
    {
     "data": {
      "text/plain": [
       "Fashion accessories       178\n",
       "Food and beverages        174\n",
       "Electronic accessories    170\n",
       "Sports and travel         166\n",
       "Home and lifestyle        160\n",
       "Health and beauty         152\n",
       "Name: Product line, dtype: int64"
      ]
     },
     "execution_count": 33,
     "metadata": {},
     "output_type": "execute_result"
    }
   ],
   "source": [
    "df['Product line'].value_counts()"
   ]
  },
  {
   "cell_type": "raw",
   "id": "7796b3e4",
   "metadata": {},
   "source": [
    "We are use OneHotEncoder Here"
   ]
  },
  {
   "cell_type": "code",
   "execution_count": 34,
   "id": "5cf2162e",
   "metadata": {},
   "outputs": [
    {
     "data": {
      "text/plain": [
       "array([[0, 0, 0, 1, 0, 0],\n",
       "       [1, 0, 0, 0, 0, 0],\n",
       "       [0, 0, 0, 0, 1, 0],\n",
       "       ...,\n",
       "       [0, 0, 1, 0, 0, 0],\n",
       "       [0, 0, 0, 0, 1, 0],\n",
       "       [0, 1, 0, 0, 0, 0]])"
      ]
     },
     "execution_count": 34,
     "metadata": {},
     "output_type": "execute_result"
    }
   ],
   "source": [
    "One_hot_encoder = OneHotEncoder(dtype=int,sparse=False)\n",
    "One_hot_encoder.fit_transform(df[['Product line']])"
   ]
  },
  {
   "cell_type": "code",
   "execution_count": 35,
   "id": "c03923e9",
   "metadata": {},
   "outputs": [
    {
     "data": {
      "text/plain": [
       "array(['Electronic accessories', 'Fashion accessories',\n",
       "       'Food and beverages', 'Health and beauty', 'Home and lifestyle',\n",
       "       'Sports and travel'], dtype=object)"
      ]
     },
     "execution_count": 35,
     "metadata": {},
     "output_type": "execute_result"
    }
   ],
   "source": [
    "One_hot_encoder.categories_[0]"
   ]
  },
  {
   "cell_type": "code",
   "execution_count": 36,
   "id": "3f7bd3ff",
   "metadata": {
    "scrolled": true
   },
   "outputs": [],
   "source": [
    "df1 = pd.DataFrame(One_hot_encoder.fit_transform(df[['Product line']]))\n",
    "df1.columns= list(map(lambda x:'Product line_'+x,One_hot_encoder.categories_[0].tolist()))"
   ]
  },
  {
   "cell_type": "code",
   "execution_count": 37,
   "id": "5d6cc1dc",
   "metadata": {},
   "outputs": [],
   "source": [
    "df = pd.concat([df,df1],axis=1)"
   ]
  },
  {
   "cell_type": "code",
   "execution_count": 38,
   "id": "13461994",
   "metadata": {},
   "outputs": [],
   "source": [
    "df.drop(columns=['Product line'],inplace=True)"
   ]
  },
  {
   "cell_type": "markdown",
   "id": "392fd4e8",
   "metadata": {},
   "source": [
    "### 7. Date and Time"
   ]
  },
  {
   "cell_type": "raw",
   "id": "20b79df3",
   "metadata": {},
   "source": [
    "we are dropping Date and Time columns"
   ]
  },
  {
   "cell_type": "code",
   "execution_count": 39,
   "id": "c4229905",
   "metadata": {},
   "outputs": [],
   "source": [
    "df.drop(columns=['Date','Time'],inplace=True)"
   ]
  },
  {
   "cell_type": "markdown",
   "id": "765aa9a3",
   "metadata": {},
   "source": [
    "### 8. Payment"
   ]
  },
  {
   "cell_type": "code",
   "execution_count": 40,
   "id": "5b484ff4",
   "metadata": {},
   "outputs": [
    {
     "data": {
      "text/plain": [
       "Ewallet        345\n",
       "Cash           344\n",
       "Credit card    311\n",
       "Name: Payment, dtype: int64"
      ]
     },
     "execution_count": 40,
     "metadata": {},
     "output_type": "execute_result"
    }
   ],
   "source": [
    "df['Payment'].value_counts()"
   ]
  },
  {
   "cell_type": "raw",
   "id": "5786c1dd",
   "metadata": {},
   "source": [
    "We are use OneHotEncoder Here"
   ]
  },
  {
   "cell_type": "code",
   "execution_count": 41,
   "id": "b20fa642",
   "metadata": {},
   "outputs": [
    {
     "data": {
      "text/plain": [
       "array([[0, 0, 1],\n",
       "       [1, 0, 0],\n",
       "       [0, 1, 0],\n",
       "       ...,\n",
       "       [1, 0, 0],\n",
       "       [1, 0, 0],\n",
       "       [1, 0, 0]])"
      ]
     },
     "execution_count": 41,
     "metadata": {},
     "output_type": "execute_result"
    }
   ],
   "source": [
    "One_hot_encoder = OneHotEncoder(dtype=int,sparse=False)\n",
    "One_hot_encoder.fit_transform(df[['Payment']])"
   ]
  },
  {
   "cell_type": "code",
   "execution_count": 42,
   "id": "70570e24",
   "metadata": {},
   "outputs": [
    {
     "data": {
      "text/plain": [
       "array(['Cash', 'Credit card', 'Ewallet'], dtype=object)"
      ]
     },
     "execution_count": 42,
     "metadata": {},
     "output_type": "execute_result"
    }
   ],
   "source": [
    "One_hot_encoder.categories_[0]"
   ]
  },
  {
   "cell_type": "code",
   "execution_count": 43,
   "id": "1979e7bc",
   "metadata": {
    "scrolled": true
   },
   "outputs": [],
   "source": [
    "df1 = pd.DataFrame(One_hot_encoder.fit_transform(df[['Payment']]))\n",
    "df1.columns= list(map(lambda x:'Payment_'+x,One_hot_encoder.categories_[0].tolist()))"
   ]
  },
  {
   "cell_type": "code",
   "execution_count": 44,
   "id": "c5188352",
   "metadata": {},
   "outputs": [],
   "source": [
    "df = pd.concat([df,df1],axis=1)"
   ]
  },
  {
   "cell_type": "code",
   "execution_count": 45,
   "id": "59bedd84",
   "metadata": {},
   "outputs": [],
   "source": [
    "df.drop(columns=['Payment'],inplace=True)"
   ]
  },
  {
   "cell_type": "markdown",
   "id": "fae14b09",
   "metadata": {},
   "source": [
    "### 9. gross margin percentage"
   ]
  },
  {
   "cell_type": "code",
   "execution_count": 46,
   "id": "eae6a6ef",
   "metadata": {},
   "outputs": [
    {
     "data": {
      "text/plain": [
       "4.761905    1000\n",
       "Name: gross margin percentage, dtype: int64"
      ]
     },
     "execution_count": 46,
     "metadata": {},
     "output_type": "execute_result"
    }
   ],
   "source": [
    "df['gross margin percentage'].value_counts()"
   ]
  },
  {
   "cell_type": "code",
   "execution_count": 47,
   "id": "9d663bd3",
   "metadata": {},
   "outputs": [],
   "source": [
    "df.drop(columns=['gross margin percentage'],inplace=True)"
   ]
  },
  {
   "cell_type": "code",
   "execution_count": 48,
   "id": "dd593765",
   "metadata": {},
   "outputs": [
    {
     "name": "stdout",
     "output_type": "stream",
     "text": [
      "<class 'pandas.core.frame.DataFrame'>\n",
      "RangeIndex: 1000 entries, 0 to 999\n",
      "Data columns (total 24 columns):\n",
      " #   Column                               Non-Null Count  Dtype  \n",
      "---  ------                               --------------  -----  \n",
      " 0   Customer type                        1000 non-null   int32  \n",
      " 1   Gender                               1000 non-null   int32  \n",
      " 2   Unit price                           1000 non-null   float64\n",
      " 3   Quantity                             1000 non-null   int64  \n",
      " 4   Tax 5%                               1000 non-null   float64\n",
      " 5   Total                                1000 non-null   float64\n",
      " 6   cogs                                 1000 non-null   float64\n",
      " 7   gross income                         1000 non-null   float64\n",
      " 8   Rating                               1000 non-null   float64\n",
      " 9   Branch_A                             1000 non-null   int32  \n",
      " 10  Branch_B                             1000 non-null   int32  \n",
      " 11  Branch_C                             1000 non-null   int32  \n",
      " 12  City_Mandalay                        1000 non-null   int32  \n",
      " 13  City_Naypyitaw                       1000 non-null   int32  \n",
      " 14  City_Yangon                          1000 non-null   int32  \n",
      " 15  Product line_Electronic accessories  1000 non-null   int32  \n",
      " 16  Product line_Fashion accessories     1000 non-null   int32  \n",
      " 17  Product line_Food and beverages      1000 non-null   int32  \n",
      " 18  Product line_Health and beauty       1000 non-null   int32  \n",
      " 19  Product line_Home and lifestyle      1000 non-null   int32  \n",
      " 20  Product line_Sports and travel       1000 non-null   int32  \n",
      " 21  Payment_Cash                         1000 non-null   int32  \n",
      " 22  Payment_Credit card                  1000 non-null   int32  \n",
      " 23  Payment_Ewallet                      1000 non-null   int32  \n",
      "dtypes: float64(6), int32(17), int64(1)\n",
      "memory usage: 121.2 KB\n"
     ]
    }
   ],
   "source": [
    "df.info()"
   ]
  },
  {
   "cell_type": "markdown",
   "id": "d170b5f9",
   "metadata": {},
   "source": [
    "# Binning"
   ]
  },
  {
   "cell_type": "code",
   "execution_count": 49,
   "id": "a2ecd3fb",
   "metadata": {},
   "outputs": [
    {
     "data": {
      "text/plain": [
       "[4, 5, 10]"
      ]
     },
     "execution_count": 49,
     "metadata": {},
     "output_type": "execute_result"
    }
   ],
   "source": [
    "min_val = int(df['Rating'].min())\n",
    "min_val\n",
    "\n",
    "max_val = int(df['Rating'].max())\n",
    "max_val\n",
    "\n",
    "cut_points = [5]\n",
    "\n",
    "break_points = [min_val] + cut_points + [max_val]\n",
    "break_points"
   ]
  },
  {
   "cell_type": "code",
   "execution_count": 50,
   "id": "7acaf922",
   "metadata": {},
   "outputs": [],
   "source": [
    "df['Rating'] = pd.cut(df['Rating'], bins=break_points, labels=['Satisfied','Not Satisfied'], include_lowest=True)"
   ]
  },
  {
   "cell_type": "code",
   "execution_count": 51,
   "id": "ccc5213a",
   "metadata": {},
   "outputs": [
    {
     "data": {
      "text/plain": [
       "Not Satisfied    826\n",
       "Satisfied        174\n",
       "Name: Rating, dtype: int64"
      ]
     },
     "execution_count": 51,
     "metadata": {},
     "output_type": "execute_result"
    }
   ],
   "source": [
    "df['Rating'].value_counts()"
   ]
  },
  {
   "cell_type": "code",
   "execution_count": 52,
   "id": "22e5cf40",
   "metadata": {},
   "outputs": [],
   "source": [
    "encoder = LabelEncoder()\n",
    "df['Rating'] = encoder.fit_transform(df['Rating'])"
   ]
  },
  {
   "cell_type": "code",
   "execution_count": 53,
   "id": "554fdc19",
   "metadata": {},
   "outputs": [
    {
     "data": {
      "text/plain": [
       "{'Not Satisfied': 0, 'Satisfied': 1}"
      ]
     },
     "execution_count": 53,
     "metadata": {},
     "output_type": "execute_result"
    }
   ],
   "source": [
    "values_Rating = dict(zip(list(encoder.classes_),list(range(len(encoder.classes_)))))\n",
    "values_Rating"
   ]
  },
  {
   "cell_type": "markdown",
   "id": "32b0984f",
   "metadata": {},
   "source": [
    "# SMOTE"
   ]
  },
  {
   "cell_type": "code",
   "execution_count": 54,
   "id": "911ede30",
   "metadata": {},
   "outputs": [],
   "source": [
    "target_column = \"Rating\""
   ]
  },
  {
   "cell_type": "code",
   "execution_count": 55,
   "id": "78e66dfe",
   "metadata": {},
   "outputs": [],
   "source": [
    "x = df.drop(target_column,axis=1)\n",
    "y = df[target_column]"
   ]
  },
  {
   "cell_type": "code",
   "execution_count": 56,
   "id": "baf07dfc",
   "metadata": {},
   "outputs": [],
   "source": [
    "from imblearn.over_sampling import SMOTE"
   ]
  },
  {
   "cell_type": "code",
   "execution_count": 57,
   "id": "2b469d01",
   "metadata": {},
   "outputs": [],
   "source": [
    "sm = SMOTE(random_state=77)\n",
    "x, y = sm.fit_resample(x,y)"
   ]
  },
  {
   "cell_type": "code",
   "execution_count": 58,
   "id": "8d632be0",
   "metadata": {},
   "outputs": [
    {
     "data": {
      "text/plain": [
       "(1652, 23)"
      ]
     },
     "execution_count": 58,
     "metadata": {},
     "output_type": "execute_result"
    }
   ],
   "source": [
    "x.shape"
   ]
  },
  {
   "cell_type": "code",
   "execution_count": 59,
   "id": "2e8cc4bc",
   "metadata": {},
   "outputs": [
    {
     "data": {
      "text/plain": [
       "0"
      ]
     },
     "execution_count": 59,
     "metadata": {},
     "output_type": "execute_result"
    }
   ],
   "source": [
    "x.duplicated().sum()"
   ]
  },
  {
   "cell_type": "markdown",
   "id": "bac262bb",
   "metadata": {},
   "source": [
    "# Outliers Handaling"
   ]
  },
  {
   "cell_type": "code",
   "execution_count": 60,
   "id": "093e412f",
   "metadata": {
    "scrolled": true
   },
   "outputs": [
    {
     "data": {
      "text/plain": [
       "<AxesSubplot:>"
      ]
     },
     "execution_count": 60,
     "metadata": {},
     "output_type": "execute_result"
    },
    {
     "data": {
      "image/png": "[encoded data removed]",
      "text/plain": [
       "<Figure size 1440x1440 with 1 Axes>"
      ]
     },
     "metadata": {
      "needs_background": "light"
     },
     "output_type": "display_data"
    }
   ],
   "source": [
    "plt.figure(figsize=(20,20))\n",
    "x.boxplot()"
   ]
  },
  {
   "cell_type": "markdown",
   "id": "1b275ee6",
   "metadata": {},
   "source": [
    "### Tax 5%"
   ]
  },
  {
   "cell_type": "code",
   "execution_count": 61,
   "id": "89abe503",
   "metadata": {},
   "outputs": [
    {
     "data": {
      "text/plain": [
       "<AxesSubplot:xlabel='Tax 5%'>"
      ]
     },
     "execution_count": 61,
     "metadata": {},
     "output_type": "execute_result"
    },
    {
     "data": {
      "image/png": "[encoded data removed]",
      "text/plain": [
       "<Figure size 432x288 with 1 Axes>"
      ]
     },
     "metadata": {
      "needs_background": "light"
     },
     "output_type": "display_data"
    }
   ],
   "source": [
    "sns.boxplot(x['Tax 5%'])"
   ]
  },
  {
   "cell_type": "markdown",
   "id": "df7a0f24",
   "metadata": {},
   "source": [
    "### Total"
   ]
  },
  {
   "cell_type": "code",
   "execution_count": 62,
   "id": "6d39ef3e",
   "metadata": {},
   "outputs": [
    {
     "data": {
      "text/plain": [
       "<AxesSubplot:xlabel='Total'>"
      ]
     },
     "execution_count": 62,
     "metadata": {},
     "output_type": "execute_result"
    },
    {
     "data": {
      "image/png": "[encoded data removed]",
      "text/plain": [
       "<Figure size 432x288 with 1 Axes>"
      ]
     },
     "metadata": {
      "needs_background": "light"
     },
     "output_type": "display_data"
    }
   ],
   "source": [
    "sns.boxplot(x['Total'])"
   ]
  },
  {
   "cell_type": "markdown",
   "id": "38f695e7",
   "metadata": {},
   "source": [
    "### cogs"
   ]
  },
  {
   "cell_type": "code",
   "execution_count": 63,
   "id": "c6220155",
   "metadata": {},
   "outputs": [
    {
     "data": {
      "text/plain": [
       "<AxesSubplot:xlabel='cogs'>"
      ]
     },
     "execution_count": 63,
     "metadata": {},
     "output_type": "execute_result"
    },
    {
     "data": {
      "image/png": "[encoded data removed]",
      "text/plain": [
       "<Figure size 432x288 with 1 Axes>"
      ]
     },
     "metadata": {
      "needs_background": "light"
     },
     "output_type": "display_data"
    }
   ],
   "source": [
    "sns.boxplot(x['cogs'])"
   ]
  },
  {
   "cell_type": "markdown",
   "id": "aaa3da62",
   "metadata": {},
   "source": [
    "### gross income"
   ]
  },
  {
   "cell_type": "code",
   "execution_count": 64,
   "id": "df0cfa7b",
   "metadata": {},
   "outputs": [
    {
     "data": {
      "text/plain": [
       "<AxesSubplot:xlabel='gross income'>"
      ]
     },
     "execution_count": 64,
     "metadata": {},
     "output_type": "execute_result"
    },
    {
     "data": {
      "image/png": "[encoded data removed]",
      "text/plain": [
       "<Figure size 432x288 with 1 Axes>"
      ]
     },
     "metadata": {
      "needs_background": "light"
     },
     "output_type": "display_data"
    }
   ],
   "source": [
    "sns.boxplot(x['gross income'])"
   ]
  },
  {
   "cell_type": "code",
   "execution_count": 65,
   "id": "b917669e",
   "metadata": {},
   "outputs": [
    {
     "ename": "NameError",
     "evalue": "name 'DataPreProcessing' is not defined",
     "output_type": "error",
     "traceback": [
      "\u001b[1;31m---------------------------------------------------------------------------\u001b[0m",
      "\u001b[1;31mNameError\u001b[0m                                 Traceback (most recent call last)",
      "Input \u001b[1;32mIn [65]\u001b[0m, in \u001b[0;36m<cell line: 2>\u001b[1;34m()\u001b[0m\n\u001b[0;32m      1\u001b[0m \u001b[38;5;66;03m# Create Instance\u001b[39;00m\n\u001b[1;32m----> 2\u001b[0m preprocessing \u001b[38;5;241m=\u001b[39m \u001b[43mDataPreProcessing\u001b[49m()\n",
      "\u001b[1;31mNameError\u001b[0m: name 'DataPreProcessing' is not defined"
     ]
    }
   ],
   "source": [
    "# Create Instance\n",
    "preprocessing = DataPreProcessing()"
   ]
  },
  {
   "cell_type": "code",
   "execution_count": null,
   "id": "5e0ae73e",
   "metadata": {},
   "outputs": [],
   "source": [
    "x = preprocessing.replace_outliers_by_nan(x,outlier_columns=['Tax 5%','Total','cogs','gross income'])"
   ]
  },
  {
   "cell_type": "code",
   "execution_count": null,
   "id": "aa0d7ba6",
   "metadata": {},
   "outputs": [],
   "source": [
    "plt.figure(figsize=(20,20))\n",
    "x.boxplot()"
   ]
  },
  {
   "cell_type": "code",
   "execution_count": null,
   "id": "09832201",
   "metadata": {},
   "outputs": [],
   "source": [
    "x = preprocessing.knn_imputer(x,continuous_columns = ['Tax 5%','Total','cogs','gross income'])"
   ]
  },
  {
   "cell_type": "code",
   "execution_count": null,
   "id": "4b3eb995",
   "metadata": {},
   "outputs": [],
   "source": [
    "x.columns"
   ]
  },
  {
   "cell_type": "markdown",
   "id": "16fa40f5",
   "metadata": {},
   "source": [
    "# Feature Selection"
   ]
  },
  {
   "cell_type": "code",
   "execution_count": null,
   "id": "1636287a",
   "metadata": {},
   "outputs": [],
   "source": [
    "x.head(2)"
   ]
  },
  {
   "cell_type": "code",
   "execution_count": null,
   "id": "80ad123d",
   "metadata": {},
   "outputs": [],
   "source": [
    "continuous_columns = ['Unit price','Tax 5%','Total','cogs','gross income']\n",
    "catogorical_columns = ['Customer type', 'Gender','Quantity', 'Branch_A', 'Branch_B', 'Branch_C',\n",
    "       'City_Mandalay', 'City_Naypyitaw', 'City_Yangon',\n",
    "       'Product line_Electronic accessories',\n",
    "       'Product line_Fashion accessories', 'Product line_Food and beverages',\n",
    "       'Product line_Health and beauty', 'Product line_Home and lifestyle',\n",
    "       'Product line_Sports and travel', 'Payment_Cash', 'Payment_Credit card',\n",
    "       'Payment_Ewallet']"
   ]
  },
  {
   "cell_type": "markdown",
   "id": "ece315eb",
   "metadata": {},
   "source": [
    "### 0. correlation "
   ]
  },
  {
   "cell_type": "code",
   "execution_count": null,
   "id": "c56f4505",
   "metadata": {},
   "outputs": [],
   "source": [
    " pd.concat([x,y],axis=1).corr('kendall').tail(1)"
   ]
  },
  {
   "cell_type": "code",
   "execution_count": null,
   "id": "1947131e",
   "metadata": {},
   "outputs": [],
   "source": [
    " pd.concat([x,y],axis=1).corr('spearman').tail(1)"
   ]
  },
  {
   "cell_type": "markdown",
   "id": "ee54f2b2",
   "metadata": {},
   "source": [
    "### 1. chi-square test"
   ]
  },
  {
   "cell_type": "code",
   "execution_count": null,
   "id": "20669816",
   "metadata": {},
   "outputs": [],
   "source": [
    "from sklearn.feature_selection import chi2"
   ]
  },
  {
   "cell_type": "code",
   "execution_count": null,
   "id": "d124b898",
   "metadata": {},
   "outputs": [],
   "source": [
    "test_statistics, p_value = chi2(x[catogorical_columns],y)"
   ]
  },
  {
   "cell_type": "code",
   "execution_count": null,
   "id": "fc4fb21c",
   "metadata": {},
   "outputs": [],
   "source": [
    "pd.Series(p_value, index=catogorical_columns)"
   ]
  },
  {
   "cell_type": "markdown",
   "id": "0b93e824",
   "metadata": {},
   "source": [
    "## 2. ANOVA"
   ]
  },
  {
   "cell_type": "code",
   "execution_count": null,
   "id": "6cfe8887",
   "metadata": {},
   "outputs": [],
   "source": [
    "from sklearn.feature_selection import f_classif"
   ]
  },
  {
   "cell_type": "code",
   "execution_count": null,
   "id": "080ad654",
   "metadata": {},
   "outputs": [],
   "source": [
    "test_statistics, p_value = f_classif(x[continuous_columns],y)"
   ]
  },
  {
   "cell_type": "code",
   "execution_count": null,
   "id": "bdae481f",
   "metadata": {},
   "outputs": [],
   "source": [
    "pd.Series(p_value, index=continuous_columns)"
   ]
  },
  {
   "cell_type": "markdown",
   "id": "804e1cb0",
   "metadata": {},
   "source": [
    "### 3. Mutual information (Information Gain)"
   ]
  },
  {
   "cell_type": "code",
   "execution_count": null,
   "id": "a37885df",
   "metadata": {},
   "outputs": [],
   "source": [
    "from sklearn.feature_selection import mutual_info_classif"
   ]
  },
  {
   "cell_type": "code",
   "execution_count": null,
   "id": "1c8c6523",
   "metadata": {},
   "outputs": [],
   "source": [
    "array = mutual_info_classif(x,y,random_state = 10)"
   ]
  },
  {
   "cell_type": "code",
   "execution_count": null,
   "id": "fdc45a13",
   "metadata": {},
   "outputs": [],
   "source": [
    "s2 = pd.Series(array, index=x.columns)\n",
    "s2.sort_values().plot(kind= 'barh')"
   ]
  },
  {
   "cell_type": "markdown",
   "id": "bee97de7",
   "metadata": {},
   "source": [
    "### 2.1 . Exhaustive Feature Selection"
   ]
  },
  {
   "cell_type": "code",
   "execution_count": null,
   "id": "a2f94bae",
   "metadata": {},
   "outputs": [],
   "source": [
    "from mlxtend.feature_selection import ExhaustiveFeatureSelector\n",
    "from sklearn.tree import DecisionTreeClassifier"
   ]
  },
  {
   "cell_type": "code",
   "execution_count": null,
   "id": "b469047a",
   "metadata": {},
   "outputs": [],
   "source": [
    "efs = ExhaustiveFeatureSelector(DecisionTreeClassifier(), min_features=19, max_features=20, cv=5, n_jobs=-1)\n",
    "efs.fit(x,y)"
   ]
  },
  {
   "cell_type": "code",
   "execution_count": null,
   "id": "4f8455e0",
   "metadata": {},
   "outputs": [],
   "source": [
    "pd.DataFrame(efs.subsets_).T"
   ]
  },
  {
   "cell_type": "markdown",
   "id": "41f15ecf",
   "metadata": {},
   "source": [
    "### 2.2 Recursive Feature Elimination"
   ]
  },
  {
   "cell_type": "code",
   "execution_count": null,
   "id": "fccbcdeb",
   "metadata": {},
   "outputs": [],
   "source": [
    "# from sklearn.feature_selection import RFE\n",
    "# from sklearn.tree import DecisionTreeClassifier\n",
    "\n",
    "# dt_model = DecisionTreeClassifier()\n",
    "\n",
    "# rfe = RFE(dt_model, n_features_to_select=15)\n",
    "# rfe.fit(x,y)\n",
    "# x = x[rfe.get_feature_names_out()]"
   ]
  },
  {
   "cell_type": "code",
   "execution_count": null,
   "id": "79849005",
   "metadata": {},
   "outputs": [],
   "source": [
    "x.shape"
   ]
  },
  {
   "cell_type": "markdown",
   "id": "21fbd0a3",
   "metadata": {},
   "source": [
    "### SVM"
   ]
  },
  {
   "cell_type": "code",
   "execution_count": null,
   "id": "5805d30a",
   "metadata": {},
   "outputs": [],
   "source": [
    "from sklearn.svm import SVC\n",
    "# Metrics\n",
    "from sklearn.metrics import classification_report, accuracy_score, confusion_matrix"
   ]
  },
  {
   "cell_type": "code",
   "execution_count": null,
   "id": "3d58e458",
   "metadata": {},
   "outputs": [],
   "source": [
    "x1 = x[['Unit price','Quantity','Tax 5%','Total','cogs','gross income']]\n",
    "\n",
    "std_scalar = MinMaxScaler()\n",
    "array = std_scalar.fit_transform(x1)\n",
    "\n",
    "x1 = pd.DataFrame(array, columns=x1.columns)\n",
    "x1"
   ]
  },
  {
   "cell_type": "code",
   "execution_count": null,
   "id": "58b94ae0",
   "metadata": {},
   "outputs": [],
   "source": [
    "x.shape"
   ]
  },
  {
   "cell_type": "code",
   "execution_count": null,
   "id": "52e01b11",
   "metadata": {},
   "outputs": [],
   "source": [
    "for i in ['Unit price','Quantity','Tax 5%','Total','cogs','gross income']:\n",
    "    x[i] = x1[i]"
   ]
  },
  {
   "cell_type": "code",
   "execution_count": null,
   "id": "cd4a7e0e",
   "metadata": {},
   "outputs": [],
   "source": [
    "x.shape"
   ]
  },
  {
   "cell_type": "code",
   "execution_count": null,
   "id": "87d90629",
   "metadata": {},
   "outputs": [],
   "source": [
    "# target_column = \"Rating\""
   ]
  },
  {
   "cell_type": "code",
   "execution_count": null,
   "id": "6ced54dd",
   "metadata": {},
   "outputs": [],
   "source": [
    "# x = df.drop(target_column,axis=1)\n",
    "# y = df[target_column]"
   ]
  },
  {
   "cell_type": "code",
   "execution_count": null,
   "id": "91fa15aa",
   "metadata": {},
   "outputs": [],
   "source": [
    "x_train, x_test, y_train, y_test = train_test_split(x, y , test_size=0.30, random_state=10, stratify=y)"
   ]
  },
  {
   "cell_type": "code",
   "execution_count": null,
   "id": "54926147",
   "metadata": {},
   "outputs": [],
   "source": [
    "x_train.shape"
   ]
  },
  {
   "cell_type": "code",
   "execution_count": null,
   "id": "ec51fcc5",
   "metadata": {},
   "outputs": [],
   "source": [
    "svm_clf = SVC()\n",
    "svm_clf.fit(x_train, y_train)"
   ]
  },
  {
   "cell_type": "code",
   "execution_count": null,
   "id": "1e771d8f",
   "metadata": {},
   "outputs": [],
   "source": [
    "# Testing Accuracy\n",
    "\n",
    "y_pred = svm_clf.predict(x_test)\n",
    "\n",
    "cnf_matrix = confusion_matrix(y_pred, y_test)\n",
    "print(\"Confusion Matrix:\\n\", cnf_matrix)\n",
    "print(\"*\"*55)\n",
    "\n",
    "accuracy = accuracy_score(y_pred, y_test)\n",
    "print(\"Accuracy Score:\",accuracy)\n",
    "print(\"*\"*55)\n",
    "\n",
    "\n",
    "clf_report = classification_report(y_pred, y_test)\n",
    "print(\"Classification report:\\n\", clf_report)"
   ]
  },
  {
   "cell_type": "code",
   "execution_count": null,
   "id": "be59a20b",
   "metadata": {},
   "outputs": [],
   "source": [
    "# Training Accuracy\n",
    "\n",
    "y_pred_train = svm_clf.predict(x_train)\n",
    "\n",
    "cnf_matrix = confusion_matrix(y_pred_train, y_train)\n",
    "print(\"Confusion Matrix:\\n\", cnf_matrix)\n",
    "print(\"*\"*55)\n",
    "\n",
    "accuracy = accuracy_score(y_pred_train, y_train)\n",
    "print(\"Accuracy Score:\",accuracy)\n",
    "print(\"*\"*55)\n",
    "\n",
    "\n",
    "clf_report = classification_report(y_pred_train, y_train)\n",
    "print(\"Classification report:\\n\", clf_report)"
   ]
  },
  {
   "cell_type": "markdown",
   "id": "66cf7a2c",
   "metadata": {},
   "source": [
    "# RandomForestClassifier"
   ]
  },
  {
   "cell_type": "code",
   "execution_count": null,
   "id": "ae5b6a87",
   "metadata": {},
   "outputs": [],
   "source": [
    "from sklearn.ensemble import RandomForestClassifier"
   ]
  },
  {
   "cell_type": "code",
   "execution_count": null,
   "id": "87345f84",
   "metadata": {},
   "outputs": [],
   "source": [
    "model = RandomForestClassifier(random_state=7)"
   ]
  },
  {
   "cell_type": "code",
   "execution_count": null,
   "id": "751455cf",
   "metadata": {},
   "outputs": [],
   "source": [
    "model.fit(x_train,y_train)"
   ]
  },
  {
   "cell_type": "code",
   "execution_count": null,
   "id": "92c40007",
   "metadata": {},
   "outputs": [],
   "source": [
    "model.score(x_train,y_train)"
   ]
  },
  {
   "cell_type": "code",
   "execution_count": null,
   "id": "95fc62fe",
   "metadata": {},
   "outputs": [],
   "source": [
    "model.score(x_test,y_test)"
   ]
  },
  {
   "cell_type": "code",
   "execution_count": null,
   "id": "b6edf878",
   "metadata": {},
   "outputs": [],
   "source": [
    "model.feature_importances_"
   ]
  },
  {
   "cell_type": "code",
   "execution_count": null,
   "id": "2c375270",
   "metadata": {},
   "outputs": [],
   "source": [
    "pd.Series(model.feature_importances_,index=x.columns).sort_values(ascending=False)"
   ]
  },
  {
   "cell_type": "markdown",
   "id": "dbde1a5c",
   "metadata": {},
   "source": [
    "### GridSearchCV "
   ]
  },
  {
   "cell_type": "code",
   "execution_count": null,
   "id": "86c47958",
   "metadata": {},
   "outputs": [],
   "source": [
    "from sklearn.model_selection import GridSearchCV"
   ]
  },
  {
   "cell_type": "code",
   "execution_count": null,
   "id": "b23d6e31",
   "metadata": {},
   "outputs": [],
   "source": [
    "grid_model = GridSearchCV(RandomForestClassifier(),param_grid={'n_estimators':np.arange(98,102),\n",
    "                                \"criterion\":[\"gini\", \"entropy\"],\n",
    "                                'max_depth':np.arange(3,5),\n",
    "                                'min_samples_split': np.arange(5,7),\n",
    "                                'min_samples_leaf':np.arange(2,4),\n",
    "                                'max_features':['sqrt','log2']})\n",
    "grid_model.fit(x_train,y_train)"
   ]
  },
  {
   "cell_type": "code",
   "execution_count": null,
   "id": "4b03b8c3",
   "metadata": {},
   "outputs": [],
   "source": [
    "gscv = grid_model.best_estimator_\n",
    "gscv"
   ]
  },
  {
   "cell_type": "code",
   "execution_count": null,
   "id": "bd41bdb9",
   "metadata": {},
   "outputs": [],
   "source": [
    "gscv.fit(x_train,y_train)"
   ]
  },
  {
   "cell_type": "code",
   "execution_count": null,
   "id": "bb068856",
   "metadata": {},
   "outputs": [],
   "source": [
    "gscv.score(x_train,y_train)"
   ]
  },
  {
   "cell_type": "code",
   "execution_count": null,
   "id": "f50552a0",
   "metadata": {},
   "outputs": [],
   "source": [
    "gscv.score(x_test,y_test)"
   ]
  },
  {
   "cell_type": "markdown",
   "id": "c379a487",
   "metadata": {},
   "source": [
    "### Customers Point of View"
   ]
  },
  {
   "cell_type": "code",
   "execution_count": null,
   "id": "5ee88e2f",
   "metadata": {},
   "outputs": [],
   "source": [
    "# Columns:-\n",
    "1. Service by Mart (Rating)\n",
    "2. Parking (Parking Available/Not)\n",
    "3. Location\n",
    "4. Lift\n",
    "5. Transportations\n",
    "6. Discount are available (Yes/ No)\n",
    "7. Quality of Products\n",
    "8. Number of Visits\n",
    "9. Source of Visit (word of mouth, Advertisement,Social media)\n",
    "10. Hygiene\n",
    "11. All Payment Facilities are available (Yes/Not)\n",
    "12. replacment policy\n",
    "13. "
   ]
  },
  {
   "cell_type": "markdown",
   "id": "77e27a66",
   "metadata": {},
   "source": [
    "### Mart Point of View"
   ]
  },
  {
   "cell_type": "code",
   "execution_count": null,
   "id": "435d362b",
   "metadata": {},
   "outputs": [],
   "source": [
    "1. "
   ]
  },
  {
   "cell_type": "code",
   "execution_count": null,
   "id": "51dd693e",
   "metadata": {},
   "outputs": [],
   "source": [
    "pd.read_csv('supermarket_sales - Sheet1.csv')"
   ]
  },
  {
   "cell_type": "code",
   "execution_count": null,
   "id": "8acaf014",
   "metadata": {},
   "outputs": [],
   "source": [
    "s = [20,20,15,18,20,18,16,19]\n",
    "y = [19,18,19,19,19,17,18,17]"
   ]
  },
  {
   "cell_type": "code",
   "execution_count": null,
   "id": "939643e7",
   "metadata": {},
   "outputs": [],
   "source": [
    "np.var(s)"
   ]
  },
  {
   "cell_type": "code",
   "execution_count": null,
   "id": "621f55cc",
   "metadata": {},
   "outputs": [],
   "source": [
    "np.var(y)"
   ]
  },
  {
   "cell_type": "code",
   "execution_count": 70,
   "id": "d5aca84a",
   "metadata": {},
   "outputs": [
    {
     "data": {
      "text/html": [
       "<div>\n",
       "<style scoped>\n",
       "    .dataframe tbody tr th:only-of-type {\n",
       "        vertical-align: middle;\n",
       "    }\n",
       "\n",
       "    .dataframe tbody tr th {\n",
       "        vertical-align: top;\n",
       "    }\n",
       "\n",
       "    .dataframe thead th {\n",
       "        text-align: right;\n",
       "    }\n",
       "</style>\n",
       "<table border=\"1\" class=\"dataframe\">\n",
       "  <thead>\n",
       "    <tr style=\"text-align: right;\">\n",
       "      <th></th>\n",
       "      <th>0</th>\n",
       "    </tr>\n",
       "  </thead>\n",
       "  <tbody>\n",
       "    <tr>\n",
       "      <th>Customer type</th>\n",
       "      <td>1.0000</td>\n",
       "    </tr>\n",
       "    <tr>\n",
       "      <th>Gender</th>\n",
       "      <td>0.0000</td>\n",
       "    </tr>\n",
       "    <tr>\n",
       "      <th>Unit price</th>\n",
       "      <td>74.6900</td>\n",
       "    </tr>\n",
       "    <tr>\n",
       "      <th>Quantity</th>\n",
       "      <td>7.0000</td>\n",
       "    </tr>\n",
       "    <tr>\n",
       "      <th>Tax 5%</th>\n",
       "      <td>26.1415</td>\n",
       "    </tr>\n",
       "    <tr>\n",
       "      <th>Total</th>\n",
       "      <td>548.9715</td>\n",
       "    </tr>\n",
       "    <tr>\n",
       "      <th>cogs</th>\n",
       "      <td>522.8300</td>\n",
       "    </tr>\n",
       "    <tr>\n",
       "      <th>gross income</th>\n",
       "      <td>26.1415</td>\n",
       "    </tr>\n",
       "    <tr>\n",
       "      <th>Branch_A</th>\n",
       "      <td>1.0000</td>\n",
       "    </tr>\n",
       "    <tr>\n",
       "      <th>Branch_B</th>\n",
       "      <td>0.0000</td>\n",
       "    </tr>\n",
       "    <tr>\n",
       "      <th>Branch_C</th>\n",
       "      <td>0.0000</td>\n",
       "    </tr>\n",
       "    <tr>\n",
       "      <th>City_Mandalay</th>\n",
       "      <td>0.0000</td>\n",
       "    </tr>\n",
       "    <tr>\n",
       "      <th>City_Naypyitaw</th>\n",
       "      <td>0.0000</td>\n",
       "    </tr>\n",
       "    <tr>\n",
       "      <th>City_Yangon</th>\n",
       "      <td>1.0000</td>\n",
       "    </tr>\n",
       "    <tr>\n",
       "      <th>Product line_Electronic accessories</th>\n",
       "      <td>0.0000</td>\n",
       "    </tr>\n",
       "    <tr>\n",
       "      <th>Product line_Fashion accessories</th>\n",
       "      <td>0.0000</td>\n",
       "    </tr>\n",
       "    <tr>\n",
       "      <th>Product line_Food and beverages</th>\n",
       "      <td>0.0000</td>\n",
       "    </tr>\n",
       "    <tr>\n",
       "      <th>Product line_Health and beauty</th>\n",
       "      <td>1.0000</td>\n",
       "    </tr>\n",
       "    <tr>\n",
       "      <th>Product line_Home and lifestyle</th>\n",
       "      <td>0.0000</td>\n",
       "    </tr>\n",
       "    <tr>\n",
       "      <th>Product line_Sports and travel</th>\n",
       "      <td>0.0000</td>\n",
       "    </tr>\n",
       "    <tr>\n",
       "      <th>Payment_Cash</th>\n",
       "      <td>0.0000</td>\n",
       "    </tr>\n",
       "    <tr>\n",
       "      <th>Payment_Credit card</th>\n",
       "      <td>0.0000</td>\n",
       "    </tr>\n",
       "    <tr>\n",
       "      <th>Payment_Ewallet</th>\n",
       "      <td>1.0000</td>\n",
       "    </tr>\n",
       "  </tbody>\n",
       "</table>\n",
       "</div>"
      ],
      "text/plain": [
       "                                            0\n",
       "Customer type                          1.0000\n",
       "Gender                                 0.0000\n",
       "Unit price                            74.6900\n",
       "Quantity                               7.0000\n",
       "Tax 5%                                26.1415\n",
       "Total                                548.9715\n",
       "cogs                                 522.8300\n",
       "gross income                          26.1415\n",
       "Branch_A                               1.0000\n",
       "Branch_B                               0.0000\n",
       "Branch_C                               0.0000\n",
       "City_Mandalay                          0.0000\n",
       "City_Naypyitaw                         0.0000\n",
       "City_Yangon                            1.0000\n",
       "Product line_Electronic accessories    0.0000\n",
       "Product line_Fashion accessories       0.0000\n",
       "Product line_Food and beverages        0.0000\n",
       "Product line_Health and beauty         1.0000\n",
       "Product line_Home and lifestyle        0.0000\n",
       "Product line_Sports and travel         0.0000\n",
       "Payment_Cash                           0.0000\n",
       "Payment_Credit card                    0.0000\n",
       "Payment_Ewallet                        1.0000"
      ]
     },
     "execution_count": 70,
     "metadata": {},
     "output_type": "execute_result"
    }
   ],
   "source": [
    "x.head(1).T"
   ]
  },
  {
   "cell_type": "code",
   "execution_count": null,
   "id": "35c549d9",
   "metadata": {},
   "outputs": [],
   "source": [
    "Customer type\t1.0000\n",
    "Gender\t0.0000\n",
    "Unit price\t74.6900\n",
    "Quantity\t7.0000\n",
    "Tax 5%\t26.1415\n",
    "Total\t548.9715\n",
    "cogs\t522.8300\n",
    "gross income\t26.1415\n",
    "Branch_A\t1.0000\n",
    "Branch_B\t0.0000\n",
    "Branch_C\t0.0000\n",
    "City_Mandalay\t0.0000\n",
    "City_Naypyitaw\t0.0000\n",
    "City_Yangon\t1.0000\n",
    "Product line_Electronic accessories\t0.0000\n",
    "Product line_Fashion accessories\t0.0000\n",
    "Product line_Food and beverages\t0.0000\n",
    "Product line_Health and beauty\t1.0000\n",
    "Product line_Home and lifestyle\t0.0000\n",
    "Product line_Sports and travel\t0.0000\n",
    "Payment_Cash\t0.0000\n",
    "Payment_Credit card\t0.0000\n",
    "Payment_Ewallet\t1.0000\n",
    "1\n",
    "​"
   ]
  }
 ],
 "metadata": {
  "kernelspec": {
   "display_name": "Python 3 (ipykernel)",
   "language": "python",
   "name": "python3"
  },
  "language_info": {
   "codemirror_mode": {
    "name": "ipython",
    "version": 3
   },
   "file_extension": ".py",
   "mimetype": "text/x-python",
   "name": "python",
   "nbconvert_exporter": "python",
   "pygments_lexer": "ipython3",
   "version": "3.10.5"
  }
 },
 "nbformat": 4,
 "nbformat_minor": 5
}
