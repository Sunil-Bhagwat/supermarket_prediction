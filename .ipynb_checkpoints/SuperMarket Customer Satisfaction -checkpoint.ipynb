{
 "cells": [
  {
   "cell_type": "code",
   "execution_count": 878,
   "id": "d29d6926",
   "metadata": {},
   "outputs": [],
   "source": [
    "import numpy as np # linear algebra\n",
    "import pandas as pd # data processing\n",
    "\n",
    "# warning filter\n",
    "import warnings\n",
    "warnings.filterwarnings('ignore')\n",
    "\n",
    "import sqlalchemy # sql connection\n",
    "\n",
    "#To Traceback error\n",
    "import traceback\n",
    "\n",
    "# For calculating Time required to run the model\n",
    "import time\n",
    "\n",
    "from tqdm import tqdm\n",
    "\n",
    "#ploting libraries\n",
    "import matplotlib.pyplot as plt \n",
    "import seaborn as sns\n",
    "\n",
    "#feature engineering\n",
    "from sklearn.preprocessing import OneHotEncoder\n",
    "from sklearn.preprocessing import LabelEncoder\n",
    "from category_encoders import OrdinalEncoder    # Used when you want to provide dictionary    \n",
    "\n",
    "#train test split\n",
    "from sklearn.model_selection import train_test_split, GridSearchCV, RandomizedSearchCV\n",
    "\n",
    "# Scaling Down\n",
    "from sklearn.preprocessing import MinMaxScaler, StandardScaler\n",
    "\n",
    "# Imputation\n",
    "from sklearn.impute import KNNImputer\n",
    "\n",
    "#metrics\n",
    "from sklearn.metrics import mean_squared_error, mean_absolute_error, r2_score\n",
    "from sklearn.metrics import confusion_matrix, classification_report, accuracy_score\n",
    "from sklearn.metrics import precision_score, recall_score, f1_score\n",
    "from sklearn.metrics import plot_confusion_matrix \n",
    "from sklearn.metrics import roc_curve\n",
    "\n",
    "from statsmodels.stats.outliers_influence import variance_inflation_factor\n",
    "\n",
    "from sklearn.linear_model import LogisticRegression\n",
    "from sklearn.neighbors import KNeighborsRegressor,KNeighborsClassifier\n",
    "from sklearn.tree import DecisionTreeClassifier\n",
    "from sklearn.ensemble import RandomForestClassifier\n",
    "from sklearn.ensemble import AdaBoostClassifier\n",
    "from sklearn.naive_bayes import GaussianNB, MultinomialNB, BernoulliNB\n",
    "\n",
    "from sklearn.svm import SVC\n",
    "\n",
    "from imblearn.over_sampling import RandomOverSampler, SMOTE"
   ]
  },
  {
   "cell_type": "code",
   "execution_count": 879,
   "id": "c4f85222",
   "metadata": {},
   "outputs": [
    {
     "name": "stdout",
     "output_type": "stream",
     "text": [
      "Note: you may need to restart the kernel to use updated packages.\n"
     ]
    },
    {
     "name": "stderr",
     "output_type": "stream",
     "text": [
      "ERROR: Could not find a version that satisfies the requirement Datapreprocessing (from versions: none)\n",
      "ERROR: No matching distribution found for Datapreprocessing\n"
     ]
    }
   ],
   "source": [
    "pip install Datapreprocessing"
   ]
  },
  {
   "cell_type": "code",
   "execution_count": 880,
   "id": "c205cb03",
   "metadata": {},
   "outputs": [],
   "source": [
    "# #Use for Handaling Outliers\n",
    "# from learn.processing import DataPreProcessing\n",
    "\n",
    "# # For All Regressor Models\n",
    "# from learn.supervised import Regressor"
   ]
  },
  {
   "cell_type": "code",
   "execution_count": 881,
   "id": "1f288df0",
   "metadata": {},
   "outputs": [],
   "source": [
    "model_details = []\n",
    "Testing_accuracy = []\n",
    "Training_accuracy = []\n",
    "Testing_Recall = []\n",
    "Testing_Precision = []\n",
    "Testing_F1_Score = []"
   ]
  },
  {
   "cell_type": "code",
   "execution_count": 882,
   "id": "afaa8709",
   "metadata": {},
   "outputs": [
    {
     "data": {
      "text/html": [
       "<div>\n",
       "<style scoped>\n",
       "    .dataframe tbody tr th:only-of-type {\n",
       "        vertical-align: middle;\n",
       "    }\n",
       "\n",
       "    .dataframe tbody tr th {\n",
       "        vertical-align: top;\n",
       "    }\n",
       "\n",
       "    .dataframe thead th {\n",
       "        text-align: right;\n",
       "    }\n",
       "</style>\n",
       "<table border=\"1\" class=\"dataframe\">\n",
       "  <thead>\n",
       "    <tr style=\"text-align: right;\">\n",
       "      <th></th>\n",
       "      <th>Invoice ID</th>\n",
       "      <th>Branch</th>\n",
       "      <th>City</th>\n",
       "      <th>Customer type</th>\n",
       "      <th>Gender</th>\n",
       "      <th>Product line</th>\n",
       "      <th>Unit price</th>\n",
       "      <th>Quantity</th>\n",
       "      <th>Tax 5%</th>\n",
       "      <th>Total</th>\n",
       "      <th>Date</th>\n",
       "      <th>Time</th>\n",
       "      <th>Payment</th>\n",
       "      <th>cogs</th>\n",
       "      <th>gross margin percentage</th>\n",
       "      <th>gross income</th>\n",
       "      <th>Rating</th>\n",
       "    </tr>\n",
       "  </thead>\n",
       "  <tbody>\n",
       "    <tr>\n",
       "      <th>0</th>\n",
       "      <td>750-67-8428</td>\n",
       "      <td>A</td>\n",
       "      <td>Yangon</td>\n",
       "      <td>Member</td>\n",
       "      <td>Female</td>\n",
       "      <td>Health and beauty</td>\n",
       "      <td>74.69</td>\n",
       "      <td>7</td>\n",
       "      <td>26.1415</td>\n",
       "      <td>548.9715</td>\n",
       "      <td>1/5/2019</td>\n",
       "      <td>13:08</td>\n",
       "      <td>Ewallet</td>\n",
       "      <td>522.83</td>\n",
       "      <td>4.761905</td>\n",
       "      <td>26.1415</td>\n",
       "      <td>9.1</td>\n",
       "    </tr>\n",
       "    <tr>\n",
       "      <th>1</th>\n",
       "      <td>226-31-3081</td>\n",
       "      <td>C</td>\n",
       "      <td>Naypyitaw</td>\n",
       "      <td>Normal</td>\n",
       "      <td>Female</td>\n",
       "      <td>Electronic accessories</td>\n",
       "      <td>15.28</td>\n",
       "      <td>5</td>\n",
       "      <td>3.8200</td>\n",
       "      <td>80.2200</td>\n",
       "      <td>3/8/2019</td>\n",
       "      <td>10:29</td>\n",
       "      <td>Cash</td>\n",
       "      <td>76.40</td>\n",
       "      <td>4.761905</td>\n",
       "      <td>3.8200</td>\n",
       "      <td>9.6</td>\n",
       "    </tr>\n",
       "  </tbody>\n",
       "</table>\n",
       "</div>"
      ],
      "text/plain": [
       "    Invoice ID Branch       City Customer type  Gender  \\\n",
       "0  750-67-8428      A     Yangon        Member  Female   \n",
       "1  226-31-3081      C  Naypyitaw        Normal  Female   \n",
       "\n",
       "             Product line  Unit price  Quantity   Tax 5%     Total      Date  \\\n",
       "0       Health and beauty       74.69         7  26.1415  548.9715  1/5/2019   \n",
       "1  Electronic accessories       15.28         5   3.8200   80.2200  3/8/2019   \n",
       "\n",
       "    Time  Payment    cogs  gross margin percentage  gross income  Rating  \n",
       "0  13:08  Ewallet  522.83                 4.761905       26.1415     9.1  \n",
       "1  10:29     Cash   76.40                 4.761905        3.8200     9.6  "
      ]
     },
     "execution_count": 882,
     "metadata": {},
     "output_type": "execute_result"
    }
   ],
   "source": [
    "df = pd.read_csv('supermarket_sales - Sheet1.csv')\n",
    "df.head(2)"
   ]
  },
  {
   "cell_type": "code",
   "execution_count": 883,
   "id": "31d88632",
   "metadata": {},
   "outputs": [
    {
     "data": {
      "text/plain": [
       "0"
      ]
     },
     "execution_count": 883,
     "metadata": {},
     "output_type": "execute_result"
    }
   ],
   "source": [
    "#Checking Duplicates\n",
    "df.duplicated().sum()"
   ]
  },
  {
   "cell_type": "code",
   "execution_count": 884,
   "id": "c4e6bea8",
   "metadata": {},
   "outputs": [
    {
     "name": "stdout",
     "output_type": "stream",
     "text": [
      "<class 'pandas.core.frame.DataFrame'>\n",
      "RangeIndex: 1000 entries, 0 to 999\n",
      "Data columns (total 17 columns):\n",
      " #   Column                   Non-Null Count  Dtype  \n",
      "---  ------                   --------------  -----  \n",
      " 0   Invoice ID               1000 non-null   object \n",
      " 1   Branch                   1000 non-null   object \n",
      " 2   City                     1000 non-null   object \n",
      " 3   Customer type            1000 non-null   object \n",
      " 4   Gender                   1000 non-null   object \n",
      " 5   Product line             1000 non-null   object \n",
      " 6   Unit price               1000 non-null   float64\n",
      " 7   Quantity                 1000 non-null   int64  \n",
      " 8   Tax 5%                   1000 non-null   float64\n",
      " 9   Total                    1000 non-null   float64\n",
      " 10  Date                     1000 non-null   object \n",
      " 11  Time                     1000 non-null   object \n",
      " 12  Payment                  1000 non-null   object \n",
      " 13  cogs                     1000 non-null   float64\n",
      " 14  gross margin percentage  1000 non-null   float64\n",
      " 15  gross income             1000 non-null   float64\n",
      " 16  Rating                   1000 non-null   float64\n",
      "dtypes: float64(7), int64(1), object(9)\n",
      "memory usage: 132.9+ KB\n"
     ]
    }
   ],
   "source": [
    "df.info()"
   ]
  },
  {
   "cell_type": "code",
   "execution_count": 885,
   "id": "905f7104",
   "metadata": {},
   "outputs": [
    {
     "data": {
      "text/plain": [
       "Invoice ID                 0\n",
       "Branch                     0\n",
       "City                       0\n",
       "Customer type              0\n",
       "Gender                     0\n",
       "Product line               0\n",
       "Unit price                 0\n",
       "Quantity                   0\n",
       "Tax 5%                     0\n",
       "Total                      0\n",
       "Date                       0\n",
       "Time                       0\n",
       "Payment                    0\n",
       "cogs                       0\n",
       "gross margin percentage    0\n",
       "gross income               0\n",
       "Rating                     0\n",
       "dtype: int64"
      ]
     },
     "execution_count": 885,
     "metadata": {},
     "output_type": "execute_result"
    }
   ],
   "source": [
    "df.isna().sum()"
   ]
  },
  {
   "cell_type": "markdown",
   "id": "9b181869",
   "metadata": {},
   "source": [
    "### 1. Invoice ID"
   ]
  },
  {
   "cell_type": "code",
   "execution_count": 886,
   "id": "87f17477",
   "metadata": {},
   "outputs": [
    {
     "data": {
      "text/plain": [
       "750-67-8428    1\n",
       "642-61-4706    1\n",
       "816-72-8853    1\n",
       "491-38-3499    1\n",
       "322-02-2271    1\n",
       "              ..\n",
       "633-09-3463    1\n",
       "374-17-3652    1\n",
       "378-07-7001    1\n",
       "433-75-6987    1\n",
       "849-09-3807    1\n",
       "Name: Invoice ID, Length: 1000, dtype: int64"
      ]
     },
     "execution_count": 886,
     "metadata": {},
     "output_type": "execute_result"
    }
   ],
   "source": [
    "df['Invoice ID'].value_counts()"
   ]
  },
  {
   "cell_type": "raw",
   "id": "9c09371f",
   "metadata": {},
   "source": [
    "In Invoice ID column all the values are unique, so we drop this column"
   ]
  },
  {
   "cell_type": "code",
   "execution_count": 887,
   "id": "db53a624",
   "metadata": {},
   "outputs": [],
   "source": [
    "df.drop(columns=['Invoice ID'],axis=1,inplace=True)"
   ]
  },
  {
   "cell_type": "markdown",
   "id": "3afd6a65",
   "metadata": {},
   "source": [
    "### 2. Branch"
   ]
  },
  {
   "cell_type": "code",
   "execution_count": 888,
   "id": "c68b6e02",
   "metadata": {},
   "outputs": [
    {
     "data": {
      "text/plain": [
       "A    340\n",
       "B    332\n",
       "C    328\n",
       "Name: Branch, dtype: int64"
      ]
     },
     "execution_count": 888,
     "metadata": {},
     "output_type": "execute_result"
    }
   ],
   "source": [
    "df['Branch'].value_counts()"
   ]
  },
  {
   "cell_type": "raw",
   "id": "74328dc1",
   "metadata": {},
   "source": [
    "We are use OneHotEncoder Here"
   ]
  },
  {
   "cell_type": "code",
   "execution_count": 889,
   "id": "16a07f2b",
   "metadata": {},
   "outputs": [
    {
     "data": {
      "text/plain": [
       "array([[1, 0, 0],\n",
       "       [0, 0, 1],\n",
       "       [1, 0, 0],\n",
       "       ...,\n",
       "       [1, 0, 0],\n",
       "       [1, 0, 0],\n",
       "       [1, 0, 0]])"
      ]
     },
     "execution_count": 889,
     "metadata": {},
     "output_type": "execute_result"
    }
   ],
   "source": [
    "One_hot_encoder = OneHotEncoder(dtype=int,sparse=False)\n",
    "One_hot_encoder.fit_transform(df[['Branch']])"
   ]
  },
  {
   "cell_type": "code",
   "execution_count": 890,
   "id": "f7336da4",
   "metadata": {},
   "outputs": [
    {
     "data": {
      "text/plain": [
       "array(['A', 'B', 'C'], dtype=object)"
      ]
     },
     "execution_count": 890,
     "metadata": {},
     "output_type": "execute_result"
    }
   ],
   "source": [
    "One_hot_encoder.categories_[0]"
   ]
  },
  {
   "cell_type": "code",
   "execution_count": 891,
   "id": "8203e570",
   "metadata": {
    "scrolled": true
   },
   "outputs": [],
   "source": [
    "df1 = pd.DataFrame(One_hot_encoder.fit_transform(df[['Branch']]))\n",
    "df1.columns= list(map(lambda x:'Branch_'+x,One_hot_encoder.categories_[0].tolist()))"
   ]
  },
  {
   "cell_type": "code",
   "execution_count": 892,
   "id": "4e0d568e",
   "metadata": {},
   "outputs": [],
   "source": [
    "df = pd.concat([df,df1],axis=1)"
   ]
  },
  {
   "cell_type": "code",
   "execution_count": 893,
   "id": "cb9b42dc",
   "metadata": {},
   "outputs": [],
   "source": [
    "df.drop(columns=['Branch'],inplace=True)"
   ]
  },
  {
   "cell_type": "markdown",
   "id": "bdfad4ef",
   "metadata": {},
   "source": [
    "### 3. City"
   ]
  },
  {
   "cell_type": "code",
   "execution_count": 894,
   "id": "e9d9ed74",
   "metadata": {},
   "outputs": [
    {
     "data": {
      "text/plain": [
       "Yangon       340\n",
       "Mandalay     332\n",
       "Naypyitaw    328\n",
       "Name: City, dtype: int64"
      ]
     },
     "execution_count": 894,
     "metadata": {},
     "output_type": "execute_result"
    }
   ],
   "source": [
    "df['City'].value_counts()"
   ]
  },
  {
   "cell_type": "raw",
   "id": "834c7d11",
   "metadata": {},
   "source": [
    "We are use OneHotEncoder Here"
   ]
  },
  {
   "cell_type": "code",
   "execution_count": 895,
   "id": "d2cd2544",
   "metadata": {},
   "outputs": [
    {
     "data": {
      "text/plain": [
       "array([[0, 0, 1],\n",
       "       [0, 1, 0],\n",
       "       [0, 0, 1],\n",
       "       ...,\n",
       "       [0, 0, 1],\n",
       "       [0, 0, 1],\n",
       "       [0, 0, 1]])"
      ]
     },
     "execution_count": 895,
     "metadata": {},
     "output_type": "execute_result"
    }
   ],
   "source": [
    "One_hot_encoder = OneHotEncoder(dtype=int,sparse=False)\n",
    "One_hot_encoder.fit_transform(df[['City']])"
   ]
  },
  {
   "cell_type": "code",
   "execution_count": 896,
   "id": "7a8118fd",
   "metadata": {},
   "outputs": [
    {
     "data": {
      "text/plain": [
       "array(['Mandalay', 'Naypyitaw', 'Yangon'], dtype=object)"
      ]
     },
     "execution_count": 896,
     "metadata": {},
     "output_type": "execute_result"
    }
   ],
   "source": [
    "One_hot_encoder.categories_[0]"
   ]
  },
  {
   "cell_type": "code",
   "execution_count": 897,
   "id": "732113e4",
   "metadata": {
    "scrolled": true
   },
   "outputs": [],
   "source": [
    "df1 = pd.DataFrame(One_hot_encoder.fit_transform(df[['City']]))\n",
    "df1.columns= list(map(lambda x:'City_'+x,One_hot_encoder.categories_[0].tolist()))"
   ]
  },
  {
   "cell_type": "code",
   "execution_count": 898,
   "id": "37842cd7",
   "metadata": {},
   "outputs": [],
   "source": [
    "df = pd.concat([df,df1],axis=1)"
   ]
  },
  {
   "cell_type": "code",
   "execution_count": 899,
   "id": "959baa9b",
   "metadata": {},
   "outputs": [],
   "source": [
    "df.drop(columns=['City'],inplace=True)"
   ]
  },
  {
   "cell_type": "markdown",
   "id": "3ce2ac9d",
   "metadata": {},
   "source": [
    "### 4. Customer type"
   ]
  },
  {
   "cell_type": "code",
   "execution_count": 900,
   "id": "797f6257",
   "metadata": {},
   "outputs": [],
   "source": [
    "df['Customer type'].value_counts()\n",
    "df[\"Customer_type\"] = df['Customer type']\n",
    "df.drop(['Customer type'],axis=1,inplace=True)"
   ]
  },
  {
   "cell_type": "raw",
   "id": "dcda34c0",
   "metadata": {},
   "source": [
    "This column contains Ordinal data, so we use Label Encoder"
   ]
  },
  {
   "cell_type": "code",
   "execution_count": 901,
   "id": "69f8a84e",
   "metadata": {},
   "outputs": [],
   "source": [
    "values_Customer_type =  {'Normal': 0, 'Member': 1}"
   ]
  },
  {
   "cell_type": "code",
   "execution_count": 902,
   "id": "6d8c6607",
   "metadata": {},
   "outputs": [],
   "source": [
    "mapping = [{\n",
    "    'col': 'Customer_type',\n",
    "    'mapping': values_Customer_type\n",
    "}]"
   ]
  },
  {
   "cell_type": "code",
   "execution_count": 903,
   "id": "b93c178f",
   "metadata": {},
   "outputs": [],
   "source": [
    "encoder = OrdinalEncoder(cols=['Customer_type'], mapping=mapping)\n",
    "df['Customer_type'] = encoder.fit_transform(df['Customer_type'])"
   ]
  },
  {
   "cell_type": "code",
   "execution_count": 904,
   "id": "faae08bf",
   "metadata": {},
   "outputs": [
    {
     "data": {
      "text/plain": [
       "{'Normal': 0, 'Member': 1}"
      ]
     },
     "execution_count": 904,
     "metadata": {},
     "output_type": "execute_result"
    }
   ],
   "source": [
    "values_Customer_type"
   ]
  },
  {
   "cell_type": "markdown",
   "id": "5b9d1f8b",
   "metadata": {},
   "source": [
    "# Unit Price "
   ]
  },
  {
   "cell_type": "code",
   "execution_count": 905,
   "id": "3ead8e73",
   "metadata": {},
   "outputs": [
    {
     "data": {
      "text/plain": [
       "<AxesSubplot:>"
      ]
     },
     "execution_count": 905,
     "metadata": {},
     "output_type": "execute_result"
    },
    {
     "data": {
      "image/png": "[encoded data removed]",
      "text/plain": [
       "<Figure size 432x288 with 1 Axes>"
      ]
     },
     "metadata": {
      "needs_background": "light"
     },
     "output_type": "display_data"
    }
   ],
   "source": [
    "df[[\"Unit price\"]].boxplot()"
   ]
  },
  {
   "cell_type": "code",
   "execution_count": 906,
   "id": "1d40b3a8",
   "metadata": {},
   "outputs": [],
   "source": [
    "df[\"Unit_price\"] = df[\"Unit price\"]\n",
    "df.drop(columns=[\"Unit price\"],axis=1,inplace=True)"
   ]
  },
  {
   "cell_type": "markdown",
   "id": "567b0602",
   "metadata": {},
   "source": [
    "# Tax 5%"
   ]
  },
  {
   "cell_type": "code",
   "execution_count": 907,
   "id": "bb02bc44",
   "metadata": {},
   "outputs": [],
   "source": [
    "df[\"Tax_5\"] = df[\"Tax 5%\"]\n",
    "df.drop(columns=[\"Tax 5%\"],axis=1,inplace=True)"
   ]
  },
  {
   "cell_type": "markdown",
   "id": "7c1d441c",
   "metadata": {},
   "source": [
    "# gross income"
   ]
  },
  {
   "cell_type": "code",
   "execution_count": 908,
   "id": "f7af2a0b",
   "metadata": {},
   "outputs": [],
   "source": [
    "df[\"gross income\"]\n",
    "df[\"gross_income\"] = df[\"gross income\"]\n",
    "df.drop(columns=[\"gross income\"],axis=1,inplace=True)"
   ]
  },
  {
   "cell_type": "markdown",
   "id": "77eb6553",
   "metadata": {},
   "source": [
    "### 5. Gender"
   ]
  },
  {
   "cell_type": "code",
   "execution_count": 909,
   "id": "313558d1",
   "metadata": {},
   "outputs": [
    {
     "data": {
      "text/plain": [
       "Female    501\n",
       "Male      499\n",
       "Name: Gender, dtype: int64"
      ]
     },
     "execution_count": 909,
     "metadata": {},
     "output_type": "execute_result"
    }
   ],
   "source": [
    "df['Gender'].value_counts()"
   ]
  },
  {
   "cell_type": "raw",
   "id": "e08c868e",
   "metadata": {},
   "source": [
    "Gender is a ordinal data so we do label encoding"
   ]
  },
  {
   "cell_type": "code",
   "execution_count": 910,
   "id": "f5c5c4ee",
   "metadata": {},
   "outputs": [],
   "source": [
    "encoder = LabelEncoder()\n",
    "df['Gender'] = encoder.fit_transform(df['Gender'])"
   ]
  },
  {
   "cell_type": "code",
   "execution_count": 911,
   "id": "9ac52ea4",
   "metadata": {},
   "outputs": [
    {
     "data": {
      "text/plain": [
       "{'Female': 0, 'Male': 1}"
      ]
     },
     "execution_count": 911,
     "metadata": {},
     "output_type": "execute_result"
    }
   ],
   "source": [
    "values_Gender = dict(zip(list(encoder.classes_),list(range(len(encoder.classes_)))))\n",
    "values_Gender"
   ]
  },
  {
   "cell_type": "markdown",
   "id": "7ef4769a",
   "metadata": {},
   "source": [
    "### 6. Product line"
   ]
  },
  {
   "cell_type": "code",
   "execution_count": 912,
   "id": "fb38119c",
   "metadata": {},
   "outputs": [],
   "source": [
    "df['Product line'].value_counts()\n",
    "df[\"Product_line\"] = df['Product line']\n",
    "df.drop(['Product line'],axis=1,inplace=True)"
   ]
  },
  {
   "cell_type": "raw",
   "id": "7796b3e4",
   "metadata": {},
   "source": [
    "We are use OneHotEncoder Here"
   ]
  },
  {
   "cell_type": "code",
   "execution_count": 913,
   "id": "5cf2162e",
   "metadata": {},
   "outputs": [
    {
     "data": {
      "text/plain": [
       "array([[0, 0, 0, 1, 0, 0],\n",
       "       [1, 0, 0, 0, 0, 0],\n",
       "       [0, 0, 0, 0, 1, 0],\n",
       "       ...,\n",
       "       [0, 0, 1, 0, 0, 0],\n",
       "       [0, 0, 0, 0, 1, 0],\n",
       "       [0, 1, 0, 0, 0, 0]])"
      ]
     },
     "execution_count": 913,
     "metadata": {},
     "output_type": "execute_result"
    }
   ],
   "source": [
    "One_hot_encoder = OneHotEncoder(dtype=int,sparse=False)\n",
    "One_hot_encoder.fit_transform(df[['Product_line']])"
   ]
  },
  {
   "cell_type": "code",
   "execution_count": 914,
   "id": "7ffcbe54",
   "metadata": {},
   "outputs": [
    {
     "data": {
      "text/plain": [
       "array(['Electronic accessories', 'Fashion accessories',\n",
       "       'Food and beverages', 'Health and beauty', 'Home and lifestyle',\n",
       "       'Sports and travel'], dtype=object)"
      ]
     },
     "execution_count": 914,
     "metadata": {},
     "output_type": "execute_result"
    }
   ],
   "source": [
    "One_hot_encoder.categories_[0]"
   ]
  },
  {
   "cell_type": "code",
   "execution_count": 915,
   "id": "60c02d2f",
   "metadata": {
    "scrolled": true
   },
   "outputs": [],
   "source": [
    "df1 = pd.DataFrame(One_hot_encoder.fit_transform(df[['Product_line']]))\n",
    "df1.columns= list(map(lambda x:'Product_line_'+x,One_hot_encoder.categories_[0].tolist()))"
   ]
  },
  {
   "cell_type": "code",
   "execution_count": 916,
   "id": "789a8e76",
   "metadata": {},
   "outputs": [],
   "source": [
    "df = pd.concat([df,df1],axis=1)"
   ]
  },
  {
   "cell_type": "code",
   "execution_count": 917,
   "id": "0ab480af",
   "metadata": {},
   "outputs": [],
   "source": [
    "df.drop(columns=['Product_line'],inplace=True)"
   ]
  },
  {
   "cell_type": "markdown",
   "id": "392fd4e8",
   "metadata": {},
   "source": [
    "### 7. Date and Time"
   ]
  },
  {
   "cell_type": "raw",
   "id": "20b79df3",
   "metadata": {},
   "source": [
    "we are dropping Date and Time columns"
   ]
  },
  {
   "cell_type": "code",
   "execution_count": 918,
   "id": "c4229905",
   "metadata": {},
   "outputs": [],
   "source": [
    "df.drop(columns=['Date','Time'],inplace=True)"
   ]
  },
  {
   "cell_type": "markdown",
   "id": "765aa9a3",
   "metadata": {},
   "source": [
    "### 8. Payment"
   ]
  },
  {
   "cell_type": "code",
   "execution_count": 919,
   "id": "5b484ff4",
   "metadata": {},
   "outputs": [
    {
     "data": {
      "text/plain": [
       "Ewallet        345\n",
       "Cash           344\n",
       "Credit card    311\n",
       "Name: Payment, dtype: int64"
      ]
     },
     "execution_count": 919,
     "metadata": {},
     "output_type": "execute_result"
    }
   ],
   "source": [
    "df['Payment'].value_counts()"
   ]
  },
  {
   "cell_type": "raw",
   "id": "5786c1dd",
   "metadata": {},
   "source": [
    "We are use OneHotEncoder Here"
   ]
  },
  {
   "cell_type": "code",
   "execution_count": 920,
   "id": "f400d454",
   "metadata": {},
   "outputs": [
    {
     "data": {
      "text/plain": [
       "array([[0, 0, 1],\n",
       "       [1, 0, 0],\n",
       "       [0, 1, 0],\n",
       "       ...,\n",
       "       [1, 0, 0],\n",
       "       [1, 0, 0],\n",
       "       [1, 0, 0]])"
      ]
     },
     "execution_count": 920,
     "metadata": {},
     "output_type": "execute_result"
    }
   ],
   "source": [
    "One_hot_encoder = OneHotEncoder(dtype=int,sparse=False)\n",
    "One_hot_encoder.fit_transform(df[['Payment']])"
   ]
  },
  {
   "cell_type": "code",
   "execution_count": 921,
   "id": "84d47bfd",
   "metadata": {},
   "outputs": [
    {
     "data": {
      "text/plain": [
       "array(['Cash', 'Credit card', 'Ewallet'], dtype=object)"
      ]
     },
     "execution_count": 921,
     "metadata": {},
     "output_type": "execute_result"
    }
   ],
   "source": [
    "One_hot_encoder.categories_[0]"
   ]
  },
  {
   "cell_type": "code",
   "execution_count": 922,
   "id": "dec21114",
   "metadata": {
    "scrolled": true
   },
   "outputs": [],
   "source": [
    "df1 = pd.DataFrame(One_hot_encoder.fit_transform(df[['Payment']]))\n",
    "df1.columns= list(map(lambda x:'Payment_'+x,One_hot_encoder.categories_[0].tolist()))"
   ]
  },
  {
   "cell_type": "code",
   "execution_count": 923,
   "id": "4a010e7a",
   "metadata": {},
   "outputs": [],
   "source": [
    "df = pd.concat([df,df1],axis=1)"
   ]
  },
  {
   "cell_type": "code",
   "execution_count": 924,
   "id": "4bb3a804",
   "metadata": {},
   "outputs": [],
   "source": [
    "df.drop(columns=['Payment'],inplace=True)"
   ]
  },
  {
   "cell_type": "markdown",
   "id": "fae14b09",
   "metadata": {},
   "source": [
    "### 9. gross margin percentage"
   ]
  },
  {
   "cell_type": "code",
   "execution_count": 925,
   "id": "eae6a6ef",
   "metadata": {},
   "outputs": [
    {
     "data": {
      "text/plain": [
       "4.761905    1000\n",
       "Name: gross margin percentage, dtype: int64"
      ]
     },
     "execution_count": 925,
     "metadata": {},
     "output_type": "execute_result"
    }
   ],
   "source": [
    "df['gross margin percentage'].value_counts()\n"
   ]
  },
  {
   "cell_type": "code",
   "execution_count": 926,
   "id": "782a5237",
   "metadata": {},
   "outputs": [],
   "source": [
    "df.drop(columns=['gross margin percentage'],inplace=True)"
   ]
  },
  {
   "cell_type": "code",
   "execution_count": 927,
   "id": "23444dd0",
   "metadata": {},
   "outputs": [
    {
     "data": {
      "text/html": [
       "<div>\n",
       "<style scoped>\n",
       "    .dataframe tbody tr th:only-of-type {\n",
       "        vertical-align: middle;\n",
       "    }\n",
       "\n",
       "    .dataframe tbody tr th {\n",
       "        vertical-align: top;\n",
       "    }\n",
       "\n",
       "    .dataframe thead th {\n",
       "        text-align: right;\n",
       "    }\n",
       "</style>\n",
       "<table border=\"1\" class=\"dataframe\">\n",
       "  <thead>\n",
       "    <tr style=\"text-align: right;\">\n",
       "      <th></th>\n",
       "      <th>Gender</th>\n",
       "      <th>Quantity</th>\n",
       "      <th>Total</th>\n",
       "      <th>cogs</th>\n",
       "      <th>Rating</th>\n",
       "      <th>Branch_A</th>\n",
       "      <th>Branch_B</th>\n",
       "      <th>Branch_C</th>\n",
       "      <th>City_Mandalay</th>\n",
       "      <th>City_Naypyitaw</th>\n",
       "      <th>...</th>\n",
       "      <th>gross_income</th>\n",
       "      <th>Product_line_Electronic accessories</th>\n",
       "      <th>Product_line_Fashion accessories</th>\n",
       "      <th>Product_line_Food and beverages</th>\n",
       "      <th>Product_line_Health and beauty</th>\n",
       "      <th>Product_line_Home and lifestyle</th>\n",
       "      <th>Product_line_Sports and travel</th>\n",
       "      <th>Payment_Cash</th>\n",
       "      <th>Payment_Credit card</th>\n",
       "      <th>Payment_Ewallet</th>\n",
       "    </tr>\n",
       "  </thead>\n",
       "  <tbody>\n",
       "    <tr>\n",
       "      <th>0</th>\n",
       "      <td>0</td>\n",
       "      <td>7</td>\n",
       "      <td>548.9715</td>\n",
       "      <td>522.83</td>\n",
       "      <td>9.1</td>\n",
       "      <td>1</td>\n",
       "      <td>0</td>\n",
       "      <td>0</td>\n",
       "      <td>0</td>\n",
       "      <td>0</td>\n",
       "      <td>...</td>\n",
       "      <td>26.1415</td>\n",
       "      <td>0</td>\n",
       "      <td>0</td>\n",
       "      <td>0</td>\n",
       "      <td>1</td>\n",
       "      <td>0</td>\n",
       "      <td>0</td>\n",
       "      <td>0</td>\n",
       "      <td>0</td>\n",
       "      <td>1</td>\n",
       "    </tr>\n",
       "    <tr>\n",
       "      <th>1</th>\n",
       "      <td>0</td>\n",
       "      <td>5</td>\n",
       "      <td>80.2200</td>\n",
       "      <td>76.40</td>\n",
       "      <td>9.6</td>\n",
       "      <td>0</td>\n",
       "      <td>0</td>\n",
       "      <td>1</td>\n",
       "      <td>0</td>\n",
       "      <td>1</td>\n",
       "      <td>...</td>\n",
       "      <td>3.8200</td>\n",
       "      <td>1</td>\n",
       "      <td>0</td>\n",
       "      <td>0</td>\n",
       "      <td>0</td>\n",
       "      <td>0</td>\n",
       "      <td>0</td>\n",
       "      <td>1</td>\n",
       "      <td>0</td>\n",
       "      <td>0</td>\n",
       "    </tr>\n",
       "    <tr>\n",
       "      <th>2</th>\n",
       "      <td>1</td>\n",
       "      <td>7</td>\n",
       "      <td>340.5255</td>\n",
       "      <td>324.31</td>\n",
       "      <td>7.4</td>\n",
       "      <td>1</td>\n",
       "      <td>0</td>\n",
       "      <td>0</td>\n",
       "      <td>0</td>\n",
       "      <td>0</td>\n",
       "      <td>...</td>\n",
       "      <td>16.2155</td>\n",
       "      <td>0</td>\n",
       "      <td>0</td>\n",
       "      <td>0</td>\n",
       "      <td>0</td>\n",
       "      <td>1</td>\n",
       "      <td>0</td>\n",
       "      <td>0</td>\n",
       "      <td>1</td>\n",
       "      <td>0</td>\n",
       "    </tr>\n",
       "    <tr>\n",
       "      <th>3</th>\n",
       "      <td>1</td>\n",
       "      <td>8</td>\n",
       "      <td>489.0480</td>\n",
       "      <td>465.76</td>\n",
       "      <td>8.4</td>\n",
       "      <td>1</td>\n",
       "      <td>0</td>\n",
       "      <td>0</td>\n",
       "      <td>0</td>\n",
       "      <td>0</td>\n",
       "      <td>...</td>\n",
       "      <td>23.2880</td>\n",
       "      <td>0</td>\n",
       "      <td>0</td>\n",
       "      <td>0</td>\n",
       "      <td>1</td>\n",
       "      <td>0</td>\n",
       "      <td>0</td>\n",
       "      <td>0</td>\n",
       "      <td>0</td>\n",
       "      <td>1</td>\n",
       "    </tr>\n",
       "    <tr>\n",
       "      <th>4</th>\n",
       "      <td>1</td>\n",
       "      <td>7</td>\n",
       "      <td>634.3785</td>\n",
       "      <td>604.17</td>\n",
       "      <td>5.3</td>\n",
       "      <td>1</td>\n",
       "      <td>0</td>\n",
       "      <td>0</td>\n",
       "      <td>0</td>\n",
       "      <td>0</td>\n",
       "      <td>...</td>\n",
       "      <td>30.2085</td>\n",
       "      <td>0</td>\n",
       "      <td>0</td>\n",
       "      <td>0</td>\n",
       "      <td>0</td>\n",
       "      <td>0</td>\n",
       "      <td>1</td>\n",
       "      <td>0</td>\n",
       "      <td>0</td>\n",
       "      <td>1</td>\n",
       "    </tr>\n",
       "    <tr>\n",
       "      <th>...</th>\n",
       "      <td>...</td>\n",
       "      <td>...</td>\n",
       "      <td>...</td>\n",
       "      <td>...</td>\n",
       "      <td>...</td>\n",
       "      <td>...</td>\n",
       "      <td>...</td>\n",
       "      <td>...</td>\n",
       "      <td>...</td>\n",
       "      <td>...</td>\n",
       "      <td>...</td>\n",
       "      <td>...</td>\n",
       "      <td>...</td>\n",
       "      <td>...</td>\n",
       "      <td>...</td>\n",
       "      <td>...</td>\n",
       "      <td>...</td>\n",
       "      <td>...</td>\n",
       "      <td>...</td>\n",
       "      <td>...</td>\n",
       "      <td>...</td>\n",
       "    </tr>\n",
       "    <tr>\n",
       "      <th>995</th>\n",
       "      <td>1</td>\n",
       "      <td>1</td>\n",
       "      <td>42.3675</td>\n",
       "      <td>40.35</td>\n",
       "      <td>6.2</td>\n",
       "      <td>0</td>\n",
       "      <td>0</td>\n",
       "      <td>1</td>\n",
       "      <td>0</td>\n",
       "      <td>1</td>\n",
       "      <td>...</td>\n",
       "      <td>2.0175</td>\n",
       "      <td>0</td>\n",
       "      <td>0</td>\n",
       "      <td>0</td>\n",
       "      <td>1</td>\n",
       "      <td>0</td>\n",
       "      <td>0</td>\n",
       "      <td>0</td>\n",
       "      <td>0</td>\n",
       "      <td>1</td>\n",
       "    </tr>\n",
       "    <tr>\n",
       "      <th>996</th>\n",
       "      <td>0</td>\n",
       "      <td>10</td>\n",
       "      <td>1022.4900</td>\n",
       "      <td>973.80</td>\n",
       "      <td>4.4</td>\n",
       "      <td>0</td>\n",
       "      <td>1</td>\n",
       "      <td>0</td>\n",
       "      <td>1</td>\n",
       "      <td>0</td>\n",
       "      <td>...</td>\n",
       "      <td>48.6900</td>\n",
       "      <td>0</td>\n",
       "      <td>0</td>\n",
       "      <td>0</td>\n",
       "      <td>0</td>\n",
       "      <td>1</td>\n",
       "      <td>0</td>\n",
       "      <td>0</td>\n",
       "      <td>0</td>\n",
       "      <td>1</td>\n",
       "    </tr>\n",
       "    <tr>\n",
       "      <th>997</th>\n",
       "      <td>1</td>\n",
       "      <td>1</td>\n",
       "      <td>33.4320</td>\n",
       "      <td>31.84</td>\n",
       "      <td>7.7</td>\n",
       "      <td>1</td>\n",
       "      <td>0</td>\n",
       "      <td>0</td>\n",
       "      <td>0</td>\n",
       "      <td>0</td>\n",
       "      <td>...</td>\n",
       "      <td>1.5920</td>\n",
       "      <td>0</td>\n",
       "      <td>0</td>\n",
       "      <td>1</td>\n",
       "      <td>0</td>\n",
       "      <td>0</td>\n",
       "      <td>0</td>\n",
       "      <td>1</td>\n",
       "      <td>0</td>\n",
       "      <td>0</td>\n",
       "    </tr>\n",
       "    <tr>\n",
       "      <th>998</th>\n",
       "      <td>1</td>\n",
       "      <td>1</td>\n",
       "      <td>69.1110</td>\n",
       "      <td>65.82</td>\n",
       "      <td>4.1</td>\n",
       "      <td>1</td>\n",
       "      <td>0</td>\n",
       "      <td>0</td>\n",
       "      <td>0</td>\n",
       "      <td>0</td>\n",
       "      <td>...</td>\n",
       "      <td>3.2910</td>\n",
       "      <td>0</td>\n",
       "      <td>0</td>\n",
       "      <td>0</td>\n",
       "      <td>0</td>\n",
       "      <td>1</td>\n",
       "      <td>0</td>\n",
       "      <td>1</td>\n",
       "      <td>0</td>\n",
       "      <td>0</td>\n",
       "    </tr>\n",
       "    <tr>\n",
       "      <th>999</th>\n",
       "      <td>0</td>\n",
       "      <td>7</td>\n",
       "      <td>649.2990</td>\n",
       "      <td>618.38</td>\n",
       "      <td>6.6</td>\n",
       "      <td>1</td>\n",
       "      <td>0</td>\n",
       "      <td>0</td>\n",
       "      <td>0</td>\n",
       "      <td>0</td>\n",
       "      <td>...</td>\n",
       "      <td>30.9190</td>\n",
       "      <td>0</td>\n",
       "      <td>1</td>\n",
       "      <td>0</td>\n",
       "      <td>0</td>\n",
       "      <td>0</td>\n",
       "      <td>0</td>\n",
       "      <td>1</td>\n",
       "      <td>0</td>\n",
       "      <td>0</td>\n",
       "    </tr>\n",
       "  </tbody>\n",
       "</table>\n",
       "<p>1000 rows × 24 columns</p>\n",
       "</div>"
      ],
      "text/plain": [
       "     Gender  Quantity      Total    cogs  Rating  Branch_A  Branch_B  \\\n",
       "0         0         7   548.9715  522.83     9.1         1         0   \n",
       "1         0         5    80.2200   76.40     9.6         0         0   \n",
       "2         1         7   340.5255  324.31     7.4         1         0   \n",
       "3         1         8   489.0480  465.76     8.4         1         0   \n",
       "4         1         7   634.3785  604.17     5.3         1         0   \n",
       "..      ...       ...        ...     ...     ...       ...       ...   \n",
       "995       1         1    42.3675   40.35     6.2         0         0   \n",
       "996       0        10  1022.4900  973.80     4.4         0         1   \n",
       "997       1         1    33.4320   31.84     7.7         1         0   \n",
       "998       1         1    69.1110   65.82     4.1         1         0   \n",
       "999       0         7   649.2990  618.38     6.6         1         0   \n",
       "\n",
       "     Branch_C  City_Mandalay  City_Naypyitaw  ...  gross_income  \\\n",
       "0           0              0               0  ...       26.1415   \n",
       "1           1              0               1  ...        3.8200   \n",
       "2           0              0               0  ...       16.2155   \n",
       "3           0              0               0  ...       23.2880   \n",
       "4           0              0               0  ...       30.2085   \n",
       "..        ...            ...             ...  ...           ...   \n",
       "995         1              0               1  ...        2.0175   \n",
       "996         0              1               0  ...       48.6900   \n",
       "997         0              0               0  ...        1.5920   \n",
       "998         0              0               0  ...        3.2910   \n",
       "999         0              0               0  ...       30.9190   \n",
       "\n",
       "     Product_line_Electronic accessories  Product_line_Fashion accessories  \\\n",
       "0                                      0                                 0   \n",
       "1                                      1                                 0   \n",
       "2                                      0                                 0   \n",
       "3                                      0                                 0   \n",
       "4                                      0                                 0   \n",
       "..                                   ...                               ...   \n",
       "995                                    0                                 0   \n",
       "996                                    0                                 0   \n",
       "997                                    0                                 0   \n",
       "998                                    0                                 0   \n",
       "999                                    0                                 1   \n",
       "\n",
       "     Product_line_Food and beverages  Product_line_Health and beauty  \\\n",
       "0                                  0                               1   \n",
       "1                                  0                               0   \n",
       "2                                  0                               0   \n",
       "3                                  0                               1   \n",
       "4                                  0                               0   \n",
       "..                               ...                             ...   \n",
       "995                                0                               1   \n",
       "996                                0                               0   \n",
       "997                                1                               0   \n",
       "998                                0                               0   \n",
       "999                                0                               0   \n",
       "\n",
       "     Product_line_Home and lifestyle  Product_line_Sports and travel  \\\n",
       "0                                  0                               0   \n",
       "1                                  0                               0   \n",
       "2                                  1                               0   \n",
       "3                                  0                               0   \n",
       "4                                  0                               1   \n",
       "..                               ...                             ...   \n",
       "995                                0                               0   \n",
       "996                                1                               0   \n",
       "997                                0                               0   \n",
       "998                                1                               0   \n",
       "999                                0                               0   \n",
       "\n",
       "     Payment_Cash  Payment_Credit card  Payment_Ewallet  \n",
       "0               0                    0                1  \n",
       "1               1                    0                0  \n",
       "2               0                    1                0  \n",
       "3               0                    0                1  \n",
       "4               0                    0                1  \n",
       "..            ...                  ...              ...  \n",
       "995             0                    0                1  \n",
       "996             0                    0                1  \n",
       "997             1                    0                0  \n",
       "998             1                    0                0  \n",
       "999             1                    0                0  \n",
       "\n",
       "[1000 rows x 24 columns]"
      ]
     },
     "execution_count": 927,
     "metadata": {},
     "output_type": "execute_result"
    }
   ],
   "source": [
    "df"
   ]
  },
  {
   "cell_type": "code",
   "execution_count": 928,
   "id": "634f47ce",
   "metadata": {},
   "outputs": [
    {
     "name": "stdout",
     "output_type": "stream",
     "text": [
      "<class 'pandas.core.frame.DataFrame'>\n",
      "RangeIndex: 1000 entries, 0 to 999\n",
      "Data columns (total 24 columns):\n",
      " #   Column                               Non-Null Count  Dtype  \n",
      "---  ------                               --------------  -----  \n",
      " 0   Gender                               1000 non-null   int32  \n",
      " 1   Quantity                             1000 non-null   int64  \n",
      " 2   Total                                1000 non-null   float64\n",
      " 3   cogs                                 1000 non-null   float64\n",
      " 4   Rating                               1000 non-null   float64\n",
      " 5   Branch_A                             1000 non-null   int32  \n",
      " 6   Branch_B                             1000 non-null   int32  \n",
      " 7   Branch_C                             1000 non-null   int32  \n",
      " 8   City_Mandalay                        1000 non-null   int32  \n",
      " 9   City_Naypyitaw                       1000 non-null   int32  \n",
      " 10  City_Yangon                          1000 non-null   int32  \n",
      " 11  Customer_type                        1000 non-null   int32  \n",
      " 12  Unit_price                           1000 non-null   float64\n",
      " 13  Tax_5                                1000 non-null   float64\n",
      " 14  gross_income                         1000 non-null   float64\n",
      " 15  Product_line_Electronic accessories  1000 non-null   int32  \n",
      " 16  Product_line_Fashion accessories     1000 non-null   int32  \n",
      " 17  Product_line_Food and beverages      1000 non-null   int32  \n",
      " 18  Product_line_Health and beauty       1000 non-null   int32  \n",
      " 19  Product_line_Home and lifestyle      1000 non-null   int32  \n",
      " 20  Product_line_Sports and travel       1000 non-null   int32  \n",
      " 21  Payment_Cash                         1000 non-null   int32  \n",
      " 22  Payment_Credit card                  1000 non-null   int32  \n",
      " 23  Payment_Ewallet                      1000 non-null   int32  \n",
      "dtypes: float64(6), int32(17), int64(1)\n",
      "memory usage: 121.2 KB\n"
     ]
    }
   ],
   "source": [
    "df.info()"
   ]
  },
  {
   "cell_type": "code",
   "execution_count": 929,
   "id": "917d29fb",
   "metadata": {},
   "outputs": [
    {
     "data": {
      "text/plain": [
       "Index(['Gender', 'Quantity', 'Total', 'cogs', 'Rating', 'Branch_A', 'Branch_B',\n",
       "       'Branch_C', 'City_Mandalay', 'City_Naypyitaw', 'City_Yangon',\n",
       "       'Customer_type', 'Unit_price', 'Tax_5', 'gross_income',\n",
       "       'Product_line_Electronic accessories',\n",
       "       'Product_line_Fashion accessories', 'Product_line_Food and beverages',\n",
       "       'Product_line_Health and beauty', 'Product_line_Home and lifestyle',\n",
       "       'Product_line_Sports and travel', 'Payment_Cash', 'Payment_Credit card',\n",
       "       'Payment_Ewallet'],\n",
       "      dtype='object')"
      ]
     },
     "execution_count": 929,
     "metadata": {},
     "output_type": "execute_result"
    }
   ],
   "source": [
    "df.columns"
   ]
  },
  {
   "cell_type": "markdown",
   "id": "de40af5a",
   "metadata": {},
   "source": [
    "# Classification"
   ]
  },
  {
   "cell_type": "code",
   "execution_count": 930,
   "id": "e1a1396d",
   "metadata": {},
   "outputs": [],
   "source": [
    "# df['Rating'] = df['Rating'].apply(lambda x : 1 if x > 5 else 0)\n",
    "# df['Rating'].value_counts()"
   ]
  },
  {
   "cell_type": "markdown",
   "id": "10e318bc",
   "metadata": {},
   "source": [
    "# Binning"
   ]
  },
  {
   "cell_type": "code",
   "execution_count": 931,
   "id": "ec316158",
   "metadata": {},
   "outputs": [
    {
     "data": {
      "text/plain": [
       "[4, 5, 10]"
      ]
     },
     "execution_count": 931,
     "metadata": {},
     "output_type": "execute_result"
    }
   ],
   "source": [
    "min_val = int(df['Rating'].min())\n",
    "min_val\n",
    "\n",
    "max_val = int(df['Rating'].max())\n",
    "max_val\n",
    "\n",
    "cut_points = [5]\n",
    "\n",
    "break_points = [min_val] + cut_points + [max_val]\n",
    "break_points"
   ]
  },
  {
   "cell_type": "code",
   "execution_count": 932,
   "id": "51ce04bd",
   "metadata": {},
   "outputs": [],
   "source": [
    "df['Rating'] = pd.cut(df['Rating'], bins=break_points, labels=['Not Satisfied','Satisfied'], include_lowest=True)"
   ]
  },
  {
   "cell_type": "code",
   "execution_count": 933,
   "id": "e30d61cb",
   "metadata": {},
   "outputs": [
    {
     "data": {
      "text/plain": [
       "Satisfied        826\n",
       "Not Satisfied    174\n",
       "Name: Rating, dtype: int64"
      ]
     },
     "execution_count": 933,
     "metadata": {},
     "output_type": "execute_result"
    }
   ],
   "source": [
    "df['Rating'].value_counts()"
   ]
  },
  {
   "cell_type": "code",
   "execution_count": 934,
   "id": "802ffb7e",
   "metadata": {},
   "outputs": [],
   "source": [
    "encoder = LabelEncoder()\n",
    "df['Rating'] = encoder.fit_transform(df['Rating'])"
   ]
  },
  {
   "cell_type": "code",
   "execution_count": 935,
   "id": "afac3f66",
   "metadata": {},
   "outputs": [
    {
     "data": {
      "text/plain": [
       "{'Not Satisfied': 0, 'Satisfied': 1}"
      ]
     },
     "execution_count": 935,
     "metadata": {},
     "output_type": "execute_result"
    }
   ],
   "source": [
    "values_Rating = dict(zip(list(encoder.classes_),list(range(len(encoder.classes_)))))\n",
    "values_Rating"
   ]
  },
  {
   "cell_type": "markdown",
   "id": "c0b1ec9f",
   "metadata": {},
   "source": [
    "# SMOTE"
   ]
  },
  {
   "cell_type": "code",
   "execution_count": 936,
   "id": "bf6d2ec3",
   "metadata": {},
   "outputs": [],
   "source": [
    "target_column = \"Rating\""
   ]
  },
  {
   "cell_type": "code",
   "execution_count": 937,
   "id": "daeac2b8",
   "metadata": {},
   "outputs": [],
   "source": [
    "x = df.drop(target_column,axis=1)\n",
    "y = df[target_column]"
   ]
  },
  {
   "cell_type": "code",
   "execution_count": 938,
   "id": "ddd35ee4",
   "metadata": {},
   "outputs": [],
   "source": [
    "from imblearn.over_sampling import SMOTE\n",
    "# df.info()"
   ]
  },
  {
   "cell_type": "code",
   "execution_count": 939,
   "id": "0dc324b9",
   "metadata": {},
   "outputs": [],
   "source": [
    "sm = SMOTE(random_state=5)\n",
    "x, y = sm.fit_resample(x,y)"
   ]
  },
  {
   "cell_type": "code",
   "execution_count": 940,
   "id": "e9548787",
   "metadata": {},
   "outputs": [
    {
     "data": {
      "text/plain": [
       "(1652, 23)"
      ]
     },
     "execution_count": 940,
     "metadata": {},
     "output_type": "execute_result"
    }
   ],
   "source": [
    "x.shape"
   ]
  },
  {
   "cell_type": "code",
   "execution_count": 942,
   "id": "b5162710",
   "metadata": {},
   "outputs": [
    {
     "data": {
      "text/plain": [
       "0"
      ]
     },
     "execution_count": 942,
     "metadata": {},
     "output_type": "execute_result"
    }
   ],
   "source": [
    "x.duplicated().sum()"
   ]
  },
  {
   "cell_type": "code",
   "execution_count": 943,
   "id": "b0ffae3c",
   "metadata": {},
   "outputs": [
    {
     "data": {
      "text/html": [
       "<div>\n",
       "<style scoped>\n",
       "    .dataframe tbody tr th:only-of-type {\n",
       "        vertical-align: middle;\n",
       "    }\n",
       "\n",
       "    .dataframe tbody tr th {\n",
       "        vertical-align: top;\n",
       "    }\n",
       "\n",
       "    .dataframe thead th {\n",
       "        text-align: right;\n",
       "    }\n",
       "</style>\n",
       "<table border=\"1\" class=\"dataframe\">\n",
       "  <thead>\n",
       "    <tr style=\"text-align: right;\">\n",
       "      <th></th>\n",
       "      <th>Gender</th>\n",
       "      <th>Quantity</th>\n",
       "      <th>Total</th>\n",
       "      <th>cogs</th>\n",
       "      <th>Branch_A</th>\n",
       "      <th>Branch_B</th>\n",
       "      <th>Branch_C</th>\n",
       "      <th>City_Mandalay</th>\n",
       "      <th>City_Naypyitaw</th>\n",
       "      <th>City_Yangon</th>\n",
       "      <th>...</th>\n",
       "      <th>gross_income</th>\n",
       "      <th>Product_line_Electronic accessories</th>\n",
       "      <th>Product_line_Fashion accessories</th>\n",
       "      <th>Product_line_Food and beverages</th>\n",
       "      <th>Product_line_Health and beauty</th>\n",
       "      <th>Product_line_Home and lifestyle</th>\n",
       "      <th>Product_line_Sports and travel</th>\n",
       "      <th>Payment_Cash</th>\n",
       "      <th>Payment_Credit card</th>\n",
       "      <th>Payment_Ewallet</th>\n",
       "    </tr>\n",
       "  </thead>\n",
       "  <tbody>\n",
       "    <tr>\n",
       "      <th>156</th>\n",
       "      <td>1</td>\n",
       "      <td>1</td>\n",
       "      <td>75.778500</td>\n",
       "      <td>72.170000</td>\n",
       "      <td>0</td>\n",
       "      <td>1</td>\n",
       "      <td>0</td>\n",
       "      <td>1</td>\n",
       "      <td>0</td>\n",
       "      <td>0</td>\n",
       "      <td>...</td>\n",
       "      <td>3.608500</td>\n",
       "      <td>1</td>\n",
       "      <td>0</td>\n",
       "      <td>0</td>\n",
       "      <td>0</td>\n",
       "      <td>0</td>\n",
       "      <td>0</td>\n",
       "      <td>1</td>\n",
       "      <td>0</td>\n",
       "      <td>0</td>\n",
       "    </tr>\n",
       "    <tr>\n",
       "      <th>326</th>\n",
       "      <td>1</td>\n",
       "      <td>5</td>\n",
       "      <td>523.845000</td>\n",
       "      <td>498.900000</td>\n",
       "      <td>1</td>\n",
       "      <td>0</td>\n",
       "      <td>0</td>\n",
       "      <td>0</td>\n",
       "      <td>0</td>\n",
       "      <td>1</td>\n",
       "      <td>...</td>\n",
       "      <td>24.945000</td>\n",
       "      <td>0</td>\n",
       "      <td>0</td>\n",
       "      <td>1</td>\n",
       "      <td>0</td>\n",
       "      <td>0</td>\n",
       "      <td>0</td>\n",
       "      <td>1</td>\n",
       "      <td>0</td>\n",
       "      <td>0</td>\n",
       "    </tr>\n",
       "    <tr>\n",
       "      <th>1519</th>\n",
       "      <td>0</td>\n",
       "      <td>7</td>\n",
       "      <td>530.127084</td>\n",
       "      <td>504.882937</td>\n",
       "      <td>0</td>\n",
       "      <td>0</td>\n",
       "      <td>0</td>\n",
       "      <td>0</td>\n",
       "      <td>0</td>\n",
       "      <td>0</td>\n",
       "      <td>...</td>\n",
       "      <td>25.244147</td>\n",
       "      <td>0</td>\n",
       "      <td>0</td>\n",
       "      <td>0</td>\n",
       "      <td>0</td>\n",
       "      <td>0</td>\n",
       "      <td>0</td>\n",
       "      <td>0</td>\n",
       "      <td>0</td>\n",
       "      <td>0</td>\n",
       "    </tr>\n",
       "    <tr>\n",
       "      <th>1463</th>\n",
       "      <td>0</td>\n",
       "      <td>3</td>\n",
       "      <td>83.474124</td>\n",
       "      <td>79.499165</td>\n",
       "      <td>0</td>\n",
       "      <td>0</td>\n",
       "      <td>0</td>\n",
       "      <td>0</td>\n",
       "      <td>0</td>\n",
       "      <td>0</td>\n",
       "      <td>...</td>\n",
       "      <td>3.974958</td>\n",
       "      <td>0</td>\n",
       "      <td>0</td>\n",
       "      <td>0</td>\n",
       "      <td>0</td>\n",
       "      <td>0</td>\n",
       "      <td>0</td>\n",
       "      <td>0</td>\n",
       "      <td>1</td>\n",
       "      <td>0</td>\n",
       "    </tr>\n",
       "    <tr>\n",
       "      <th>200</th>\n",
       "      <td>0</td>\n",
       "      <td>6</td>\n",
       "      <td>120.645000</td>\n",
       "      <td>114.900000</td>\n",
       "      <td>0</td>\n",
       "      <td>0</td>\n",
       "      <td>1</td>\n",
       "      <td>0</td>\n",
       "      <td>1</td>\n",
       "      <td>0</td>\n",
       "      <td>...</td>\n",
       "      <td>5.745000</td>\n",
       "      <td>0</td>\n",
       "      <td>0</td>\n",
       "      <td>0</td>\n",
       "      <td>0</td>\n",
       "      <td>0</td>\n",
       "      <td>1</td>\n",
       "      <td>0</td>\n",
       "      <td>1</td>\n",
       "      <td>0</td>\n",
       "    </tr>\n",
       "    <tr>\n",
       "      <th>...</th>\n",
       "      <td>...</td>\n",
       "      <td>...</td>\n",
       "      <td>...</td>\n",
       "      <td>...</td>\n",
       "      <td>...</td>\n",
       "      <td>...</td>\n",
       "      <td>...</td>\n",
       "      <td>...</td>\n",
       "      <td>...</td>\n",
       "      <td>...</td>\n",
       "      <td>...</td>\n",
       "      <td>...</td>\n",
       "      <td>...</td>\n",
       "      <td>...</td>\n",
       "      <td>...</td>\n",
       "      <td>...</td>\n",
       "      <td>...</td>\n",
       "      <td>...</td>\n",
       "      <td>...</td>\n",
       "      <td>...</td>\n",
       "      <td>...</td>\n",
       "    </tr>\n",
       "    <tr>\n",
       "      <th>809</th>\n",
       "      <td>0</td>\n",
       "      <td>10</td>\n",
       "      <td>652.890000</td>\n",
       "      <td>621.800000</td>\n",
       "      <td>0</td>\n",
       "      <td>0</td>\n",
       "      <td>1</td>\n",
       "      <td>0</td>\n",
       "      <td>1</td>\n",
       "      <td>0</td>\n",
       "      <td>...</td>\n",
       "      <td>31.090000</td>\n",
       "      <td>0</td>\n",
       "      <td>1</td>\n",
       "      <td>0</td>\n",
       "      <td>0</td>\n",
       "      <td>0</td>\n",
       "      <td>0</td>\n",
       "      <td>0</td>\n",
       "      <td>0</td>\n",
       "      <td>1</td>\n",
       "    </tr>\n",
       "    <tr>\n",
       "      <th>160</th>\n",
       "      <td>0</td>\n",
       "      <td>8</td>\n",
       "      <td>362.712000</td>\n",
       "      <td>345.440000</td>\n",
       "      <td>0</td>\n",
       "      <td>0</td>\n",
       "      <td>1</td>\n",
       "      <td>0</td>\n",
       "      <td>1</td>\n",
       "      <td>0</td>\n",
       "      <td>...</td>\n",
       "      <td>17.272000</td>\n",
       "      <td>0</td>\n",
       "      <td>0</td>\n",
       "      <td>1</td>\n",
       "      <td>0</td>\n",
       "      <td>0</td>\n",
       "      <td>0</td>\n",
       "      <td>0</td>\n",
       "      <td>1</td>\n",
       "      <td>0</td>\n",
       "    </tr>\n",
       "    <tr>\n",
       "      <th>636</th>\n",
       "      <td>1</td>\n",
       "      <td>7</td>\n",
       "      <td>212.782500</td>\n",
       "      <td>202.650000</td>\n",
       "      <td>1</td>\n",
       "      <td>0</td>\n",
       "      <td>0</td>\n",
       "      <td>0</td>\n",
       "      <td>0</td>\n",
       "      <td>1</td>\n",
       "      <td>...</td>\n",
       "      <td>10.132500</td>\n",
       "      <td>0</td>\n",
       "      <td>0</td>\n",
       "      <td>0</td>\n",
       "      <td>1</td>\n",
       "      <td>0</td>\n",
       "      <td>0</td>\n",
       "      <td>0</td>\n",
       "      <td>1</td>\n",
       "      <td>0</td>\n",
       "    </tr>\n",
       "    <tr>\n",
       "      <th>33</th>\n",
       "      <td>1</td>\n",
       "      <td>2</td>\n",
       "      <td>202.818000</td>\n",
       "      <td>193.160000</td>\n",
       "      <td>1</td>\n",
       "      <td>0</td>\n",
       "      <td>0</td>\n",
       "      <td>0</td>\n",
       "      <td>0</td>\n",
       "      <td>1</td>\n",
       "      <td>...</td>\n",
       "      <td>9.658000</td>\n",
       "      <td>0</td>\n",
       "      <td>0</td>\n",
       "      <td>0</td>\n",
       "      <td>1</td>\n",
       "      <td>0</td>\n",
       "      <td>0</td>\n",
       "      <td>0</td>\n",
       "      <td>1</td>\n",
       "      <td>0</td>\n",
       "    </tr>\n",
       "    <tr>\n",
       "      <th>1125</th>\n",
       "      <td>1</td>\n",
       "      <td>1</td>\n",
       "      <td>52.986239</td>\n",
       "      <td>50.463085</td>\n",
       "      <td>0</td>\n",
       "      <td>0</td>\n",
       "      <td>0</td>\n",
       "      <td>0</td>\n",
       "      <td>0</td>\n",
       "      <td>0</td>\n",
       "      <td>...</td>\n",
       "      <td>2.523154</td>\n",
       "      <td>0</td>\n",
       "      <td>1</td>\n",
       "      <td>0</td>\n",
       "      <td>0</td>\n",
       "      <td>0</td>\n",
       "      <td>0</td>\n",
       "      <td>0</td>\n",
       "      <td>0</td>\n",
       "      <td>0</td>\n",
       "    </tr>\n",
       "  </tbody>\n",
       "</table>\n",
       "<p>1156 rows × 23 columns</p>\n",
       "</div>"
      ],
      "text/plain": [
       "      Gender  Quantity       Total        cogs  Branch_A  Branch_B  Branch_C  \\\n",
       "156        1         1   75.778500   72.170000         0         1         0   \n",
       "326        1         5  523.845000  498.900000         1         0         0   \n",
       "1519       0         7  530.127084  504.882937         0         0         0   \n",
       "1463       0         3   83.474124   79.499165         0         0         0   \n",
       "200        0         6  120.645000  114.900000         0         0         1   \n",
       "...      ...       ...         ...         ...       ...       ...       ...   \n",
       "809        0        10  652.890000  621.800000         0         0         1   \n",
       "160        0         8  362.712000  345.440000         0         0         1   \n",
       "636        1         7  212.782500  202.650000         1         0         0   \n",
       "33         1         2  202.818000  193.160000         1         0         0   \n",
       "1125       1         1   52.986239   50.463085         0         0         0   \n",
       "\n",
       "      City_Mandalay  City_Naypyitaw  City_Yangon  ...  gross_income  \\\n",
       "156               1               0            0  ...      3.608500   \n",
       "326               0               0            1  ...     24.945000   \n",
       "1519              0               0            0  ...     25.244147   \n",
       "1463              0               0            0  ...      3.974958   \n",
       "200               0               1            0  ...      5.745000   \n",
       "...             ...             ...          ...  ...           ...   \n",
       "809               0               1            0  ...     31.090000   \n",
       "160               0               1            0  ...     17.272000   \n",
       "636               0               0            1  ...     10.132500   \n",
       "33                0               0            1  ...      9.658000   \n",
       "1125              0               0            0  ...      2.523154   \n",
       "\n",
       "      Product_line_Electronic accessories  Product_line_Fashion accessories  \\\n",
       "156                                     1                                 0   \n",
       "326                                     0                                 0   \n",
       "1519                                    0                                 0   \n",
       "1463                                    0                                 0   \n",
       "200                                     0                                 0   \n",
       "...                                   ...                               ...   \n",
       "809                                     0                                 1   \n",
       "160                                     0                                 0   \n",
       "636                                     0                                 0   \n",
       "33                                      0                                 0   \n",
       "1125                                    0                                 1   \n",
       "\n",
       "      Product_line_Food and beverages  Product_line_Health and beauty  \\\n",
       "156                                 0                               0   \n",
       "326                                 1                               0   \n",
       "1519                                0                               0   \n",
       "1463                                0                               0   \n",
       "200                                 0                               0   \n",
       "...                               ...                             ...   \n",
       "809                                 0                               0   \n",
       "160                                 1                               0   \n",
       "636                                 0                               1   \n",
       "33                                  0                               1   \n",
       "1125                                0                               0   \n",
       "\n",
       "      Product_line_Home and lifestyle  Product_line_Sports and travel  \\\n",
       "156                                 0                               0   \n",
       "326                                 0                               0   \n",
       "1519                                0                               0   \n",
       "1463                                0                               0   \n",
       "200                                 0                               1   \n",
       "...                               ...                             ...   \n",
       "809                                 0                               0   \n",
       "160                                 0                               0   \n",
       "636                                 0                               0   \n",
       "33                                  0                               0   \n",
       "1125                                0                               0   \n",
       "\n",
       "      Payment_Cash  Payment_Credit card  Payment_Ewallet  \n",
       "156              1                    0                0  \n",
       "326              1                    0                0  \n",
       "1519             0                    0                0  \n",
       "1463             0                    1                0  \n",
       "200              0                    1                0  \n",
       "...            ...                  ...              ...  \n",
       "809              0                    0                1  \n",
       "160              0                    1                0  \n",
       "636              0                    1                0  \n",
       "33               0                    1                0  \n",
       "1125             0                    0                0  \n",
       "\n",
       "[1156 rows x 23 columns]"
      ]
     },
     "execution_count": 943,
     "metadata": {},
     "output_type": "execute_result"
    }
   ],
   "source": [
    "x_train, x_test, y_train, y_test = train_test_split(x, y , test_size=0.3, random_state=10, stratify=y)\n",
    "\n",
    "x_train"
   ]
  },
  {
   "cell_type": "markdown",
   "id": "07f17e2a",
   "metadata": {},
   "source": [
    "#  Outlier Handeling "
   ]
  },
  {
   "cell_type": "code",
   "execution_count": 944,
   "id": "0c47dcb9",
   "metadata": {},
   "outputs": [
    {
     "data": {
      "text/plain": [
       "<AxesSubplot:>"
      ]
     },
     "execution_count": 944,
     "metadata": {},
     "output_type": "execute_result"
    },
    {
     "data": {
      "image/png": "[encoded data removed]",
      "text/plain": [
       "<Figure size 1440x1440 with 1 Axes>"
      ]
     },
     "metadata": {
      "needs_background": "light"
     },
     "output_type": "display_data"
    }
   ],
   "source": [
    "plt.figure(figsize=(20,20))\n",
    "x.boxplot()"
   ]
  },
  {
   "cell_type": "markdown",
   "id": "7de63a6f",
   "metadata": {},
   "source": [
    "### Tax 5%"
   ]
  },
  {
   "cell_type": "code",
   "execution_count": 945,
   "id": "3a9df485",
   "metadata": {},
   "outputs": [
    {
     "data": {
      "text/plain": [
       "<AxesSubplot:xlabel='Tax_5'>"
      ]
     },
     "execution_count": 945,
     "metadata": {},
     "output_type": "execute_result"
    },
    {
     "data": {
      "image/png": "[encoded data removed]",
      "text/plain": [
       "<Figure size 432x288 with 1 Axes>"
      ]
     },
     "metadata": {
      "needs_background": "light"
     },
     "output_type": "display_data"
    }
   ],
   "source": [
    "sns.boxplot(x['Tax_5'])"
   ]
  },
  {
   "cell_type": "markdown",
   "id": "84a086a4",
   "metadata": {},
   "source": [
    "### Total"
   ]
  },
  {
   "cell_type": "code",
   "execution_count": 846,
   "id": "bd24e664",
   "metadata": {},
   "outputs": [
    {
     "data": {
      "text/plain": [
       "<AxesSubplot:xlabel='Total'>"
      ]
     },
     "execution_count": 846,
     "metadata": {},
     "output_type": "execute_result"
    },
    {
     "data": {
      "image/png": "[encoded data removed]",
      "text/plain": [
       "<Figure size 432x288 with 1 Axes>"
      ]
     },
     "metadata": {
      "needs_background": "light"
     },
     "output_type": "display_data"
    }
   ],
   "source": [
    "sns.boxplot(x['Total'])"
   ]
  },
  {
   "cell_type": "markdown",
   "id": "f7f9a64d",
   "metadata": {},
   "source": [
    "### cogs"
   ]
  },
  {
   "cell_type": "code",
   "execution_count": 847,
   "id": "6c71e1cc",
   "metadata": {},
   "outputs": [
    {
     "data": {
      "text/plain": [
       "<AxesSubplot:xlabel='cogs'>"
      ]
     },
     "execution_count": 847,
     "metadata": {},
     "output_type": "execute_result"
    },
    {
     "data": {
      "image/png": "[encoded data removed]",
      "text/plain": [
       "<Figure size 432x288 with 1 Axes>"
      ]
     },
     "metadata": {
      "needs_background": "light"
     },
     "output_type": "display_data"
    }
   ],
   "source": [
    "sns.boxplot(x['cogs'])"
   ]
  },
  {
   "cell_type": "markdown",
   "id": "412e342c",
   "metadata": {},
   "source": [
    "### gross income"
   ]
  },
  {
   "cell_type": "code",
   "execution_count": 848,
   "id": "68ebcdb1",
   "metadata": {},
   "outputs": [
    {
     "data": {
      "text/plain": [
       "<AxesSubplot:xlabel='gross_income'>"
      ]
     },
     "execution_count": 848,
     "metadata": {},
     "output_type": "execute_result"
    },
    {
     "data": {
      "image/png": "[encoded data removed]",
      "text/plain": [
       "<Figure size 432x288 with 1 Axes>"
      ]
     },
     "metadata": {
      "needs_background": "light"
     },
     "output_type": "display_data"
    }
   ],
   "source": [
    "sns.boxplot(x['gross_income'])"
   ]
  },
  {
   "cell_type": "code",
   "execution_count": 849,
   "id": "ce34bfb4",
   "metadata": {},
   "outputs": [],
   "source": [
    "# Create Instance\n",
    "# preprocessing = DataPreProcessing()"
   ]
  },
  {
   "cell_type": "code",
   "execution_count": 850,
   "id": "d9b4ae5e",
   "metadata": {},
   "outputs": [],
   "source": [
    "# x = preprocessing.replace_outliers_by_nan(x,outlier_columns=['Tax 5%','Total','cogs','gross income'])"
   ]
  },
  {
   "cell_type": "code",
   "execution_count": 851,
   "id": "c37f3ebc",
   "metadata": {},
   "outputs": [
    {
     "data": {
      "text/plain": [
       "<AxesSubplot:>"
      ]
     },
     "execution_count": 851,
     "metadata": {},
     "output_type": "execute_result"
    },
    {
     "data": {
      "image/png": "[encoded data removed]",
      "text/plain": [
       "<Figure size 1440x1440 with 1 Axes>"
      ]
     },
     "metadata": {
      "needs_background": "light"
     },
     "output_type": "display_data"
    }
   ],
   "source": [
    "plt.figure(figsize=(20,20))\n",
    "x.boxplot()"
   ]
  },
  {
   "cell_type": "code",
   "execution_count": 852,
   "id": "5ab5abfb",
   "metadata": {},
   "outputs": [],
   "source": [
    "# x = preprocessing.knn_imputer(x,continuous_columns = ['Tax 5%','Total','cogs','gross income'])"
   ]
  },
  {
   "cell_type": "code",
   "execution_count": 853,
   "id": "7d78c3d9",
   "metadata": {},
   "outputs": [],
   "source": [
    "# x.columns"
   ]
  },
  {
   "cell_type": "markdown",
   "id": "835bd6ef",
   "metadata": {},
   "source": [
    "# Feature Selection "
   ]
  },
  {
   "cell_type": "code",
   "execution_count": 854,
   "id": "239d7439",
   "metadata": {},
   "outputs": [
    {
     "data": {
      "text/html": [
       "<div>\n",
       "<style scoped>\n",
       "    .dataframe tbody tr th:only-of-type {\n",
       "        vertical-align: middle;\n",
       "    }\n",
       "\n",
       "    .dataframe tbody tr th {\n",
       "        vertical-align: top;\n",
       "    }\n",
       "\n",
       "    .dataframe thead th {\n",
       "        text-align: right;\n",
       "    }\n",
       "</style>\n",
       "<table border=\"1\" class=\"dataframe\">\n",
       "  <thead>\n",
       "    <tr style=\"text-align: right;\">\n",
       "      <th></th>\n",
       "      <th>Gender</th>\n",
       "      <th>Quantity</th>\n",
       "      <th>Total</th>\n",
       "      <th>cogs</th>\n",
       "      <th>Branch_A</th>\n",
       "      <th>Branch_B</th>\n",
       "      <th>Branch_C</th>\n",
       "      <th>City_Mandalay</th>\n",
       "      <th>City_Naypyitaw</th>\n",
       "      <th>City_Yangon</th>\n",
       "      <th>...</th>\n",
       "      <th>gross_income</th>\n",
       "      <th>Product_line_Electronic accessories</th>\n",
       "      <th>Product_line_Fashion accessories</th>\n",
       "      <th>Product_line_Food and beverages</th>\n",
       "      <th>Product_line_Health and beauty</th>\n",
       "      <th>Product_line_Home and lifestyle</th>\n",
       "      <th>Product_line_Sports and travel</th>\n",
       "      <th>Payment_Cash</th>\n",
       "      <th>Payment_Credit card</th>\n",
       "      <th>Payment_Ewallet</th>\n",
       "    </tr>\n",
       "  </thead>\n",
       "  <tbody>\n",
       "    <tr>\n",
       "      <th>0</th>\n",
       "      <td>0</td>\n",
       "      <td>7</td>\n",
       "      <td>548.9715</td>\n",
       "      <td>522.83</td>\n",
       "      <td>1</td>\n",
       "      <td>0</td>\n",
       "      <td>0</td>\n",
       "      <td>0</td>\n",
       "      <td>0</td>\n",
       "      <td>1</td>\n",
       "      <td>...</td>\n",
       "      <td>26.1415</td>\n",
       "      <td>0</td>\n",
       "      <td>0</td>\n",
       "      <td>0</td>\n",
       "      <td>1</td>\n",
       "      <td>0</td>\n",
       "      <td>0</td>\n",
       "      <td>0</td>\n",
       "      <td>0</td>\n",
       "      <td>1</td>\n",
       "    </tr>\n",
       "    <tr>\n",
       "      <th>1</th>\n",
       "      <td>0</td>\n",
       "      <td>5</td>\n",
       "      <td>80.2200</td>\n",
       "      <td>76.40</td>\n",
       "      <td>0</td>\n",
       "      <td>0</td>\n",
       "      <td>1</td>\n",
       "      <td>0</td>\n",
       "      <td>1</td>\n",
       "      <td>0</td>\n",
       "      <td>...</td>\n",
       "      <td>3.8200</td>\n",
       "      <td>1</td>\n",
       "      <td>0</td>\n",
       "      <td>0</td>\n",
       "      <td>0</td>\n",
       "      <td>0</td>\n",
       "      <td>0</td>\n",
       "      <td>1</td>\n",
       "      <td>0</td>\n",
       "      <td>0</td>\n",
       "    </tr>\n",
       "  </tbody>\n",
       "</table>\n",
       "<p>2 rows × 23 columns</p>\n",
       "</div>"
      ],
      "text/plain": [
       "   Gender  Quantity     Total    cogs  Branch_A  Branch_B  Branch_C  \\\n",
       "0       0         7  548.9715  522.83         1         0         0   \n",
       "1       0         5   80.2200   76.40         0         0         1   \n",
       "\n",
       "   City_Mandalay  City_Naypyitaw  City_Yangon  ...  gross_income  \\\n",
       "0              0               0            1  ...       26.1415   \n",
       "1              0               1            0  ...        3.8200   \n",
       "\n",
       "   Product_line_Electronic accessories  Product_line_Fashion accessories  \\\n",
       "0                                    0                                 0   \n",
       "1                                    1                                 0   \n",
       "\n",
       "   Product_line_Food and beverages  Product_line_Health and beauty  \\\n",
       "0                                0                               1   \n",
       "1                                0                               0   \n",
       "\n",
       "   Product_line_Home and lifestyle  Product_line_Sports and travel  \\\n",
       "0                                0                               0   \n",
       "1                                0                               0   \n",
       "\n",
       "   Payment_Cash  Payment_Credit card  Payment_Ewallet  \n",
       "0             0                    0                1  \n",
       "1             1                    0                0  \n",
       "\n",
       "[2 rows x 23 columns]"
      ]
     },
     "execution_count": 854,
     "metadata": {},
     "output_type": "execute_result"
    }
   ],
   "source": [
    "x.head(2)"
   ]
  },
  {
   "cell_type": "code",
   "execution_count": 855,
   "id": "91a43f6c",
   "metadata": {},
   "outputs": [],
   "source": [
    "continuous_columns = ['Unit_price','Tax_5%','Total','cogs','gross_income']\n",
    "catogorical_columns = ['Customer_type', 'Gender','Quantity', 'Branch_A', 'Branch_B', 'Branch_C',\n",
    "       'City_Mandalay', 'City_Naypyitaw', 'City_Yangon',\n",
    "       'Product_line_Electronic accessories',\n",
    "       'Product_line_Fashion accessories', 'Product_line_Food and beverages',\n",
    "       'Product_line_Health and beauty', 'Product_line_Home and lifestyle',\n",
    "       'Product_line_Sports and travel', 'Payment_Cash', 'Payment_Credit card',\n",
    "       'Payment_Ewallet']"
   ]
  },
  {
   "cell_type": "markdown",
   "id": "b187a16b",
   "metadata": {},
   "source": [
    "### 0. correlation "
   ]
  },
  {
   "cell_type": "code",
   "execution_count": 856,
   "id": "7a3ab27c",
   "metadata": {},
   "outputs": [
    {
     "data": {
      "text/html": [
       "<div>\n",
       "<style scoped>\n",
       "    .dataframe tbody tr th:only-of-type {\n",
       "        vertical-align: middle;\n",
       "    }\n",
       "\n",
       "    .dataframe tbody tr th {\n",
       "        vertical-align: top;\n",
       "    }\n",
       "\n",
       "    .dataframe thead th {\n",
       "        text-align: right;\n",
       "    }\n",
       "</style>\n",
       "<table border=\"1\" class=\"dataframe\">\n",
       "  <thead>\n",
       "    <tr style=\"text-align: right;\">\n",
       "      <th></th>\n",
       "      <th>Gender</th>\n",
       "      <th>Quantity</th>\n",
       "      <th>Total</th>\n",
       "      <th>cogs</th>\n",
       "      <th>Branch_A</th>\n",
       "      <th>Branch_B</th>\n",
       "      <th>Branch_C</th>\n",
       "      <th>City_Mandalay</th>\n",
       "      <th>City_Naypyitaw</th>\n",
       "      <th>City_Yangon</th>\n",
       "      <th>...</th>\n",
       "      <th>Product_line_Electronic accessories</th>\n",
       "      <th>Product_line_Fashion accessories</th>\n",
       "      <th>Product_line_Food and beverages</th>\n",
       "      <th>Product_line_Health and beauty</th>\n",
       "      <th>Product_line_Home and lifestyle</th>\n",
       "      <th>Product_line_Sports and travel</th>\n",
       "      <th>Payment_Cash</th>\n",
       "      <th>Payment_Credit card</th>\n",
       "      <th>Payment_Ewallet</th>\n",
       "      <th>Rating</th>\n",
       "    </tr>\n",
       "  </thead>\n",
       "  <tbody>\n",
       "    <tr>\n",
       "      <th>Rating</th>\n",
       "      <td>0.26241</td>\n",
       "      <td>0.05163</td>\n",
       "      <td>0.00025</td>\n",
       "      <td>0.00025</td>\n",
       "      <td>0.22449</td>\n",
       "      <td>0.160249</td>\n",
       "      <td>0.263952</td>\n",
       "      <td>0.160249</td>\n",
       "      <td>0.263952</td>\n",
       "      <td>0.22449</td>\n",
       "      <td>...</td>\n",
       "      <td>0.17686</td>\n",
       "      <td>0.159738</td>\n",
       "      <td>0.202049</td>\n",
       "      <td>0.156215</td>\n",
       "      <td>0.133428</td>\n",
       "      <td>0.209023</td>\n",
       "      <td>0.194734</td>\n",
       "      <td>0.178355</td>\n",
       "      <td>0.194956</td>\n",
       "      <td>1.0</td>\n",
       "    </tr>\n",
       "  </tbody>\n",
       "</table>\n",
       "<p>1 rows × 24 columns</p>\n",
       "</div>"
      ],
      "text/plain": [
       "         Gender  Quantity    Total     cogs  Branch_A  Branch_B  Branch_C  \\\n",
       "Rating  0.26241   0.05163  0.00025  0.00025   0.22449  0.160249  0.263952   \n",
       "\n",
       "        City_Mandalay  City_Naypyitaw  City_Yangon  ...  \\\n",
       "Rating       0.160249        0.263952      0.22449  ...   \n",
       "\n",
       "        Product_line_Electronic accessories  Product_line_Fashion accessories  \\\n",
       "Rating                              0.17686                          0.159738   \n",
       "\n",
       "        Product_line_Food and beverages  Product_line_Health and beauty  \\\n",
       "Rating                         0.202049                        0.156215   \n",
       "\n",
       "        Product_line_Home and lifestyle  Product_line_Sports and travel  \\\n",
       "Rating                         0.133428                        0.209023   \n",
       "\n",
       "        Payment_Cash  Payment_Credit card  Payment_Ewallet  Rating  \n",
       "Rating      0.194734             0.178355         0.194956     1.0  \n",
       "\n",
       "[1 rows x 24 columns]"
      ]
     },
     "execution_count": 856,
     "metadata": {},
     "output_type": "execute_result"
    }
   ],
   "source": [
    " pd.concat([x,y],axis=1).corr('kendall').tail(1)"
   ]
  },
  {
   "cell_type": "code",
   "execution_count": 857,
   "id": "064df37b",
   "metadata": {},
   "outputs": [
    {
     "data": {
      "text/html": [
       "<div>\n",
       "<style scoped>\n",
       "    .dataframe tbody tr th:only-of-type {\n",
       "        vertical-align: middle;\n",
       "    }\n",
       "\n",
       "    .dataframe tbody tr th {\n",
       "        vertical-align: top;\n",
       "    }\n",
       "\n",
       "    .dataframe thead th {\n",
       "        text-align: right;\n",
       "    }\n",
       "</style>\n",
       "<table border=\"1\" class=\"dataframe\">\n",
       "  <thead>\n",
       "    <tr style=\"text-align: right;\">\n",
       "      <th></th>\n",
       "      <th>Gender</th>\n",
       "      <th>Quantity</th>\n",
       "      <th>Total</th>\n",
       "      <th>cogs</th>\n",
       "      <th>Branch_A</th>\n",
       "      <th>Branch_B</th>\n",
       "      <th>Branch_C</th>\n",
       "      <th>City_Mandalay</th>\n",
       "      <th>City_Naypyitaw</th>\n",
       "      <th>City_Yangon</th>\n",
       "      <th>...</th>\n",
       "      <th>Product_line_Electronic accessories</th>\n",
       "      <th>Product_line_Fashion accessories</th>\n",
       "      <th>Product_line_Food and beverages</th>\n",
       "      <th>Product_line_Health and beauty</th>\n",
       "      <th>Product_line_Home and lifestyle</th>\n",
       "      <th>Product_line_Sports and travel</th>\n",
       "      <th>Payment_Cash</th>\n",
       "      <th>Payment_Credit card</th>\n",
       "      <th>Payment_Ewallet</th>\n",
       "      <th>Rating</th>\n",
       "    </tr>\n",
       "  </thead>\n",
       "  <tbody>\n",
       "    <tr>\n",
       "      <th>Rating</th>\n",
       "      <td>0.26241</td>\n",
       "      <td>0.060243</td>\n",
       "      <td>0.000306</td>\n",
       "      <td>0.000306</td>\n",
       "      <td>0.22449</td>\n",
       "      <td>0.160249</td>\n",
       "      <td>0.263952</td>\n",
       "      <td>0.160249</td>\n",
       "      <td>0.263952</td>\n",
       "      <td>0.22449</td>\n",
       "      <td>...</td>\n",
       "      <td>0.17686</td>\n",
       "      <td>0.159738</td>\n",
       "      <td>0.202049</td>\n",
       "      <td>0.156215</td>\n",
       "      <td>0.133428</td>\n",
       "      <td>0.209023</td>\n",
       "      <td>0.194734</td>\n",
       "      <td>0.178355</td>\n",
       "      <td>0.194956</td>\n",
       "      <td>1.0</td>\n",
       "    </tr>\n",
       "  </tbody>\n",
       "</table>\n",
       "<p>1 rows × 24 columns</p>\n",
       "</div>"
      ],
      "text/plain": [
       "         Gender  Quantity     Total      cogs  Branch_A  Branch_B  Branch_C  \\\n",
       "Rating  0.26241  0.060243  0.000306  0.000306   0.22449  0.160249  0.263952   \n",
       "\n",
       "        City_Mandalay  City_Naypyitaw  City_Yangon  ...  \\\n",
       "Rating       0.160249        0.263952      0.22449  ...   \n",
       "\n",
       "        Product_line_Electronic accessories  Product_line_Fashion accessories  \\\n",
       "Rating                              0.17686                          0.159738   \n",
       "\n",
       "        Product_line_Food and beverages  Product_line_Health and beauty  \\\n",
       "Rating                         0.202049                        0.156215   \n",
       "\n",
       "        Product_line_Home and lifestyle  Product_line_Sports and travel  \\\n",
       "Rating                         0.133428                        0.209023   \n",
       "\n",
       "        Payment_Cash  Payment_Credit card  Payment_Ewallet  Rating  \n",
       "Rating      0.194734             0.178355         0.194956     1.0  \n",
       "\n",
       "[1 rows x 24 columns]"
      ]
     },
     "execution_count": 857,
     "metadata": {},
     "output_type": "execute_result"
    }
   ],
   "source": [
    " pd.concat([x,y],axis=1).corr('spearman').tail(1)"
   ]
  },
  {
   "cell_type": "markdown",
   "id": "834e5348",
   "metadata": {},
   "source": [
    "### 1. chi-square test"
   ]
  },
  {
   "cell_type": "code",
   "execution_count": 858,
   "id": "5c69791d",
   "metadata": {},
   "outputs": [],
   "source": [
    "from sklearn.feature_selection import chi2"
   ]
  },
  {
   "cell_type": "code",
   "execution_count": 859,
   "id": "bf8a2913",
   "metadata": {},
   "outputs": [],
   "source": [
    "test_statistics, p_value = chi2(x[catogorical_columns],y)"
   ]
  },
  {
   "cell_type": "code",
   "execution_count": 860,
   "id": "06df3a85",
   "metadata": {},
   "outputs": [
    {
     "data": {
      "text/plain": [
       "Customer_type                          7.697257e-04\n",
       "Gender                                 6.265216e-17\n",
       "Quantity                               1.585275e-03\n",
       "Branch_A                               2.020491e-15\n",
       "Branch_B                               1.785721e-08\n",
       "Branch_C                               4.301896e-21\n",
       "City_Mandalay                          1.785721e-08\n",
       "City_Naypyitaw                         4.301896e-21\n",
       "City_Yangon                            2.020491e-15\n",
       "Product_line_Electronic accessories    1.335353e-11\n",
       "Product_line_Fashion accessories       1.229538e-09\n",
       "Product_line_Food and beverages        1.068354e-14\n",
       "Product_line_Health and beauty         1.767700e-09\n",
       "Product_line_Home and lifestyle        3.303143e-07\n",
       "Product_line_Sports and travel         9.294052e-16\n",
       "Payment_Cash                           1.160685e-11\n",
       "Payment_Credit card                    2.003586e-10\n",
       "Payment_Ewallet                        8.886839e-12\n",
       "dtype: float64"
      ]
     },
     "execution_count": 860,
     "metadata": {},
     "output_type": "execute_result"
    }
   ],
   "source": [
    "pd.Series(p_value, index=catogorical_columns)"
   ]
  },
  {
   "cell_type": "markdown",
   "id": "3f814400",
   "metadata": {},
   "source": [
    "## 2. ANOVA"
   ]
  },
  {
   "cell_type": "code",
   "execution_count": 861,
   "id": "891783ab",
   "metadata": {},
   "outputs": [],
   "source": [
    "from sklearn.feature_selection import f_classif"
   ]
  },
  {
   "cell_type": "code",
   "execution_count": 862,
   "id": "d32a6681",
   "metadata": {},
   "outputs": [],
   "source": [
    "test_statistics, p_value = f_classif(x[continuous_columns],y)"
   ]
  },
  {
   "cell_type": "code",
   "execution_count": 863,
   "id": "a3061fa3",
   "metadata": {},
   "outputs": [
    {
     "data": {
      "text/plain": [
       "Unit_price      0.548122\n",
       "Tax_5%          0.232295\n",
       "Total           0.232295\n",
       "cogs            0.232295\n",
       "gross_income    0.232295\n",
       "dtype: float64"
      ]
     },
     "execution_count": 863,
     "metadata": {},
     "output_type": "execute_result"
    }
   ],
   "source": [
    "pd.Series(p_value, index=continuous_columns)"
   ]
  },
  {
   "cell_type": "markdown",
   "id": "d18fee80",
   "metadata": {},
   "source": [
    "### 3. Mutual information (Information Gain)"
   ]
  },
  {
   "cell_type": "code",
   "execution_count": 864,
   "id": "10baf000",
   "metadata": {},
   "outputs": [],
   "source": [
    "from sklearn.feature_selection import mutual_info_classif"
   ]
  },
  {
   "cell_type": "code",
   "execution_count": 865,
   "id": "956d47ad",
   "metadata": {},
   "outputs": [],
   "source": [
    "array = mutual_info_classif(x,y,random_state = 10)"
   ]
  },
  {
   "cell_type": "code",
   "execution_count": 866,
   "id": "9520d105",
   "metadata": {},
   "outputs": [
    {
     "data": {
      "text/plain": [
       "<AxesSubplot:>"
      ]
     },
     "execution_count": 866,
     "metadata": {},
     "output_type": "execute_result"
    },
    {
     "data": {
      "image/png": "[encoded data removed]",
      "text/plain": [
       "<Figure size 432x288 with 1 Axes>"
      ]
     },
     "metadata": {
      "needs_background": "light"
     },
     "output_type": "display_data"
    }
   ],
   "source": [
    "s2 = pd.Series(array, index=x.columns)\n",
    "s2.sort_values().plot(kind= 'barh')"
   ]
  },
  {
   "cell_type": "markdown",
   "id": "d0ef88d6",
   "metadata": {},
   "source": [
    "### 2.1 . Exhaustive Feature Selection"
   ]
  },
  {
   "cell_type": "code",
   "execution_count": 867,
   "id": "0e513899",
   "metadata": {},
   "outputs": [],
   "source": [
    "# pip install mlxtend"
   ]
  },
  {
   "cell_type": "code",
   "execution_count": 868,
   "id": "f726d380",
   "metadata": {},
   "outputs": [],
   "source": [
    "from mlxtend.feature_selection import ExhaustiveFeatureSelector\n",
    "from sklearn.tree import DecisionTreeClassifier"
   ]
  },
  {
   "cell_type": "code",
   "execution_count": 869,
   "id": "8da14c7e",
   "metadata": {},
   "outputs": [
    {
     "ename": "KeyboardInterrupt",
     "evalue": "",
     "output_type": "error",
     "traceback": [
      "\u001b[1;31m---------------------------------------------------------------------------\u001b[0m",
      "\u001b[1;31mKeyboardInterrupt\u001b[0m                         Traceback (most recent call last)",
      "Input \u001b[1;32mIn [869]\u001b[0m, in \u001b[0;36m<cell line: 2>\u001b[1;34m()\u001b[0m\n\u001b[0;32m      1\u001b[0m efs \u001b[38;5;241m=\u001b[39m ExhaustiveFeatureSelector(DecisionTreeClassifier(), min_features\u001b[38;5;241m=\u001b[39m\u001b[38;5;241m19\u001b[39m, max_features\u001b[38;5;241m=\u001b[39m\u001b[38;5;241m20\u001b[39m, cv\u001b[38;5;241m=\u001b[39m\u001b[38;5;241m5\u001b[39m, n_jobs\u001b[38;5;241m=\u001b[39m\u001b[38;5;241m-\u001b[39m\u001b[38;5;241m1\u001b[39m)\n\u001b[1;32m----> 2\u001b[0m \u001b[43mefs\u001b[49m\u001b[38;5;241;43m.\u001b[39;49m\u001b[43mfit\u001b[49m\u001b[43m(\u001b[49m\u001b[43mx\u001b[49m\u001b[43m,\u001b[49m\u001b[43my\u001b[49m\u001b[43m)\u001b[49m\n",
      "File \u001b[1;32m~\\anaconda3\\lib\\site-packages\\mlxtend\\feature_selection\\exhaustive_feature_selector.py:444\u001b[0m, in \u001b[0;36mExhaustiveFeatureSelector.fit\u001b[1;34m(self, X, y, groups, **fit_params)\u001b[0m\n\u001b[0;32m    441\u001b[0m n_jobs \u001b[38;5;241m=\u001b[39m \u001b[38;5;28mmin\u001b[39m(\u001b[38;5;28mself\u001b[39m\u001b[38;5;241m.\u001b[39mn_jobs, all_comb)\n\u001b[0;32m    442\u001b[0m parallel \u001b[38;5;241m=\u001b[39m Parallel(n_jobs\u001b[38;5;241m=\u001b[39mn_jobs, pre_dispatch\u001b[38;5;241m=\u001b[39m\u001b[38;5;28mself\u001b[39m\u001b[38;5;241m.\u001b[39mpre_dispatch)\n\u001b[0;32m    443\u001b[0m work \u001b[38;5;241m=\u001b[39m \u001b[38;5;28menumerate\u001b[39m(\n\u001b[1;32m--> 444\u001b[0m     \u001b[43mparallel\u001b[49m\u001b[43m(\u001b[49m\n\u001b[0;32m    445\u001b[0m \u001b[43m        \u001b[49m\u001b[43mdelayed\u001b[49m\u001b[43m(\u001b[49m\u001b[43m_calc_score\u001b[49m\u001b[43m)\u001b[49m\u001b[43m(\u001b[49m\n\u001b[0;32m    446\u001b[0m \u001b[43m            \u001b[49m\u001b[38;5;28;43mself\u001b[39;49m\u001b[43m,\u001b[49m\n\u001b[0;32m    447\u001b[0m \u001b[43m            \u001b[49m\u001b[43mX_\u001b[49m\u001b[43m,\u001b[49m\n\u001b[0;32m    448\u001b[0m \u001b[43m            \u001b[49m\u001b[43my\u001b[49m\u001b[43m,\u001b[49m\n\u001b[0;32m    449\u001b[0m \u001b[43m            \u001b[49m\u001b[38;5;28;43mlist\u001b[39;49m\u001b[43m(\u001b[49m\u001b[38;5;28;43mset\u001b[39;49m\u001b[43m(\u001b[49m\u001b[43mc\u001b[49m\u001b[43m)\u001b[49m\u001b[38;5;241;43m.\u001b[39;49m\u001b[43munion\u001b[49m\u001b[43m(\u001b[49m\u001b[38;5;28;43mself\u001b[39;49m\u001b[38;5;241;43m.\u001b[39;49m\u001b[43mfixed_features_group_set\u001b[49m\u001b[43m)\u001b[49m\u001b[43m)\u001b[49m\u001b[43m,\u001b[49m\n\u001b[0;32m    450\u001b[0m \u001b[43m            \u001b[49m\u001b[43mgroups\u001b[49m\u001b[38;5;241;43m=\u001b[39;49m\u001b[43mgroups\u001b[49m\u001b[43m,\u001b[49m\n\u001b[0;32m    451\u001b[0m \u001b[43m            \u001b[49m\u001b[43mfeature_groups\u001b[49m\u001b[38;5;241;43m=\u001b[39;49m\u001b[38;5;28;43mself\u001b[39;49m\u001b[38;5;241;43m.\u001b[39;49m\u001b[43mfeature_groups\u001b[49m\u001b[43m,\u001b[49m\n\u001b[0;32m    452\u001b[0m \u001b[43m            \u001b[49m\u001b[38;5;241;43m*\u001b[39;49m\u001b[38;5;241;43m*\u001b[39;49m\u001b[43mfit_params\u001b[49m\u001b[43m,\u001b[49m\n\u001b[0;32m    453\u001b[0m \u001b[43m        \u001b[49m\u001b[43m)\u001b[49m\n\u001b[0;32m    454\u001b[0m \u001b[43m        \u001b[49m\u001b[38;5;28;43;01mfor\u001b[39;49;00m\u001b[43m \u001b[49m\u001b[43mc\u001b[49m\u001b[43m \u001b[49m\u001b[38;5;129;43;01min\u001b[39;49;00m\u001b[43m \u001b[49m\u001b[43mcandidates\u001b[49m\n\u001b[0;32m    455\u001b[0m \u001b[43m    \u001b[49m\u001b[43m)\u001b[49m\n\u001b[0;32m    456\u001b[0m )\n\u001b[0;32m    458\u001b[0m \u001b[38;5;28;01mtry\u001b[39;00m:\n\u001b[0;32m    459\u001b[0m     \u001b[38;5;28;01mfor\u001b[39;00m iteration, (indices, cv_scores) \u001b[38;5;129;01min\u001b[39;00m work:\n",
      "File \u001b[1;32m~\\anaconda3\\lib\\site-packages\\joblib\\parallel.py:1056\u001b[0m, in \u001b[0;36mParallel.__call__\u001b[1;34m(self, iterable)\u001b[0m\n\u001b[0;32m   1053\u001b[0m     \u001b[38;5;28mself\u001b[39m\u001b[38;5;241m.\u001b[39m_iterating \u001b[38;5;241m=\u001b[39m \u001b[38;5;28;01mFalse\u001b[39;00m\n\u001b[0;32m   1055\u001b[0m \u001b[38;5;28;01mwith\u001b[39;00m \u001b[38;5;28mself\u001b[39m\u001b[38;5;241m.\u001b[39m_backend\u001b[38;5;241m.\u001b[39mretrieval_context():\n\u001b[1;32m-> 1056\u001b[0m     \u001b[38;5;28;43mself\u001b[39;49m\u001b[38;5;241;43m.\u001b[39;49m\u001b[43mretrieve\u001b[49m\u001b[43m(\u001b[49m\u001b[43m)\u001b[49m\n\u001b[0;32m   1057\u001b[0m \u001b[38;5;66;03m# Make sure that we get a last message telling us we are done\u001b[39;00m\n\u001b[0;32m   1058\u001b[0m elapsed_time \u001b[38;5;241m=\u001b[39m time\u001b[38;5;241m.\u001b[39mtime() \u001b[38;5;241m-\u001b[39m \u001b[38;5;28mself\u001b[39m\u001b[38;5;241m.\u001b[39m_start_time\n",
      "File \u001b[1;32m~\\anaconda3\\lib\\site-packages\\joblib\\parallel.py:935\u001b[0m, in \u001b[0;36mParallel.retrieve\u001b[1;34m(self)\u001b[0m\n\u001b[0;32m    933\u001b[0m \u001b[38;5;28;01mtry\u001b[39;00m:\n\u001b[0;32m    934\u001b[0m     \u001b[38;5;28;01mif\u001b[39;00m \u001b[38;5;28mgetattr\u001b[39m(\u001b[38;5;28mself\u001b[39m\u001b[38;5;241m.\u001b[39m_backend, \u001b[38;5;124m'\u001b[39m\u001b[38;5;124msupports_timeout\u001b[39m\u001b[38;5;124m'\u001b[39m, \u001b[38;5;28;01mFalse\u001b[39;00m):\n\u001b[1;32m--> 935\u001b[0m         \u001b[38;5;28mself\u001b[39m\u001b[38;5;241m.\u001b[39m_output\u001b[38;5;241m.\u001b[39mextend(\u001b[43mjob\u001b[49m\u001b[38;5;241;43m.\u001b[39;49m\u001b[43mget\u001b[49m\u001b[43m(\u001b[49m\u001b[43mtimeout\u001b[49m\u001b[38;5;241;43m=\u001b[39;49m\u001b[38;5;28;43mself\u001b[39;49m\u001b[38;5;241;43m.\u001b[39;49m\u001b[43mtimeout\u001b[49m\u001b[43m)\u001b[49m)\n\u001b[0;32m    936\u001b[0m     \u001b[38;5;28;01melse\u001b[39;00m:\n\u001b[0;32m    937\u001b[0m         \u001b[38;5;28mself\u001b[39m\u001b[38;5;241m.\u001b[39m_output\u001b[38;5;241m.\u001b[39mextend(job\u001b[38;5;241m.\u001b[39mget())\n",
      "File \u001b[1;32m~\\anaconda3\\lib\\site-packages\\joblib\\_parallel_backends.py:542\u001b[0m, in \u001b[0;36mLokyBackend.wrap_future_result\u001b[1;34m(future, timeout)\u001b[0m\n\u001b[0;32m    539\u001b[0m \u001b[38;5;124;03m\"\"\"Wrapper for Future.result to implement the same behaviour as\u001b[39;00m\n\u001b[0;32m    540\u001b[0m \u001b[38;5;124;03mAsyncResults.get from multiprocessing.\"\"\"\u001b[39;00m\n\u001b[0;32m    541\u001b[0m \u001b[38;5;28;01mtry\u001b[39;00m:\n\u001b[1;32m--> 542\u001b[0m     \u001b[38;5;28;01mreturn\u001b[39;00m \u001b[43mfuture\u001b[49m\u001b[38;5;241;43m.\u001b[39;49m\u001b[43mresult\u001b[49m\u001b[43m(\u001b[49m\u001b[43mtimeout\u001b[49m\u001b[38;5;241;43m=\u001b[39;49m\u001b[43mtimeout\u001b[49m\u001b[43m)\u001b[49m\n\u001b[0;32m    543\u001b[0m \u001b[38;5;28;01mexcept\u001b[39;00m CfTimeoutError \u001b[38;5;28;01mas\u001b[39;00m e:\n\u001b[0;32m    544\u001b[0m     \u001b[38;5;28;01mraise\u001b[39;00m \u001b[38;5;167;01mTimeoutError\u001b[39;00m \u001b[38;5;28;01mfrom\u001b[39;00m \u001b[38;5;21;01me\u001b[39;00m\n",
      "File \u001b[1;32m~\\anaconda3\\lib\\concurrent\\futures\\_base.py:441\u001b[0m, in \u001b[0;36mFuture.result\u001b[1;34m(self, timeout)\u001b[0m\n\u001b[0;32m    438\u001b[0m \u001b[38;5;28;01melif\u001b[39;00m \u001b[38;5;28mself\u001b[39m\u001b[38;5;241m.\u001b[39m_state \u001b[38;5;241m==\u001b[39m FINISHED:\n\u001b[0;32m    439\u001b[0m     \u001b[38;5;28;01mreturn\u001b[39;00m \u001b[38;5;28mself\u001b[39m\u001b[38;5;241m.\u001b[39m__get_result()\n\u001b[1;32m--> 441\u001b[0m \u001b[38;5;28;43mself\u001b[39;49m\u001b[38;5;241;43m.\u001b[39;49m\u001b[43m_condition\u001b[49m\u001b[38;5;241;43m.\u001b[39;49m\u001b[43mwait\u001b[49m\u001b[43m(\u001b[49m\u001b[43mtimeout\u001b[49m\u001b[43m)\u001b[49m\n\u001b[0;32m    443\u001b[0m \u001b[38;5;28;01mif\u001b[39;00m \u001b[38;5;28mself\u001b[39m\u001b[38;5;241m.\u001b[39m_state \u001b[38;5;129;01min\u001b[39;00m [CANCELLED, CANCELLED_AND_NOTIFIED]:\n\u001b[0;32m    444\u001b[0m     \u001b[38;5;28;01mraise\u001b[39;00m CancelledError()\n",
      "File \u001b[1;32m~\\anaconda3\\lib\\threading.py:312\u001b[0m, in \u001b[0;36mCondition.wait\u001b[1;34m(self, timeout)\u001b[0m\n\u001b[0;32m    310\u001b[0m \u001b[38;5;28;01mtry\u001b[39;00m:    \u001b[38;5;66;03m# restore state no matter what (e.g., KeyboardInterrupt)\u001b[39;00m\n\u001b[0;32m    311\u001b[0m     \u001b[38;5;28;01mif\u001b[39;00m timeout \u001b[38;5;129;01mis\u001b[39;00m \u001b[38;5;28;01mNone\u001b[39;00m:\n\u001b[1;32m--> 312\u001b[0m         \u001b[43mwaiter\u001b[49m\u001b[38;5;241;43m.\u001b[39;49m\u001b[43macquire\u001b[49m\u001b[43m(\u001b[49m\u001b[43m)\u001b[49m\n\u001b[0;32m    313\u001b[0m         gotit \u001b[38;5;241m=\u001b[39m \u001b[38;5;28;01mTrue\u001b[39;00m\n\u001b[0;32m    314\u001b[0m     \u001b[38;5;28;01melse\u001b[39;00m:\n",
      "\u001b[1;31mKeyboardInterrupt\u001b[0m: "
     ]
    }
   ],
   "source": [
    "efs = ExhaustiveFeatureSelector(DecisionTreeClassifier(), min_features=19, max_features=20, cv=5, n_jobs=-1)\n",
    "efs.fit(x,y)"
   ]
  },
  {
   "cell_type": "code",
   "execution_count": null,
   "id": "065fe2f3",
   "metadata": {},
   "outputs": [],
   "source": [
    "pd.DataFrame(efs.subsets_).T"
   ]
  },
  {
   "cell_type": "markdown",
   "id": "8899a03a",
   "metadata": {},
   "source": [
    "### 2.2 Recursive Feature Elimination"
   ]
  },
  {
   "cell_type": "code",
   "execution_count": null,
   "id": "55655219",
   "metadata": {},
   "outputs": [],
   "source": [
    "# from sklearn.feature_selection import RFE\n",
    "# from sklearn.tree import DecisionTreeClassifier\n",
    "\n",
    "# dt_model = DecisionTreeClassifier()\n",
    "\n",
    "# rfe = RFE(dt_model, n_features_to_select=15)\n",
    "# rfe.fit(x,y)\n",
    "# x = x[rfe.get_feature_names_out()]"
   ]
  },
  {
   "cell_type": "code",
   "execution_count": null,
   "id": "9aa625de",
   "metadata": {},
   "outputs": [],
   "source": []
  },
  {
   "cell_type": "code",
   "execution_count": null,
   "id": "721517f9",
   "metadata": {},
   "outputs": [],
   "source": [
    "# df.Rating.value_counts()"
   ]
  },
  {
   "cell_type": "code",
   "execution_count": null,
   "id": "5805d30a",
   "metadata": {},
   "outputs": [],
   "source": [
    "# target_column = \"Rating\"\n",
    "# x = df.drop(target_column,axis=1)\n",
    "# y = df[target_column]\n",
    "\n",
    "# # Create an instance\n",
    "# smote = SMOTE(random_state=None, k_neighbors = 5, sampling_strategy=0.9)\n",
    "\n",
    "# x , y = smote.fit_resample(x,y)  # 50:50\n",
    "# y.value_counts()"
   ]
  },
  {
   "cell_type": "code",
   "execution_count": null,
   "id": "dd92e4ad",
   "metadata": {},
   "outputs": [],
   "source": [
    "# target_column = \"Rating\"\n",
    "# x = df.drop(target_column,axis=1)\n",
    "# y = df[target_column]\n",
    "\n",
    "\n",
    "# x_train, x_test, y_train, y_test = train_test_split(x, y , test_size=0.3, random_state=10, stratify=y)\n",
    "\n",
    "# x_train"
   ]
  },
  {
   "cell_type": "code",
   "execution_count": null,
   "id": "9c44c323",
   "metadata": {},
   "outputs": [],
   "source": [
    "# y.value_counts()"
   ]
  },
  {
   "cell_type": "code",
   "execution_count": null,
   "id": "8cad4125",
   "metadata": {},
   "outputs": [],
   "source": [
    "# df[['Unit price','Quantity','Tax 5%','Total','cogs','gross income']]"
   ]
  },
  {
   "cell_type": "code",
   "execution_count": null,
   "id": "5f7dd89a",
   "metadata": {},
   "outputs": [],
   "source": [
    "# df"
   ]
  },
  {
   "cell_type": "code",
   "execution_count": null,
   "id": "2bec7900",
   "metadata": {},
   "outputs": [],
   "source": [
    "df = pd.concat([x,y],axis=1)\n",
    "df"
   ]
  },
  {
   "cell_type": "code",
   "execution_count": null,
   "id": "70baf4a3",
   "metadata": {},
   "outputs": [],
   "source": [
    "# def svm_std_scalar(df):\n",
    "#     df1 = df.copy()\n",
    "    \n",
    "#     x1 = ['Unit price','Quantity','Tax 5%','Total','cogs','gross income']\n",
    "    \n",
    "#     std_scalar = StandardScaler()\n",
    "#     std_scalar.fit(df1[x1])\n",
    "#     array = std_scalar.transform(df1[x1])\n",
    "#     x = pd.DataFrame(array, columns=x1)\n",
    "#     for i in x1:\n",
    "#         df1[i] = x[i]\n",
    "   \n",
    "    \n",
    "    \n",
    "#     target_column = \"Rating\"\n",
    "#     x = df1.drop(target_column,axis=1)\n",
    "#     y = df1[target_column]\n",
    "\n",
    "#     x_train, x_test, y_train, y_test = train_test_split(x, y , test_size=0.3, random_state=10, stratify=y)\n",
    "    \n",
    "#     svm_std=SVC()\n",
    "#     svm_std.fit(x_train,y_train)\n",
    "#     model_details.append(\"SVM with Std Scaling\")\n",
    "#     #Testing Data\n",
    "#     y_pred = svm_std.predict(x_test)\n",
    "#     cnf_matrix = confusion_matrix(y_pred, y_test)\n",
    "#     print(\"Confusion Matrix:\\n\",cnf_matrix)\n",
    "#     accuracy = accuracy_score(y_pred, y_test)*100\n",
    "#     print(\"Accuracy Score\", accuracy)\n",
    "#     Testing_accuracy.append(accuracy)\n",
    "#     clf_report = classification_report(y_pred, y_test)\n",
    "#     print(\"Classification report:\\n\",clf_report)\n",
    "    \n",
    "#     recall = recall_score(y_pred,y_test)*100\n",
    "#     print(\"Recall :\" ,recall)\n",
    "#     Testing_Recall.append(recall)\n",
    "    \n",
    "#     precision = precision_score(y_pred,y_test)*100\n",
    "#     print(\"Precision :\",precision)\n",
    "#     Testing_Precision.append(precision)\n",
    "    \n",
    "#     F1_score = f1_score(y_pred,y_test)*100\n",
    "#     print(\"F1-Score :\",F1_score)\n",
    "#     Testing_F1_Score.append(F1_score)\n",
    "    \n",
    "#     print(\"@\"*120)\n",
    "#     #Training Data\n",
    "#     y_pred_train = svm_std.predict(x_train)\n",
    "#     cnf_matrix = confusion_matrix(y_pred_train, y_train)\n",
    "#     print(\"Confusion Matrix:\\n\",cnf_matrix)\n",
    "#     accuracy = accuracy_score(y_pred_train, y_train)*100\n",
    "#     print(\"Accuracy Score\", accuracy)\n",
    "#     Training_accuracy.append(accuracy)\n",
    "#     clf_report = classification_report(y_pred_train, y_train)\n",
    "#     print(\"Classification report:\\n\",clf_report) \n",
    "# #     print(x_train)\n",
    "# svm_std_scalar(df)\n"
   ]
  },
  {
   "cell_type": "code",
   "execution_count": null,
   "id": "22b56ad3",
   "metadata": {},
   "outputs": [],
   "source": [
    "df"
   ]
  },
  {
   "cell_type": "markdown",
   "id": "68b01c04",
   "metadata": {},
   "source": [
    "# Model Evaluation "
   ]
  },
  {
   "cell_type": "code",
   "execution_count": null,
   "id": "75aad9ff",
   "metadata": {},
   "outputs": [],
   "source": [
    "print(\"************************************ SVM Classification *********************************************\")\n",
    "def SVM_clf(x_test,y_test,x_train,y_train):\n",
    "    svm_clf = SVC(random_state=5)\n",
    "    svm_clf.fit(x_train, y_train)\n",
    "    model_details.append(\"SVM Classification\")\n",
    "    # Testing Accuracy\n",
    "\n",
    "    y_pred = svm_clf.predict(x_test)\n",
    "\n",
    "    cnf_matrix = confusion_matrix(y_pred, y_test)\n",
    "    print(\"Confusion Matrix:\\n\", cnf_matrix)\n",
    "    print(\"*\"*55)\n",
    "\n",
    "    accuracy = accuracy_score(y_pred, y_test)*100\n",
    "    print(\"Accuracy Score:\",accuracy)\n",
    "    print(\"*\"*55)\n",
    "\n",
    "    Testing_accuracy.append(accuracy)\n",
    "    clf_report = classification_report(y_pred, y_test)\n",
    "    print(\"Classification report:\\n\", clf_report)\n",
    "    \n",
    "    recall = recall_score(y_pred,y_test)*100\n",
    "    print(\"Recall :\" ,recall)\n",
    "    Testing_Recall.append(recall)\n",
    "    \n",
    "    precision = precision_score(y_pred,y_test)*100\n",
    "    print(\"Precision :\",precision)\n",
    "    Testing_Precision.append(precision)\n",
    "    \n",
    "    F1_score = f1_score(y_pred,y_test)*100\n",
    "    print(\"F1-Score :\",F1_score)\n",
    "    Testing_F1_Score.append(F1_score)\n",
    "    print(\"@\"*120)\n",
    "    # Training Accuracy\n",
    "\n",
    "    y_pred_train = svm_clf.predict(x_train)\n",
    "\n",
    "    cnf_matrix = confusion_matrix(y_pred_train, y_train)\n",
    "    print(\"Confusion Matrix:\\n\", cnf_matrix)\n",
    "    print(\"*\"*55)\n",
    "\n",
    "    accuracy = accuracy_score(y_pred_train, y_train)*100\n",
    "    print(\"Accuracy Score:\",accuracy)\n",
    "    print(\"*\"*55)\n",
    "    Training_accuracy.append(accuracy)\n",
    "\n",
    "    clf_report = classification_report(y_pred_train, y_train)\n",
    "    print(\"Classification report:\\n\", clf_report)\n",
    "SVM_clf(x_test,y_test,x_train,y_train)  \n",
    "\n",
    "\n",
    "print(\"************************************ SVM with Hyperparameter  *********************************************\")  \n",
    "\n",
    "def SVM_clf_hyp(df):\n",
    "    \n",
    "    df1 = df.copy()\n",
    "    \n",
    "    x1 = ['Unit price','Quantity','Tax 5%','Total','cogs','gross income']\n",
    "    \n",
    "    std_scalar = StandardScaler()\n",
    "    std_scalar.fit(df1[x1])\n",
    "    array = std_scalar.transform(df1[x1])\n",
    "    x = pd.DataFrame(array, columns=x1)\n",
    "    for i in x1:\n",
    "        df1[i] = x[i]\n",
    "   \n",
    "    \n",
    "    \n",
    "    target_column = \"Rating\"\n",
    "    x = df1.drop(target_column,axis=1)\n",
    "    y = df1[target_column]\n",
    "\n",
    "    x_train, x_test, y_train, y_test = train_test_split(x, y , test_size=0.3, random_state=10, stratify=y)\n",
    "    \n",
    "    \n",
    "    svm_clf_hyp = SVC(random_state=5)\n",
    "    model_details.append(\"SVM with Hyperparameter\")\n",
    "    \n",
    "    hyperparameters = {\"C\":np.arange(1,2),\n",
    "                      \"kernel\": ['linear', 'poly', 'rbf', 'sigmoid']}\n",
    "\n",
    "    gscv_svm = GridSearchCV(svm_clf_hyp, hyperparameters, cv=5)\n",
    "    gscv_svm.fit(x_train, y_train)\n",
    "    gscv_svm.best_estimator_\n",
    "\n",
    "    svm_clf = gscv_svm.best_estimator_\n",
    "    svm_clf.fit(x_train, y_train)\n",
    "\n",
    "    # Testing Accuracy\n",
    "\n",
    "    y_pred = svm_clf.predict(x_test)\n",
    "\n",
    "    cnf_matrix = confusion_matrix(y_pred, y_test)\n",
    "    print(\"Confusion Matrix:\\n\", cnf_matrix)\n",
    "    print(\"*\"*55)\n",
    "\n",
    "    accuracy = accuracy_score(y_pred, y_test)*100\n",
    "    print(\"Accuracy Score:\",accuracy)\n",
    "    print(\"*\"*55)\n",
    "\n",
    "    Testing_accuracy.append(accuracy)\n",
    "    \n",
    "    clf_report = classification_report(y_pred, y_test)\n",
    "    print(\"Classification report:\\n\", clf_report)\n",
    "\n",
    "    recall = recall_score(y_pred,y_test)*100\n",
    "    print(\"Recall :\" ,recall)\n",
    "    Testing_Recall.append(recall)\n",
    "    \n",
    "    precision = precision_score(y_pred,y_test)*100\n",
    "    print(\"Precision :\",precision)\n",
    "    Testing_Precision.append(precision)\n",
    "    \n",
    "    F1_score = f1_score(y_pred,y_test)*100\n",
    "    print(\"F1-Score :\",F1_score)\n",
    "    Testing_F1_Score.append(F1_score)\n",
    "    print(\"@\"*120)\n",
    "    # Training Accuracy\n",
    "\n",
    "    y_pred_train = svm_clf.predict(x_train)\n",
    "\n",
    "    cnf_matrix = confusion_matrix(y_pred_train, y_train)\n",
    "    print(\"Confusion Matrix:\\n\", cnf_matrix)\n",
    "    print(\"*\"*55)\n",
    "\n",
    "    accuracy = accuracy_score(y_pred_train, y_train)*100\n",
    "    print(\"Accuracy Score:\",accuracy)\n",
    "    print(\"*\"*55)\n",
    "    Training_accuracy.append(accuracy)\n",
    "\n",
    "    clf_report = classification_report(y_pred_train, y_train)\n",
    "    print(\"Classification report:\\n\", clf_report)\n",
    "SVM_clf_hyp(df)\n",
    "\n",
    "print(\"************************************ SVM with Standard scalar*********************************************\")\n",
    "def svm_std_scalar(df):\n",
    "    \n",
    "       \n",
    "    df1 = df.copy()\n",
    "    \n",
    "    x1 = ['Unit price','Quantity','Tax 5%','Total','cogs','gross income']\n",
    "    \n",
    "    std_scalar = StandardScaler()\n",
    "    std_scalar.fit(df1[x1])\n",
    "    array = std_scalar.transform(df1[x1])\n",
    "    x = pd.DataFrame(array, columns=x1)\n",
    "    for i in x1:\n",
    "        df1[i] = x[i]\n",
    "   \n",
    "    \n",
    "    \n",
    "    target_column = \"Rating\"\n",
    "    x = df1.drop(target_column,axis=1)\n",
    "    y = df1[target_column]\n",
    "\n",
    "    x_train, x_test, y_train, y_test = train_test_split(x, y , test_size=0.3, random_state=10, stratify=y)\n",
    "    \n",
    "    svm_std=SVC()\n",
    "    svm_std.fit(x_train,y_train)\n",
    "    model_details.append(\"SVM with Std Scaling\")\n",
    "    #Testing Data\n",
    "    y_pred = svm_std.predict(x_test)\n",
    "    cnf_matrix = confusion_matrix(y_pred, y_test)\n",
    "    print(\"Confusion Matrix:\\n\",cnf_matrix)\n",
    "    accuracy = accuracy_score(y_pred, y_test)*100\n",
    "    print(\"Accuracy Score\", accuracy)\n",
    "    Testing_accuracy.append(accuracy)\n",
    "    clf_report = classification_report(y_pred, y_test)\n",
    "    print(\"Classification report:\\n\",clf_report)\n",
    "    print(\"@\"*120)\n",
    "    \n",
    "    recall = recall_score(y_pred,y_test)*100\n",
    "    print(\"Recall :\" ,recall)\n",
    "    Testing_Recall.append(recall)\n",
    "    \n",
    "    precision = precision_score(y_pred,y_test)*100\n",
    "    print(\"Precision :\",precision)\n",
    "    Testing_Precision.append(precision)\n",
    "    \n",
    "    F1_score = f1_score(y_pred,y_test)*100\n",
    "    print(\"F1-Score :\",F1_score)\n",
    "    Testing_F1_Score.append(F1_score)\n",
    "    \n",
    "    print(\"@\"*120)\n",
    "    #Training Data\n",
    "    y_pred_train = svm_std.predict(x_train)\n",
    "    cnf_matrix = confusion_matrix(y_pred_train, y_train)\n",
    "    print(\"Confusion Matrix:\\n\",cnf_matrix)\n",
    "    accuracy = accuracy_score(y_pred_train, y_train)*100\n",
    "    print(\"Accuracy Score\", accuracy)\n",
    "    Training_accuracy.append(accuracy)\n",
    "    clf_report = classification_report(y_pred_train, y_train)\n",
    "    print(\"Classification report:\\n\",clf_report)    \n",
    "svm_std_scalar(df)\n",
    "\n",
    "print(\"************************************ SVM with normal scalar*********************************************\")\n",
    "\n",
    "\n",
    "def svm_MinMax_scalar(df):\n",
    "        \n",
    "    df1 = df.copy()\n",
    "    \n",
    "    x1 = ['Unit price','Quantity','Tax 5%','Total','cogs','gross income']\n",
    "    \n",
    "    normal_scalar = MinMaxScaler()\n",
    "    normal_scalar.fit(df1[x1])\n",
    "    array = normal_scalar.transform(df1[x1])\n",
    "    x = pd.DataFrame(array, columns=x1)\n",
    "    for i in x1:\n",
    "        df1[i] = x[i]\n",
    "   \n",
    "    \n",
    "    \n",
    "    target_column = \"Rating\"\n",
    "    x = df1.drop(target_column,axis=1)\n",
    "    y = df1[target_column]\n",
    "\n",
    "    x_train, x_test, y_train, y_test = train_test_split(x, y , test_size=0.3, random_state=10, stratify=y)\n",
    "    \n",
    "    svm_normal = SVC(random_state=5)\n",
    "    svm_normal.fit(x_train,y_train)\n",
    "    model_details.append(\"SVM with Normal Scaling\")\n",
    "    #Testing Data\n",
    "    y_pred = svm_normal.predict(x_test)\n",
    "    cnf_matrix = confusion_matrix(y_pred, y_test)\n",
    "    print(\"Confusion Matrix:\\n\",cnf_matrix)\n",
    "    accuracy = accuracy_score(y_pred, y_test)*100\n",
    "    print(\"Accuracy Score\", accuracy)\n",
    "    Testing_accuracy.append(accuracy)\n",
    "    clf_report = classification_report(y_pred, y_test)\n",
    "    print(\"Classification report:\\n\",clf_report)\n",
    "    print(\"@\"*120)\n",
    "    \n",
    "    recall = recall_score(y_pred,y_test)*100\n",
    "    print(\"Recall :\" ,recall)\n",
    "    Testing_Recall.append(recall)\n",
    "    \n",
    "    precision = precision_score(y_pred,y_test)*100\n",
    "    print(\"Precision :\",precision)\n",
    "    Testing_Precision.append(precision)\n",
    "    \n",
    "    F1_score = f1_score(y_pred,y_test)*100\n",
    "    print(\"F1-Score :\",F1_score)\n",
    "    Testing_F1_Score.append(F1_score)\n",
    "    \n",
    "    print(\"@\"*120)\n",
    "    #Training Data\n",
    "    y_pred_train = svm_normal.predict(x_train)\n",
    "    cnf_matrix = confusion_matrix(y_pred_train, y_train)\n",
    "    print(\"Confusion Matrix:\\n\",cnf_matrix)\n",
    "    accuracy = accuracy_score(y_pred_train, y_train)*100\n",
    "    print(\"Accuracy Score\", accuracy)\n",
    "    Training_accuracy.append(accuracy)\n",
    "    clf_report = classification_report(y_pred_train, y_train)\n",
    "    print(\"Classification report:\\n\",clf_report)    \n",
    "svm_MinMax_scalar(df)\n",
    "\n",
    "\n",
    "print(\"************************************ Logistic Regression*********************************************\")\n",
    "def LOG_model(x_test,y_test,x_train,y_train):\n",
    "    lr_model=LogisticRegression(random_state=5)\n",
    "    lr_model.fit(x_train,y_train)\n",
    "    model_details.append(\"Logistic Regression\")\n",
    "    #Testing Data\n",
    "    y_pred = lr_model.predict(x_test)\n",
    "    cnf_matrix = confusion_matrix(y_pred, y_test)\n",
    "    print(\"Confusion Matrix:\\n\",cnf_matrix)\n",
    "    accuracy = accuracy_score(y_pred, y_test)*100\n",
    "    print(\"Accuracy Score\", accuracy)\n",
    "    Testing_accuracy.append(accuracy)\n",
    "    clf_report = classification_report(y_pred, y_test)\n",
    "    print(\"Classification report:\\n\",clf_report)\n",
    "    print(\"@\"*120)\n",
    "    \n",
    "    recall = recall_score(y_pred,y_test)*100\n",
    "    print(\"Recall :\" ,recall)\n",
    "    Testing_Recall.append(recall)\n",
    "    \n",
    "    precision = precision_score(y_pred,y_test)*100\n",
    "    print(\"Precision :\",precision)\n",
    "    Testing_Precision.append(precision)\n",
    "    \n",
    "    F1_score = f1_score(y_pred,y_test)*100\n",
    "    print(\"F1-Score :\",F1_score)\n",
    "    Testing_F1_Score.append(F1_score)\n",
    "    \n",
    "    print(\"@\"*120)\n",
    "    #Training Data\n",
    "    y_pred_train = lr_model.predict(x_train)\n",
    "    cnf_matrix = confusion_matrix(y_pred_train, y_train)\n",
    "    print(\"Confusion Matrix:\\n\",cnf_matrix)\n",
    "    accuracy = accuracy_score(y_pred_train, y_train)*100\n",
    "    print(\"Accuracy Score\", accuracy)\n",
    "    Training_accuracy.append(accuracy)\n",
    "    clf_report = classification_report(y_pred_train, y_train)\n",
    "    print(\"Classification report:\\n\",clf_report)      \n",
    "LOG_model(x_test,y_test,x_train,y_train)\n",
    "\n",
    "print(\"************************************ K-Neighbours Regression*********************************************\")\n",
    "\n",
    "def KNN_model1(x_test,y_test,x_train,y_train):\n",
    "    knn_model=KNeighborsClassifier()\n",
    "    knn_model.fit(x_train,y_train)\n",
    "    model_details.append(\"K-Neighbours Classification Without Scaling\")\n",
    "    #Testing Data\n",
    "    y_pred = knn_model.predict(x_test)\n",
    "    cnf_matrix = confusion_matrix(y_pred, y_test)\n",
    "    print(\"Confusion Matrix:\\n\",cnf_matrix)\n",
    "    accuracy = accuracy_score(y_pred, y_test)*100\n",
    "    print(\"Accuracy Score\", accuracy)\n",
    "    Testing_accuracy.append(accuracy)\n",
    "    clf_report = classification_report(y_pred, y_test)\n",
    "    print(\"Classification report:\\n\",clf_report)\n",
    "    print(\"@\"*120)\n",
    "    \n",
    "    recall = recall_score(y_pred,y_test)*100\n",
    "    print(\"Recall :\" ,recall)\n",
    "    Testing_Recall.append(recall)\n",
    "    \n",
    "    precision = precision_score(y_pred,y_test)*100\n",
    "    print(\"Precision :\",precision)\n",
    "    Testing_Precision.append(precision)\n",
    "    \n",
    "    F1_score = f1_score(y_pred,y_test)*100\n",
    "    print(\"F1-Score :\",F1_score)\n",
    "    Testing_F1_Score.append(F1_score)\n",
    "    \n",
    "    print(\"@\"*120)\n",
    "    #Training Data\n",
    "    y_pred_train = knn_model.predict(x_train)\n",
    "    cnf_matrix = confusion_matrix(y_pred_train, y_train)\n",
    "    print(\"Confusion Matrix:\\n\",cnf_matrix)\n",
    "    accuracy = accuracy_score(y_pred_train, y_train)*100\n",
    "    print(\"Accuracy Score\", accuracy)\n",
    "    Training_accuracy.append(accuracy)\n",
    "    clf_report = classification_report(y_pred_train, y_train)\n",
    "    print(\"Classification report:\\n\",clf_report)    \n",
    "KNN_model1(x_test,y_test,x_train,y_train)\n",
    "\n",
    "print(\"************************************ K-Neighbours with std scalar *********************************************\")\n",
    "\n",
    "    \n",
    "def knn_std_scalar(df):\n",
    "    df1 = df.copy()\n",
    "    \n",
    "    x1 = ['Unit price','Quantity','Tax 5%','Total','cogs','gross income']\n",
    "    \n",
    "    std_scalar = StandardScaler()\n",
    "    std_scalar.fit(df1[x1])\n",
    "    array = std_scalar.transform(df1[x1])\n",
    "    x = pd.DataFrame(array, columns=x1)\n",
    "    for i in x1:\n",
    "        df1[i] = x[i]\n",
    "   \n",
    "    \n",
    "    \n",
    "    target_column = \"Rating\"\n",
    "    x = df1.drop(target_column,axis=1)\n",
    "    y = df1[target_column]\n",
    "\n",
    "    x_train, x_test, y_train, y_test = train_test_split(x, y , test_size=0.3, random_state=10, stratify=y)\n",
    "    \n",
    "    knn_model_std = KNeighborsClassifier()\n",
    "    knn_model_std.fit(x_train,y_train)\n",
    "    model_details.append(\"KNN with Std Scaling\")\n",
    "    #Testing Data\n",
    "    y_pred = knn_model_std.predict(x_test)\n",
    "    cnf_matrix = confusion_matrix(y_pred, y_test)\n",
    "    print(\"Confusion Matrix:\\n\",cnf_matrix)\n",
    "    accuracy = accuracy_score(y_pred, y_test)*100\n",
    "    print(\"Accuracy Score\", accuracy)\n",
    "    Testing_accuracy.append(accuracy)\n",
    "    clf_report = classification_report(y_pred, y_test)\n",
    "    print(\"Classification report:\\n\",clf_report)\n",
    "    print(\"@\"*120)\n",
    "    \n",
    "    recall = recall_score(y_pred,y_test)*100\n",
    "    print(\"Recall :\" ,recall)\n",
    "    Testing_Recall.append(recall)\n",
    "    \n",
    "    precision = precision_score(y_pred,y_test)*100\n",
    "    print(\"Precision :\",precision)\n",
    "    Testing_Precision.append(precision)\n",
    "    \n",
    "    F1_score = f1_score(y_pred,y_test)*100\n",
    "    print(\"F1-Score :\",F1_score)\n",
    "    Testing_F1_Score.append(F1_score)\n",
    "    \n",
    "    print(\"@\"*120)\n",
    "    #Training Data\n",
    "    y_pred_train = knn_model_std.predict(x_train)\n",
    "    cnf_matrix = confusion_matrix(y_pred_train, y_train)\n",
    "    print(\"Confusion Matrix:\\n\",cnf_matrix)\n",
    "    accuracy = accuracy_score(y_pred_train, y_train)*100\n",
    "    print(\"Accuracy Score\", accuracy)\n",
    "    Training_accuracy.append(accuracy)\n",
    "    clf_report = classification_report(y_pred_train, y_train)\n",
    "    print(\"Classification report:\\n\",clf_report)    \n",
    "knn_std_scalar(df)\n",
    "\n",
    "print(\"************************************ K-Neighbours with normal scalar*********************************************\")\n",
    "\n",
    "\n",
    "def knn_MinMax_scalar(df):\n",
    "    df1 = df.copy()\n",
    "    \n",
    "    x1 = ['Unit price','Quantity','Tax 5%','Total','cogs','gross income']\n",
    "    \n",
    "    normal_scalar = MinMaxScaler()\n",
    "    normal_scalar.fit(df1[x1])\n",
    "    array = normal_scalar.transform(df1[x1])\n",
    "    x = pd.DataFrame(array, columns=x1)\n",
    "    for i in x1:\n",
    "        df1[i] = x[i]\n",
    "   \n",
    "    \n",
    "    \n",
    "    target_column = \"Rating\"\n",
    "    x = df1.drop(target_column,axis=1)\n",
    "    y = df1[target_column]\n",
    "\n",
    "    x_train, x_test, y_train, y_test = train_test_split(x, y , test_size=0.3, random_state=10, stratify=y)\n",
    "    \n",
    "    knn_model_normal = KNeighborsClassifier()\n",
    "    knn_model_normal.fit(x_train,y_train)\n",
    "    model_details.append(\"KNN with Normal Scaling\")\n",
    "    #Testing Data\n",
    "    y_pred = knn_model_normal.predict(x_test)\n",
    "    cnf_matrix = confusion_matrix(y_pred, y_test)\n",
    "    print(\"Confusion Matrix:\\n\",cnf_matrix)\n",
    "    accuracy = accuracy_score(y_pred, y_test)*100\n",
    "    print(\"Accuracy Score\", accuracy)\n",
    "    Testing_accuracy.append(accuracy)\n",
    "    clf_report = classification_report(y_pred, y_test)\n",
    "    print(\"Classification report:\\n\",clf_report)\n",
    "    print(\"@\"*120)\n",
    "    \n",
    "    recall = recall_score(y_pred,y_test)*100\n",
    "    print(\"Recall :\" ,recall)\n",
    "    Testing_Recall.append(recall)\n",
    "    \n",
    "    precision = precision_score(y_pred,y_test)*100\n",
    "    print(\"Precision :\",precision)\n",
    "    Testing_Precision.append(precision)\n",
    "    \n",
    "    F1_score = f1_score(y_pred,y_test)*100\n",
    "    print(\"F1-Score :\",F1_score)\n",
    "    Testing_F1_Score.append(F1_score)\n",
    "    print(\"@\"*120)\n",
    "    \n",
    "    #Training Data\n",
    "    y_pred_train = knn_model_normal.predict(x_train)\n",
    "    cnf_matrix = confusion_matrix(y_pred_train, y_train)\n",
    "    print(\"Confusion Matrix:\\n\",cnf_matrix)\n",
    "    accuracy = accuracy_score(y_pred_train, y_train)*100\n",
    "    print(\"Accuracy Score\", accuracy)\n",
    "    Training_accuracy.append(accuracy)\n",
    "    clf_report = classification_report(y_pred_train, y_train)\n",
    "    print(\"Classification report:\\n\",clf_report)    \n",
    "knn_MinMax_scalar(df)\n",
    "\n",
    "print(\"************************************** KNN-HyperParameter Tuning  **********************************************\")\n",
    "\n",
    "def hyper_parameter_knn(df):\n",
    "    df1 = df.copy()\n",
    "    \n",
    "    x1 = ['Unit price','Quantity','Tax 5%','Total','cogs','gross income']\n",
    "    \n",
    "    std_scalar = StandardScaler()\n",
    "    std_scalar.fit(df1[x1])\n",
    "    array = std_scalar.transform(df1[x1])\n",
    "    x = pd.DataFrame(array, columns=x1)\n",
    "    for i in x1:\n",
    "        df1[i] = x[i]\n",
    "   \n",
    "    \n",
    "    \n",
    "    target_column = \"Rating\"\n",
    "    x = df1.drop(target_column,axis=1)\n",
    "    y = df1[target_column]\n",
    "\n",
    "    x_train, x_test, y_train, y_test = train_test_split(x, y , test_size=0.3, random_state=10, stratify=y)\n",
    "    \n",
    "    knn_clf=KNeighborsClassifier()        # estimator\n",
    "    hyperparameters = {\"n_neighbors\" : np.arange(3,30),\n",
    "                      \"p\": [1,2]}                                              # param-grid\n",
    "    gscv_knn_clf =GridSearchCV(knn_clf,hyperparameters,cv=5)\n",
    "    gscv_knn_clf.fit(x_train,y_train)\n",
    "    gscv_knn_clf.best_estimator_\n",
    "    gscv_knn_clf.best_params_\n",
    "    model_details.append(\"KNN-Hyperparameter_Tunning\")\n",
    "\n",
    "    #testing_accuracy\n",
    "    y_pred = gscv_knn_clf.predict(x_test)\n",
    "    cnf_matrix = confusion_matrix(y_pred, y_test)\n",
    "    print(\"Confusion Matrix:\\n\",cnf_matrix)\n",
    "    accuracy = accuracy_score(y_pred, y_test)*100\n",
    "    print(\"Accuracy Score\", accuracy)\n",
    "    \n",
    "    Testing_accuracy.append(accuracy)\n",
    "    \n",
    "    clf_report = classification_report(y_pred, y_test)\n",
    "    print(\"Classification report:\\n\",clf_report)\n",
    "    print(\"@\"*120)\n",
    "    \n",
    "    recall = recall_score(y_pred,y_test)*100\n",
    "    print(\"Recall :\" ,recall)\n",
    "    Testing_Recall.append(recall)\n",
    "    \n",
    "    precision = precision_score(y_pred,y_test)*100\n",
    "    print(\"Precision :\",precision)\n",
    "    Testing_Precision.append(precision)\n",
    "    \n",
    "    F1_score = f1_score(y_pred,y_test)*100\n",
    "    print(\"F1-Score :\",F1_score)\n",
    "    Testing_F1_Score.append(F1_score)\n",
    "    print(\"@\"*120)\n",
    "    \n",
    "    #training_accuracy\n",
    "    y_pred_train = gscv_knn_clf.predict(x_train)\n",
    "    cnf_matrix = confusion_matrix(y_pred_train, y_train)\n",
    "    print(\"Confusion Matrix:\\n\",cnf_matrix)\n",
    "    accuracy = accuracy_score(y_pred_train, y_train)*100\n",
    "    print(\"Accuracy Score\", accuracy)\n",
    "\n",
    "    Training_accuracy.append(accuracy)\n",
    "    clf_report = classification_report(y_pred_train, y_train)\n",
    "    print(\"Classification report:\\n\",clf_report)    \n",
    "hyper_parameter_knn(df) \n",
    "\n",
    "print(\"************************************ Decision-Tree Regression*********************************************\")\n",
    "\n",
    "def tree_model(x_test,y_test,x_train,y_train):\n",
    "    dt_model=DecisionTreeClassifier(random_state=5)\n",
    "    dt_model.fit(x_train,y_train)\n",
    "    model_details.append(\"Decision-Tree Regression\")\n",
    "    #Testing Data\n",
    "    y_pred = dt_model.predict(x_test)\n",
    "    cnf_matrix = confusion_matrix(y_pred, y_test)\n",
    "    print(\"Confusion Matrix:\\n\",cnf_matrix)\n",
    "    accuracy = accuracy_score(y_pred, y_test)*100\n",
    "    print(\"Accuracy Score\", accuracy)\n",
    "    Testing_accuracy.append(accuracy)\n",
    "    clf_report = classification_report(y_pred, y_test)\n",
    "    print(\"Classification report:\\n\",clf_report)\n",
    "    print(\"@\"*120)\n",
    "    \n",
    "    recall = recall_score(y_pred,y_test)*100\n",
    "    print(\"Recall :\" ,recall)\n",
    "    Testing_Recall.append(recall)\n",
    "    \n",
    "    precision = precision_score(y_pred,y_test)*100\n",
    "    print(\"Precision :\",precision)\n",
    "    Testing_Precision.append(precision)\n",
    "    \n",
    "    F1_score = f1_score(y_pred,y_test)*100\n",
    "    print(\"F1-Score :\",F1_score)\n",
    "    Testing_F1_Score.append(F1_score)\n",
    "    \n",
    "    print(\"@\"*120)\n",
    "    #Training Data\n",
    "    y_pred_train = dt_model.predict(x_train)\n",
    "    cnf_matrix = confusion_matrix(y_pred_train, y_train)\n",
    "    print(\"Confusion Matrix:\\n\",cnf_matrix)\n",
    "    accuracy = accuracy_score(y_pred_train, y_train)*100\n",
    "    print(\"Accuracy Score\", accuracy)\n",
    "    Training_accuracy.append(accuracy)\n",
    "    clf_report = classification_report(y_pred_train, y_train)\n",
    "    print(\"Classification report:\\n\",clf_report)    \n",
    "tree_model(x_test,y_test,x_train,y_train)\n",
    "\n",
    "print(\"************************************** Pre_prunning Decision Tree  **********************************************\")\n",
    "\n",
    "def pre_pruning(x_train,y_train,x_test,y_test):\n",
    "    dt_clf = DecisionTreeClassifier(random_state=5)\n",
    "\n",
    "    hyperparameter = {\"criterion\":['gini', 'entropy'],\n",
    "    'max_depth':np.arange(3,8),\n",
    "    'min_samples_split': np.arange(2,8),\n",
    "    'min_samples_leaf':np.arange(5,7)}\n",
    "\n",
    "    gscv_dt_clf_model = GridSearchCV(dt_clf, hyperparameter, cv = 5)\n",
    "    gscv_dt_clf_model.fit(x_train, y_train)\n",
    "\n",
    "    dt_clf_hp_model = gscv_dt_clf_model.best_estimator_\n",
    "    dt_clf_hp_model.fit(x_train, y_train)\n",
    "    model_details.append(\"Pre-Pruning DT Classifier\")\n",
    "    # Testing data\n",
    "    y_pred = dt_clf_hp_model.predict(x_test)\n",
    "    cnf_matrix = confusion_matrix(y_test, y_pred)\n",
    "    print(\"Confusion Matrix:\\n\",cnf_matrix)\n",
    "\n",
    "    print(\"*\"*45)\n",
    "    accuracy = accuracy_score(y_test, y_pred)*100\n",
    "    print(\"Accuracy Score:\",accuracy)\n",
    "    print(\"*\"*45)\n",
    "    Testing_accuracy.append(accuracy)\n",
    "    clf_report = classification_report(y_test, y_pred)\n",
    "    print(\"Classification report:\\n\",clf_report)\n",
    "    \n",
    "    recall = recall_score(y_pred,y_test)*100\n",
    "    print(\"Recall :\" ,recall)\n",
    "    Testing_Recall.append(recall)\n",
    "    \n",
    "    precision = precision_score(y_pred,y_test)*100\n",
    "    print(\"Precision :\",precision)\n",
    "    Testing_Precision.append(precision)\n",
    "    \n",
    "    F1_score = f1_score(y_pred,y_test)*100\n",
    "    print(\"F1-Score :\",F1_score)\n",
    "    Testing_F1_Score.append(F1_score)\n",
    "    \n",
    "    \n",
    "    print(\"*\"*90)\n",
    "\n",
    "    # Training data\n",
    "\n",
    "    # prediction\n",
    "    y_pred_train = dt_clf_hp_model.predict(x_train)\n",
    "\n",
    "    cnf_matrix = confusion_matrix(y_train, y_pred_train)\n",
    "    print(\"Confusion Matrix:\\n\",cnf_matrix)\n",
    "\n",
    "    print(\"*\"*45)\n",
    "    accuracy = accuracy_score(y_train, y_pred_train)*100\n",
    "    print(\"Accuracy Score:\",accuracy)\n",
    "    print(\"*\"*45)\n",
    "    Training_accuracy.append(accuracy)\n",
    "    clf_report = classification_report(y_train, y_pred_train)\n",
    "    print(\"Classification report:\\n\",clf_report)\n",
    "      \n",
    "pre_pruning(x_train,y_train,x_test,y_test)\n",
    "\n",
    "print(\"**************************************  Post Pruning-CCP Alpha DT **********************************************\")\n",
    "def post_pruning(x_train,y_train,x_test,y_test):\n",
    "    decision_tree = DecisionTreeClassifier(random_state=5)\n",
    "    decision_tree.fit(x_train, y_train)\n",
    "    result = decision_tree.cost_complexity_pruning_path(x_train, y_train)\n",
    "    ccp_alpha_list = result['ccp_alphas']\n",
    "    # ccp_alpha_list\n",
    "    train_accuracy_list = []\n",
    "    test_accuracy_list = []\n",
    "\n",
    "    for i in ccp_alpha_list:\n",
    "        decision_tree = DecisionTreeClassifier(ccp_alpha= i,random_state=7)\n",
    "        decision_tree.fit(x_train, y_train)\n",
    "    \n",
    "        training_accuracy = decision_tree.score(x_train, y_train)\n",
    "        train_accuracy_list.append(training_accuracy)\n",
    "    \n",
    "        testing_Accuracy = decision_tree.score(x_test, y_test)\n",
    "        test_accuracy_list.append(testing_Accuracy)\n",
    "    \n",
    "   \n",
    "    fig, ax = plt.subplots()\n",
    "    ax.plot(ccp_alpha_list, train_accuracy_list, label = \"Training Data Accuracy\")\n",
    "    ax.plot(ccp_alpha_list, test_accuracy_list, label = \"Testing Data Accuracy\")\n",
    "    ax.legend()\n",
    "    index_ccp = test_accuracy_list.index(max(test_accuracy_list))\n",
    "    best_ccp = ccp_alpha_list[index_ccp]\n",
    "    decision_tree = DecisionTreeClassifier(ccp_alpha= best_ccp,random_state=7)\n",
    "    decision_tree.fit(x_train, y_train)\n",
    "    model_details.append(\"Post-Pruning DT Classifier\")\n",
    "    \n",
    "    y_pred = decision_tree.predict(x_test)\n",
    "    y_pred_train = decision_tree.predict(x_train)\n",
    "    #Testing Accuracy\n",
    "    cnf_matrix = confusion_matrix(y_pred, y_test)\n",
    "    print(\"Confusion Matrix:\\n\",cnf_matrix)\n",
    "    accuracy = accuracy_score(y_pred, y_test)*100\n",
    "    print(\"Accuracy Score\", accuracy)\n",
    "    Testing_accuracy.append(accuracy)\n",
    "    clf_report = classification_report(y_pred, y_test)\n",
    "    print(\"Classification report:\\n\",clf_report)\n",
    "    \n",
    "    recall = recall_score(y_pred,y_test)*100\n",
    "    print(\"Recall :\" ,recall)\n",
    "    Testing_Recall.append(recall)\n",
    "    \n",
    "    precision = precision_score(y_pred,y_test)*100\n",
    "    print(\"Precision :\",precision)\n",
    "    Testing_Precision.append(precision)\n",
    "    \n",
    "    F1_score = f1_score(y_pred,y_test)*100\n",
    "    print(\"F1-Score :\",F1_score)\n",
    "    Testing_F1_Score.append(F1_score)\n",
    "    \n",
    "    \n",
    "    print(\"@\"*120)\n",
    "    #Training Accuracy\n",
    "    cnf_matrix = confusion_matrix(y_pred_train, y_train)\n",
    "    print(\"Confusion Matrix:\\n\",cnf_matrix)\n",
    "    accuracy = accuracy_score(y_pred_train, y_train)*100\n",
    "    print(\"Accuracy Score\", accuracy)\n",
    "    Training_accuracy.append(accuracy)\n",
    "    clf_report = classification_report(y_pred_train, y_train)\n",
    "    print(\"Classification report:\\n\",clf_report) \n",
    "    \n",
    "    \n",
    "post_pruning(x_train,y_train,x_test,y_test)\n",
    "\n",
    "\n",
    "\n",
    "\n",
    "print(\"************************************ Random- Forest  Regression*********************************************\")\n",
    "\n",
    "def forest_model(x_test,y_test,x_train,y_train):\n",
    "    rf_model=RandomForestClassifier(random_state=5)\n",
    "    rf_model.fit(x_train,y_train)\n",
    "    model_details.append(\"Random- Forest  Regression\")\n",
    "    #Testing Data\n",
    "    y_pred = rf_model.predict(x_test)\n",
    "    cnf_matrix = confusion_matrix(y_pred, y_test)\n",
    "    print(\"Confusion Matrix:\\n\",cnf_matrix)\n",
    "    accuracy = accuracy_score(y_pred, y_test)*100\n",
    "    print(\"Accuracy Score\", accuracy)\n",
    "    Testing_accuracy.append(accuracy)\n",
    "    clf_report = classification_report(y_pred, y_test)\n",
    "    print(\"Classification report:\\n\",clf_report)\n",
    "    \n",
    "    recall = recall_score(y_pred,y_test)*100\n",
    "    print(\"Recall :\" ,recall)\n",
    "    Testing_Recall.append(recall)\n",
    "    \n",
    "    precision = precision_score(y_pred,y_test)*100\n",
    "    print(\"Precision :\",precision)\n",
    "    Testing_Precision.append(precision)\n",
    "    \n",
    "    F1_score = f1_score(y_pred,y_test)*100\n",
    "    print(\"F1-Score :\",F1_score)\n",
    "    Testing_F1_Score.append(F1_score)\n",
    "    \n",
    "    \n",
    "    print(\"@\"*120)\n",
    "    #Training Data\n",
    "    y_pred_train = rf_model.predict(x_train)\n",
    "    cnf_matrix = confusion_matrix(y_pred_train, y_train)\n",
    "    print(\"Confusion Matrix:\\n\",cnf_matrix)\n",
    "    accuracy = accuracy_score(y_pred_train, y_train)*100\n",
    "    print(\"Accuracy Score\", accuracy)\n",
    "    Training_accuracy.append(accuracy)\n",
    "    clf_report = classification_report(y_pred_train, y_train)\n",
    "    print(\"Classification report:\\n\",clf_report)    \n",
    "forest_model(x_test,y_test,x_train,y_train)\n",
    "\n",
    "print(\"**************************************  Hyper-parameter Random-Forest **********************************************\")\n",
    "\n",
    "def Hyper_parameter_Random_Forest(x_train,y_train,x_test,y_test):\n",
    "    rf_model = RandomForestClassifier(random_state=5)\n",
    "    model_details.append(\"Random Forest with hyperparameter\")\n",
    "    hyperparameter = {\"n_estimators\":np.arange(99,102),\n",
    "                     \"criterion\":['gini','entropy'],\n",
    "                     'max_depth':np.arange(3,5),\n",
    "                     'min_samples_split': np.arange(5,7),\n",
    "                     'min_samples_leaf':np.arange(7,8),\n",
    "                     'max_features':['sqrt','log2'] }\n",
    "\n",
    "    gscv_rf_model = GridSearchCV(rf_model, hyperparameter, cv=5)\n",
    "    gscv_rf_model.fit(x_train,y_train)\n",
    "    y_pred = gscv_rf_model.predict(x_test)\n",
    "    y_pred_train = gscv_rf_model.predict(x_train)\n",
    "    #testing_accuracy\n",
    "    \n",
    "    cnf_matrix = confusion_matrix(y_pred, y_test)\n",
    "    print(\"Confusion Matrix:\\n\",cnf_matrix)\n",
    "    accuracy = accuracy_score(y_pred, y_test)*100\n",
    "    print(\"Accuracy Score\", accuracy)\n",
    "    \n",
    "    Testing_accuracy.append(accuracy)\n",
    "    \n",
    "    clf_report = classification_report(y_pred, y_test)\n",
    "    print(\"Classification report:\\n\",clf_report)\n",
    "    \n",
    "    recall = recall_score(y_pred,y_test)*100\n",
    "    print(\"Recall :\" ,recall)\n",
    "    Testing_Recall.append(recall)\n",
    "    \n",
    "    precision = precision_score(y_pred,y_test)*100\n",
    "    print(\"Precision :\",precision)\n",
    "    Testing_Precision.append(precision)\n",
    "    \n",
    "    F1_score = f1_score(y_pred,y_test)*100\n",
    "    print(\"F1-Score :\",F1_score)\n",
    "    Testing_F1_Score.append(F1_score)\n",
    "    \n",
    "    \n",
    "    print(\"@\"*120)\n",
    "    #training_accuracy\n",
    "    \n",
    "    cnf_matrix = confusion_matrix(y_pred_train, y_train)\n",
    "    print(\"Confusion Matrix:\\n\",cnf_matrix)\n",
    "    accuracy = accuracy_score(y_pred_train, y_train)*100\n",
    "    print(\"Accuracy Score\", accuracy)\n",
    "\n",
    "    Training_accuracy.append(accuracy)\n",
    "    clf_report = classification_report(y_pred_train, y_train)\n",
    "    print(\"Classification report:\\n\",clf_report)   \n",
    "\n",
    "Hyper_parameter_Random_Forest(x_train,y_train,x_test,y_test)\n",
    "\n",
    "\n",
    "\n",
    "\n",
    "\n",
    "print(\"************************************ ADA-Boost  Classifier *********************************************\")\n",
    "\n",
    "def boost_model(x_test,y_test,x_train,y_train):\n",
    "    ada_model=AdaBoostClassifier(random_state=5)\n",
    "    ada_model.fit(x_train,y_train)\n",
    "    model_details.append(\"ADA-Boost  Classifier\")\n",
    "    #Testing Data\n",
    "    y_pred = ada_model.predict(x_test)\n",
    "    cnf_matrix = confusion_matrix(y_pred, y_test)\n",
    "    print(\"Confusion Matrix:\\n\",cnf_matrix)\n",
    "    accuracy = accuracy_score(y_pred, y_test)*100\n",
    "    print(\"Accuracy Score\", accuracy)\n",
    "    Testing_accuracy.append(accuracy)\n",
    "    clf_report = classification_report(y_pred, y_test)\n",
    "    print(\"Classification report:\\n\",clf_report)\n",
    "    \n",
    "    recall = recall_score(y_pred,y_test)*100\n",
    "    print(\"Recall :\" ,recall)\n",
    "    Testing_Recall.append(recall)\n",
    "    \n",
    "    precision = precision_score(y_pred,y_test)*100\n",
    "    print(\"Precision :\",precision)\n",
    "    Testing_Precision.append(precision)\n",
    "    \n",
    "    F1_score = f1_score(y_pred,y_test)*100\n",
    "    print(\"F1-Score :\",F1_score)\n",
    "    Testing_F1_Score.append(F1_score)\n",
    "    \n",
    "    \n",
    "    print(\"@\"*120)\n",
    "    #Training Data\n",
    "    y_pred_train = ada_model.predict(x_train)\n",
    "    cnf_matrix = confusion_matrix(y_pred_train, y_train)\n",
    "    print(\"Confusion Matrix:\\n\",cnf_matrix)\n",
    "    accuracy = accuracy_score(y_pred_train, y_train)*100\n",
    "    print(\"Accuracy Score\", accuracy)\n",
    "    Training_accuracy.append(accuracy)\n",
    "    clf_report = classification_report(y_pred_train, y_train)\n",
    "    print(\"Classification report:\\n\",clf_report)    \n",
    "boost_model(x_test,y_test,x_train,y_train)\n",
    "\n",
    "print(\"**************************************  Hyper-parameter ADA-BOOST **********************************************\")\n",
    "\n",
    "def Hyper_parameter_ada_boost(x_train,y_train,x_test,y_test):\n",
    "    ada_model = AdaBoostClassifier(random_state=5)\n",
    "\n",
    "    hyperparameter = {\"n_estimators\":np.arange(49,52),\n",
    "                        \"learning_rate\":np.arange(0, 2, 0.05)}\n",
    "    model_details.append(\"Hyper-parameter ADA-BOOST\")\n",
    "    gscv_clf_ab = GridSearchCV(ada_model, hyperparameter, cv=5)\n",
    "    gscv_clf_ab.fit(x_train, y_train)\n",
    "    gscv_clf_ab.best_estimator_\n",
    "    ada_model = gscv_clf_ab.best_estimator_\n",
    "    ada_model.fit(x_train, y_train)\n",
    "    y_pred = gscv_clf_ab.predict(x_test)\n",
    "    y_pred_train = gscv_clf_ab.predict(x_train)\n",
    "    #testing_accuracy\n",
    "    \n",
    "    cnf_matrix = confusion_matrix(y_pred, y_test)\n",
    "    print(\"Confusion Matrix:\\n\",cnf_matrix)\n",
    "    accuracy = accuracy_score(y_pred, y_test)*100\n",
    "    print(\"Accuracy Score\", accuracy)\n",
    "    \n",
    "    Testing_accuracy.append(accuracy)\n",
    "    \n",
    "    clf_report = classification_report(y_pred, y_test)\n",
    "    print(\"Classification report:\\n\",clf_report)\n",
    "    \n",
    "    recall = recall_score(y_pred,y_test)*100\n",
    "    print(\"Recall :\" ,recall)\n",
    "    Testing_Recall.append(recall)\n",
    "    \n",
    "    precision = precision_score(y_pred,y_test)*100\n",
    "    print(\"Precision :\",precision)\n",
    "    Testing_Precision.append(precision)\n",
    "    \n",
    "    F1_score = f1_score(y_pred,y_test)*100\n",
    "    print(\"F1-Score :\",F1_score)\n",
    "    Testing_F1_Score.append(F1_score)\n",
    "    \n",
    "    \n",
    "    print(\"@\"*120)\n",
    "    #training_accuracy\n",
    "    \n",
    "    cnf_matrix = confusion_matrix(y_pred_train, y_train)\n",
    "    print(\"Confusion Matrix:\\n\",cnf_matrix)\n",
    "    accuracy = accuracy_score(y_pred_train, y_train)*100\n",
    "    print(\"Accuracy Score\", accuracy)\n",
    "\n",
    "    Training_accuracy.append(accuracy)\n",
    "    clf_report = classification_report(y_pred_train, y_train)\n",
    "    print(\"Classification report:\\n\",clf_report)   \n",
    "\n",
    "Hyper_parameter_ada_boost(x_train,y_train,x_test,y_test)\n",
    "\n",
    "\n",
    "print(\"************************************ Naive-Bayes  Classifier *********************************************\")\n",
    "\n",
    "def bayes_model(x_test,y_test,x_train,y_train):\n",
    "    nb_model=GaussianNB()\n",
    "    nb_model.fit(x_train,y_train)\n",
    "    model_details.append(\" Gaussian Naive-Bayes  Classifier\")\n",
    "    #Testing Data\n",
    "    y_pred = nb_model.predict(x_test)\n",
    "    cnf_matrix = confusion_matrix(y_pred, y_test)\n",
    "    print(\"Confusion Matrix:\\n\",cnf_matrix)\n",
    "    accuracy = accuracy_score(y_pred, y_test)*100\n",
    "    print(\"Accuracy Score\", accuracy)\n",
    "    Testing_accuracy.append(accuracy)\n",
    "    clf_report = classification_report(y_pred, y_test)\n",
    "    print(\"Classification report:\\n\",clf_report)\n",
    "    \n",
    "    recall = recall_score(y_pred,y_test)*100\n",
    "    print(\"Recall :\" ,recall)\n",
    "    Testing_Recall.append(recall)\n",
    "    \n",
    "    precision = precision_score(y_pred,y_test)*100\n",
    "    print(\"Precision :\",precision)\n",
    "    Testing_Precision.append(precision)\n",
    "    \n",
    "    F1_score = f1_score(y_pred,y_test)*100\n",
    "    print(\"F1-Score :\",F1_score)\n",
    "    Testing_F1_Score.append(F1_score)\n",
    "    \n",
    "    \n",
    "    print(\"@\"*120)\n",
    "    #Training Data\n",
    "    y_pred_train = nb_model.predict(x_train)\n",
    "    cnf_matrix = confusion_matrix(y_pred_train, y_train)\n",
    "    print(\"Confusion Matrix:\\n\",cnf_matrix)\n",
    "    accuracy = accuracy_score(y_pred_train, y_train)*100\n",
    "    print(\"Accuracy Score\", accuracy)\n",
    "    Training_accuracy.append(accuracy)\n",
    "    clf_report = classification_report(y_pred_train, y_train)\n",
    "    print(\"Classification report:\\n\",clf_report)    \n",
    "bayes_model(x_test,y_test,x_train,y_train)\n",
    "\n",
    "\n",
    "\n",
    "# print(\"**************************************  Multinomial Naive-Bayes  Classifier **********************************************\")\n",
    "# def multi_bayes_model(x_test,y_test,x_train,y_train):\n",
    "#     mn_model=MultinomialNB()\n",
    "#     mn_model.fit(x_train,y_train)\n",
    "#     model_details.append(\" Multinomial Naive-Bayes  Classifier\")\n",
    "#     #Testing Data\n",
    "#     y_pred = mn_model.predict(x_test)\n",
    "#     cnf_matrix = confusion_matrix(y_pred, y_test)\n",
    "#     print(\"Confusion Matrix:\\n\",cnf_matrix)\n",
    "#     accuracy = accuracy_score(y_pred, y_test)*100\n",
    "#     print(\"Accuracy Score\", accuracy)\n",
    "#     Testing_accuracy.append(accuracy)\n",
    "#     clf_report = classification_report(y_pred, y_test)\n",
    "#     print(\"Classification report:\\n\",clf_report)\n",
    "#     print(\"@\"*120)\n",
    "#     #Training Data\n",
    "#     y_pred_train = mn_model.predict(x_train)\n",
    "#     cnf_matrix = confusion_matrix(y_pred_train, y_train)\n",
    "#     print(\"Confusion Matrix:\\n\",cnf_matrix)\n",
    "#     accuracy = accuracy_score(y_pred_train, y_train)*100\n",
    "#     print(\"Accuracy Score\", accuracy)\n",
    "#     Training_accuracy.append(accuracy)\n",
    "#     clf_report = classification_report(y_pred_train, y_train)\n",
    "#     print(\"Classification report:\\n\",clf_report)    \n",
    "# multi_bayes_model(x_test,y_test,x_train,y_train)\n",
    "\n",
    "\n",
    "print(\"**************************************  Bernoulli Naive-Bayes  Classifier **********************************************\")\n",
    "def Bernoulli_bayes_model(x_test,y_test,x_train,y_train):\n",
    "    bern_model=BernoulliNB()\n",
    "    bern_model.fit(x_train,y_train)\n",
    "    model_details.append(\" Bernoulli Naive-Bayes  Classifier\")\n",
    "    #Testing Data\n",
    "    y_pred = bern_model.predict(x_test)\n",
    "    cnf_matrix = confusion_matrix(y_pred, y_test)\n",
    "    print(\"Confusion Matrix:\\n\",cnf_matrix)\n",
    "    accuracy = accuracy_score(y_pred, y_test)*100\n",
    "    print(\"Accuracy Score\", accuracy)\n",
    "    Testing_accuracy.append(accuracy)\n",
    "    clf_report = classification_report(y_pred, y_test)\n",
    "    print(\"Classification report:\\n\",clf_report)\n",
    "    \n",
    "    recall = recall_score(y_pred,y_test)*100\n",
    "    print(\"Recall :\" ,recall)\n",
    "    Testing_Recall.append(recall)\n",
    "    \n",
    "    precision = precision_score(y_pred,y_test)*100\n",
    "    print(\"Precision :\",precision)\n",
    "    Testing_Precision.append(precision)\n",
    "    \n",
    "    F1_score = f1_score(y_pred,y_test)*100\n",
    "    print(\"F1-Score :\",F1_score)\n",
    "    Testing_F1_Score.append(F1_score)\n",
    "    \n",
    "    \n",
    "    print(\"@\"*120)\n",
    "    #Training Data\n",
    "    y_pred_train = bern_model.predict(x_train)\n",
    "    cnf_matrix = confusion_matrix(y_pred_train, y_train)\n",
    "    print(\"Confusion Matrix:\\n\",cnf_matrix)\n",
    "    accuracy = accuracy_score(y_pred_train, y_train)*100\n",
    "    print(\"Accuracy Score\", accuracy)\n",
    "    Training_accuracy.append(accuracy)\n",
    "    clf_report = classification_report(y_pred_train, y_train)\n",
    "    print(\"Classification report:\\n\",clf_report)    \n",
    "Bernoulli_bayes_model(x_test,y_test,x_train,y_train)\n",
    "\n",
    "\n"
   ]
  },
  {
   "cell_type": "code",
   "execution_count": null,
   "id": "64b84ff0",
   "metadata": {},
   "outputs": [],
   "source": [
    "print(\"model_details---->\\n\",model_details) \n",
    "print(\"~\"*125)\n",
    "print(\"Testing_accuracy----->\\n\",Testing_accuracy) \n",
    "print(\"~\"*125)\n",
    "print(\"Training_accuracy----->\\n\",Training_accuracy) \n",
    "print(\"~\"*125)\n",
    "print(\"Testing_Recall------>\\n\",Testing_Recall) \n",
    "print(\"~\"*125)\n",
    "print(\"Testing_Precision------>\\n\",Testing_Precision) \n",
    "print(\"~\"*125)\n",
    "print(\"Testing_F1_Score----->\\n\",Testing_F1_Score) \n",
    "print(\"~\"*125)\n",
    " \n",
    "print(len(model_details))\n",
    "print(len(Testing_accuracy))\n",
    "print(len(Training_accuracy)) \n",
    "print(len(Testing_Recall))\n",
    "print(len(Testing_Precision))\n",
    "print(len(Testing_F1_Score)) "
   ]
  },
  {
   "cell_type": "code",
   "execution_count": null,
   "id": "fa88ba3c",
   "metadata": {},
   "outputs": [],
   "source": []
  },
  {
   "cell_type": "code",
   "execution_count": null,
   "id": "8b2f12cc",
   "metadata": {},
   "outputs": [],
   "source": [
    "Difference_Df=pd.DataFrame({\"Model_Details\":model_details,\n",
    "               \"Testing_Accuracy\":Testing_accuracy,\n",
    "               \"Training_Accuracy\":Training_accuracy,\n",
    "                \"Testing_Recall\":Testing_Recall,\n",
    "                \"Testing_Precision\":Testing_Precision,\n",
    "                \"Testing_F1_Score\":Testing_F1_Score})"
   ]
  },
  {
   "cell_type": "code",
   "execution_count": null,
   "id": "16b85f66",
   "metadata": {},
   "outputs": [],
   "source": [
    "Difference_Df"
   ]
  },
  {
   "cell_type": "markdown",
   "id": "9a598ecd",
   "metadata": {},
   "source": [
    "# Testing on single row"
   ]
  },
  {
   "cell_type": "code",
   "execution_count": 958,
   "id": "e784be02",
   "metadata": {},
   "outputs": [
    {
     "data": {
      "text/plain": [
       "Index(['Gender', 'Quantity', 'Total', 'cogs', 'Branch_A', 'Branch_B',\n",
       "       'Branch_C', 'City_Mandalay', 'City_Naypyitaw', 'City_Yangon',\n",
       "       'Customer_type', 'Unit_price', 'Tax_5', 'gross_income',\n",
       "       'Product_line_Electronic accessories',\n",
       "       'Product_line_Fashion accessories', 'Product_line_Food and beverages',\n",
       "       'Product_line_Health and beauty', 'Product_line_Home and lifestyle',\n",
       "       'Product_line_Sports and travel', 'Payment_Cash', 'Payment_Credit card',\n",
       "       'Payment_Ewallet'],\n",
       "      dtype='object')"
      ]
     },
     "execution_count": 958,
     "metadata": {},
     "output_type": "execute_result"
    }
   ],
   "source": [
    "column_names = x.columns\n",
    "len(column_names)\n",
    "column_names"
   ]
  },
  {
   "cell_type": "code",
   "execution_count": 959,
   "id": "99c3ac9d",
   "metadata": {},
   "outputs": [],
   "source": [
    "one_hot_encoded_column = [\"Branch\",\"City\",\"Product_line\",\"Payment\"]\n",
    "label_encoded_column = [\"Customer_type\",\"Gender\"]"
   ]
  },
  {
   "cell_type": "code",
   "execution_count": 960,
   "id": "0e25d9b7",
   "metadata": {},
   "outputs": [
    {
     "data": {
      "text/plain": [
       "{'Normal': 0, 'Member': 1}"
      ]
     },
     "execution_count": 960,
     "metadata": {},
     "output_type": "execute_result"
    }
   ],
   "source": [
    "values_Customer_type"
   ]
  },
  {
   "cell_type": "code",
   "execution_count": 961,
   "id": "9604961b",
   "metadata": {},
   "outputs": [
    {
     "data": {
      "text/plain": [
       "{'Female': 0, 'Male': 1}"
      ]
     },
     "execution_count": 961,
     "metadata": {},
     "output_type": "execute_result"
    }
   ],
   "source": [
    "values_Gender"
   ]
  },
  {
   "cell_type": "code",
   "execution_count": 962,
   "id": "9c3afe79",
   "metadata": {},
   "outputs": [
    {
     "data": {
      "text/html": [
       "<div>\n",
       "<style scoped>\n",
       "    .dataframe tbody tr th:only-of-type {\n",
       "        vertical-align: middle;\n",
       "    }\n",
       "\n",
       "    .dataframe tbody tr th {\n",
       "        vertical-align: top;\n",
       "    }\n",
       "\n",
       "    .dataframe thead th {\n",
       "        text-align: right;\n",
       "    }\n",
       "</style>\n",
       "<table border=\"1\" class=\"dataframe\">\n",
       "  <thead>\n",
       "    <tr style=\"text-align: right;\">\n",
       "      <th></th>\n",
       "      <th>0</th>\n",
       "    </tr>\n",
       "  </thead>\n",
       "  <tbody>\n",
       "    <tr>\n",
       "      <th>Gender</th>\n",
       "      <td>0.0000</td>\n",
       "    </tr>\n",
       "    <tr>\n",
       "      <th>Quantity</th>\n",
       "      <td>7.0000</td>\n",
       "    </tr>\n",
       "    <tr>\n",
       "      <th>Total</th>\n",
       "      <td>548.9715</td>\n",
       "    </tr>\n",
       "    <tr>\n",
       "      <th>cogs</th>\n",
       "      <td>522.8300</td>\n",
       "    </tr>\n",
       "    <tr>\n",
       "      <th>Branch_A</th>\n",
       "      <td>1.0000</td>\n",
       "    </tr>\n",
       "    <tr>\n",
       "      <th>Branch_B</th>\n",
       "      <td>0.0000</td>\n",
       "    </tr>\n",
       "    <tr>\n",
       "      <th>Branch_C</th>\n",
       "      <td>0.0000</td>\n",
       "    </tr>\n",
       "    <tr>\n",
       "      <th>City_Mandalay</th>\n",
       "      <td>0.0000</td>\n",
       "    </tr>\n",
       "    <tr>\n",
       "      <th>City_Naypyitaw</th>\n",
       "      <td>0.0000</td>\n",
       "    </tr>\n",
       "    <tr>\n",
       "      <th>City_Yangon</th>\n",
       "      <td>1.0000</td>\n",
       "    </tr>\n",
       "    <tr>\n",
       "      <th>Customer_type</th>\n",
       "      <td>1.0000</td>\n",
       "    </tr>\n",
       "    <tr>\n",
       "      <th>Unit_price</th>\n",
       "      <td>74.6900</td>\n",
       "    </tr>\n",
       "    <tr>\n",
       "      <th>Tax_5</th>\n",
       "      <td>26.1415</td>\n",
       "    </tr>\n",
       "    <tr>\n",
       "      <th>gross_income</th>\n",
       "      <td>26.1415</td>\n",
       "    </tr>\n",
       "    <tr>\n",
       "      <th>Product_line_Electronic accessories</th>\n",
       "      <td>0.0000</td>\n",
       "    </tr>\n",
       "    <tr>\n",
       "      <th>Product_line_Fashion accessories</th>\n",
       "      <td>0.0000</td>\n",
       "    </tr>\n",
       "    <tr>\n",
       "      <th>Product_line_Food and beverages</th>\n",
       "      <td>0.0000</td>\n",
       "    </tr>\n",
       "    <tr>\n",
       "      <th>Product_line_Health and beauty</th>\n",
       "      <td>1.0000</td>\n",
       "    </tr>\n",
       "    <tr>\n",
       "      <th>Product_line_Home and lifestyle</th>\n",
       "      <td>0.0000</td>\n",
       "    </tr>\n",
       "    <tr>\n",
       "      <th>Product_line_Sports and travel</th>\n",
       "      <td>0.0000</td>\n",
       "    </tr>\n",
       "    <tr>\n",
       "      <th>Payment_Cash</th>\n",
       "      <td>0.0000</td>\n",
       "    </tr>\n",
       "    <tr>\n",
       "      <th>Payment_Credit card</th>\n",
       "      <td>0.0000</td>\n",
       "    </tr>\n",
       "    <tr>\n",
       "      <th>Payment_Ewallet</th>\n",
       "      <td>1.0000</td>\n",
       "    </tr>\n",
       "  </tbody>\n",
       "</table>\n",
       "</div>"
      ],
      "text/plain": [
       "                                            0\n",
       "Gender                                 0.0000\n",
       "Quantity                               7.0000\n",
       "Total                                548.9715\n",
       "cogs                                 522.8300\n",
       "Branch_A                               1.0000\n",
       "Branch_B                               0.0000\n",
       "Branch_C                               0.0000\n",
       "City_Mandalay                          0.0000\n",
       "City_Naypyitaw                         0.0000\n",
       "City_Yangon                            1.0000\n",
       "Customer_type                          1.0000\n",
       "Unit_price                            74.6900\n",
       "Tax_5                                 26.1415\n",
       "gross_income                          26.1415\n",
       "Product_line_Electronic accessories    0.0000\n",
       "Product_line_Fashion accessories       0.0000\n",
       "Product_line_Food and beverages        0.0000\n",
       "Product_line_Health and beauty         1.0000\n",
       "Product_line_Home and lifestyle        0.0000\n",
       "Product_line_Sports and travel         0.0000\n",
       "Payment_Cash                           0.0000\n",
       "Payment_Credit card                    0.0000\n",
       "Payment_Ewallet                        1.0000"
      ]
     },
     "execution_count": 962,
     "metadata": {},
     "output_type": "execute_result"
    }
   ],
   "source": [
    "x.head(1).T"
   ]
  },
  {
   "cell_type": "code",
   "execution_count": 963,
   "id": "e8d18c67",
   "metadata": {},
   "outputs": [],
   "source": [
    "Gender = 'Male'\n",
    "Quantity = 7.0000\n",
    "Total = 548.9715\n",
    "cogs = 522.8300\n",
    "Branch = \"A\"\n",
    "\n",
    "City = \"Yangon\"\n",
    "Customer_type = 'Normal'\n",
    "Unit_price = 74.6900\n",
    "Tax_5 = 26.1415\n",
    "gross_income = 26.1415\n",
    "\n",
    "# one hot encodded column \n",
    "Product_line = \"Electronic accessories\"\n",
    "Payment = \"Ewallet\"\n",
    "Branch = \"A\"\n",
    "City = \"Yangon\""
   ]
  },
  {
   "cell_type": "code",
   "execution_count": 964,
   "id": "c2822be1",
   "metadata": {},
   "outputs": [
    {
     "name": "stdout",
     "output_type": "stream",
     "text": [
      "Product_line_Electronic accessories\n",
      "Payment_Ewallet\n",
      "Branch_A\n",
      "City_Yangon\n"
     ]
    }
   ],
   "source": [
    "## Define column name\n",
    "Product_line_col = \"Product_line_\" + Product_line\n",
    "Payment_col = \"Payment_\" + Payment \n",
    "Branch_col = \"Branch_\" + Branch\n",
    "City_col = \"City_\" + City\n",
    "\n",
    "print(Product_line_col)\n",
    "print(Payment_col)\n",
    "print(Branch_col)\n",
    "print(City_col)"
   ]
  },
  {
   "cell_type": "code",
   "execution_count": 966,
   "id": "32d501f2",
   "metadata": {},
   "outputs": [
    {
     "name": "stdout",
     "output_type": "stream",
     "text": [
      "14\n",
      "22\n",
      "4\n",
      "9\n"
     ]
    }
   ],
   "source": [
    "Product_line_index = np.where (column_names == Product_line_col)[0][0]\n",
    "Payment_index = np.where(column_names == Payment_col)[0][0]\n",
    "Branch_index = np.where(column_names == Branch_col)[0][0]\n",
    "City_index = np.where(column_names == City_col)[0][0]\n",
    "\n",
    "print(Product_line_index)\n",
    "print(Payment_index)\n",
    "print(Branch_index)\n",
    "print(City_index)"
   ]
  },
  {
   "cell_type": "code",
   "execution_count": 968,
   "id": "bbd07e79",
   "metadata": {},
   "outputs": [
    {
     "data": {
      "text/plain": [
       "array([0, 0, 0, 0, 0, 0, 0, 0, 0, 0, 0, 0, 0, 0, 0, 0, 0, 0, 0, 0, 0, 0,\n",
       "       0])"
      ]
     },
     "execution_count": 968,
     "metadata": {},
     "output_type": "execute_result"
    }
   ],
   "source": [
    "array = np.zeros(len(column_names),dtype=int)\n",
    "array"
   ]
  },
  {
   "cell_type": "code",
   "execution_count": 967,
   "id": "c7ef4b18",
   "metadata": {},
   "outputs": [
    {
     "data": {
      "text/plain": [
       "Index(['Gender', 'Quantity', 'Total', 'cogs', 'Branch_A', 'Branch_B',\n",
       "       'Branch_C', 'City_Mandalay', 'City_Naypyitaw', 'City_Yangon',\n",
       "       'Customer_type', 'Unit_price', 'Tax_5', 'gross_income',\n",
       "       'Product_line_Electronic accessories',\n",
       "       'Product_line_Fashion accessories', 'Product_line_Food and beverages',\n",
       "       'Product_line_Health and beauty', 'Product_line_Home and lifestyle',\n",
       "       'Product_line_Sports and travel', 'Payment_Cash', 'Payment_Credit card',\n",
       "       'Payment_Ewallet'],\n",
       "      dtype='object')"
      ]
     },
     "execution_count": 967,
     "metadata": {},
     "output_type": "execute_result"
    }
   ],
   "source": [
    "column_names"
   ]
  },
  {
   "cell_type": "code",
   "execution_count": null,
   "id": "de4a913e",
   "metadata": {},
   "outputs": [],
   "source": []
  },
  {
   "cell_type": "code",
   "execution_count": null,
   "id": "ade0e028",
   "metadata": {},
   "outputs": [],
   "source": []
  },
  {
   "cell_type": "code",
   "execution_count": null,
   "id": "8e9b3d8f",
   "metadata": {},
   "outputs": [],
   "source": []
  },
  {
   "cell_type": "code",
   "execution_count": null,
   "id": "d3c7a7be",
   "metadata": {},
   "outputs": [],
   "source": []
  },
  {
   "cell_type": "code",
   "execution_count": null,
   "id": "f83fb698",
   "metadata": {},
   "outputs": [],
   "source": []
  },
  {
   "cell_type": "code",
   "execution_count": null,
   "id": "c88fac33",
   "metadata": {},
   "outputs": [],
   "source": []
  },
  {
   "cell_type": "code",
   "execution_count": null,
   "id": "f220a8d0",
   "metadata": {},
   "outputs": [],
   "source": []
  },
  {
   "cell_type": "code",
   "execution_count": null,
   "id": "cb2608d0",
   "metadata": {},
   "outputs": [],
   "source": []
  },
  {
   "cell_type": "code",
   "execution_count": null,
   "id": "f8ba665e",
   "metadata": {},
   "outputs": [],
   "source": []
  },
  {
   "cell_type": "code",
   "execution_count": null,
   "id": "6daf5227",
   "metadata": {},
   "outputs": [],
   "source": []
  },
  {
   "cell_type": "code",
   "execution_count": null,
   "id": "54fb0297",
   "metadata": {},
   "outputs": [],
   "source": []
  },
  {
   "cell_type": "code",
   "execution_count": null,
   "id": "f20298f8",
   "metadata": {},
   "outputs": [],
   "source": []
  },
  {
   "cell_type": "code",
   "execution_count": null,
   "id": "41b26afa",
   "metadata": {},
   "outputs": [],
   "source": []
  },
  {
   "cell_type": "code",
   "execution_count": null,
   "id": "b0157e31",
   "metadata": {},
   "outputs": [],
   "source": []
  },
  {
   "cell_type": "code",
   "execution_count": null,
   "id": "eae63221",
   "metadata": {},
   "outputs": [],
   "source": []
  },
  {
   "cell_type": "code",
   "execution_count": null,
   "id": "1cab05ea",
   "metadata": {},
   "outputs": [],
   "source": []
  },
  {
   "cell_type": "code",
   "execution_count": null,
   "id": "2a62963d",
   "metadata": {},
   "outputs": [],
   "source": []
  },
  {
   "cell_type": "code",
   "execution_count": null,
   "id": "b85e483f",
   "metadata": {},
   "outputs": [],
   "source": []
  },
  {
   "cell_type": "code",
   "execution_count": null,
   "id": "78c82e9c",
   "metadata": {},
   "outputs": [],
   "source": []
  }
 ],
 "metadata": {
  "kernelspec": {
   "display_name": "Python 3 (ipykernel)",
   "language": "python",
   "name": "python3"
  },
  "language_info": {
   "codemirror_mode": {
    "name": "ipython",
    "version": 3
   },
   "file_extension": ".py",
   "mimetype": "text/x-python",
   "name": "python",
   "nbconvert_exporter": "python",
   "pygments_lexer": "ipython3",
   "version": "3.9.12"
  }
 },
 "nbformat": 4,
 "nbformat_minor": 5
}
