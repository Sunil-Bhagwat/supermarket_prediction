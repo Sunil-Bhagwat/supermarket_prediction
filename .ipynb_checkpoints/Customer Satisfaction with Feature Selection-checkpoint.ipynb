{
 "cells": [
  {
   "cell_type": "code",
   "execution_count": 1,
   "id": "d29d6926",
   "metadata": {},
   "outputs": [],
   "source": [
    "import numpy as np # linear algebra\n",
    "import pandas as pd # data processing\n",
    "\n",
    "# warning filter\n",
    "import warnings\n",
    "warnings.filterwarnings('ignore')\n",
    "\n",
    "import sqlalchemy # sql connection\n",
    "\n",
    "#To Traceback error\n",
    "import traceback\n",
    "\n",
    "# For calculating Time required to run the model\n",
    "import time\n",
    "\n",
    "from tqdm import tqdm\n",
    "\n",
    "#ploting libraries\n",
    "import matplotlib.pyplot as plt \n",
    "import seaborn as sns\n",
    "\n",
    "#feature engineering\n",
    "from sklearn.preprocessing import OneHotEncoder\n",
    "from sklearn.preprocessing import LabelEncoder\n",
    "from category_encoders import OrdinalEncoder    # Used when you want to provide dictionary    \n",
    "\n",
    "#train test split\n",
    "from sklearn.model_selection import train_test_split, GridSearchCV, RandomizedSearchCV\n",
    "\n",
    "# Scaling Down\n",
    "from sklearn.preprocessing import MinMaxScaler, StandardScaler\n",
    "\n",
    "# Imputation\n",
    "from sklearn.impute import KNNImputer\n",
    "\n",
    "#metrics\n",
    "from sklearn.metrics import mean_squared_error, mean_absolute_error, r2_score\n",
    "\n",
    "from statsmodels.stats.outliers_influence import variance_inflation_factor\n"
   ]
  },
  {
   "cell_type": "markdown",
   "id": "4b92aad4",
   "metadata": {},
   "source": [
    "### Created......."
   ]
  },
  {
   "cell_type": "code",
   "execution_count": 2,
   "id": "02851804",
   "metadata": {},
   "outputs": [],
   "source": [
    "#Use for Handaling Outliers\n",
    "from learn.processing import DataPreProcessing\n",
    "\n",
    "# For All Regressor Models\n",
    "from learn.supervised import Regressor"
   ]
  },
  {
   "cell_type": "code",
   "execution_count": 3,
   "id": "afaa8709",
   "metadata": {},
   "outputs": [
    {
     "data": {
      "text/html": [
       "<div>\n",
       "<style scoped>\n",
       "    .dataframe tbody tr th:only-of-type {\n",
       "        vertical-align: middle;\n",
       "    }\n",
       "\n",
       "    .dataframe tbody tr th {\n",
       "        vertical-align: top;\n",
       "    }\n",
       "\n",
       "    .dataframe thead th {\n",
       "        text-align: right;\n",
       "    }\n",
       "</style>\n",
       "<table border=\"1\" class=\"dataframe\">\n",
       "  <thead>\n",
       "    <tr style=\"text-align: right;\">\n",
       "      <th></th>\n",
       "      <th>Invoice ID</th>\n",
       "      <th>Branch</th>\n",
       "      <th>City</th>\n",
       "      <th>Customer type</th>\n",
       "      <th>Gender</th>\n",
       "      <th>Product line</th>\n",
       "      <th>Unit price</th>\n",
       "      <th>Quantity</th>\n",
       "      <th>Tax 5%</th>\n",
       "      <th>Total</th>\n",
       "      <th>Date</th>\n",
       "      <th>Time</th>\n",
       "      <th>Payment</th>\n",
       "      <th>cogs</th>\n",
       "      <th>gross margin percentage</th>\n",
       "      <th>gross income</th>\n",
       "      <th>Rating</th>\n",
       "    </tr>\n",
       "  </thead>\n",
       "  <tbody>\n",
       "    <tr>\n",
       "      <th>0</th>\n",
       "      <td>750-67-8428</td>\n",
       "      <td>A</td>\n",
       "      <td>Yangon</td>\n",
       "      <td>Member</td>\n",
       "      <td>Female</td>\n",
       "      <td>Health and beauty</td>\n",
       "      <td>74.69</td>\n",
       "      <td>7</td>\n",
       "      <td>26.1415</td>\n",
       "      <td>548.9715</td>\n",
       "      <td>1/5/2019</td>\n",
       "      <td>13:08</td>\n",
       "      <td>Ewallet</td>\n",
       "      <td>522.83</td>\n",
       "      <td>4.761905</td>\n",
       "      <td>26.1415</td>\n",
       "      <td>9.1</td>\n",
       "    </tr>\n",
       "    <tr>\n",
       "      <th>1</th>\n",
       "      <td>226-31-3081</td>\n",
       "      <td>C</td>\n",
       "      <td>Naypyitaw</td>\n",
       "      <td>Normal</td>\n",
       "      <td>Female</td>\n",
       "      <td>Electronic accessories</td>\n",
       "      <td>15.28</td>\n",
       "      <td>5</td>\n",
       "      <td>3.8200</td>\n",
       "      <td>80.2200</td>\n",
       "      <td>3/8/2019</td>\n",
       "      <td>10:29</td>\n",
       "      <td>Cash</td>\n",
       "      <td>76.40</td>\n",
       "      <td>4.761905</td>\n",
       "      <td>3.8200</td>\n",
       "      <td>9.6</td>\n",
       "    </tr>\n",
       "  </tbody>\n",
       "</table>\n",
       "</div>"
      ],
      "text/plain": [
       "    Invoice ID Branch       City Customer type  Gender  \\\n",
       "0  750-67-8428      A     Yangon        Member  Female   \n",
       "1  226-31-3081      C  Naypyitaw        Normal  Female   \n",
       "\n",
       "             Product line  Unit price  Quantity   Tax 5%     Total      Date  \\\n",
       "0       Health and beauty       74.69         7  26.1415  548.9715  1/5/2019   \n",
       "1  Electronic accessories       15.28         5   3.8200   80.2200  3/8/2019   \n",
       "\n",
       "    Time  Payment    cogs  gross margin percentage  gross income  Rating  \n",
       "0  13:08  Ewallet  522.83                 4.761905       26.1415     9.1  \n",
       "1  10:29     Cash   76.40                 4.761905        3.8200     9.6  "
      ]
     },
     "execution_count": 3,
     "metadata": {},
     "output_type": "execute_result"
    }
   ],
   "source": [
    "df = pd.read_csv('supermarket_sales - Sheet1.csv')\n",
    "df.head(2)"
   ]
  },
  {
   "cell_type": "code",
   "execution_count": 4,
   "id": "31d88632",
   "metadata": {},
   "outputs": [
    {
     "data": {
      "text/plain": [
       "0"
      ]
     },
     "execution_count": 4,
     "metadata": {},
     "output_type": "execute_result"
    }
   ],
   "source": [
    "#Checking Duplicates\n",
    "df.duplicated().sum()"
   ]
  },
  {
   "cell_type": "code",
   "execution_count": 5,
   "id": "c4e6bea8",
   "metadata": {},
   "outputs": [
    {
     "name": "stdout",
     "output_type": "stream",
     "text": [
      "<class 'pandas.core.frame.DataFrame'>\n",
      "RangeIndex: 1000 entries, 0 to 999\n",
      "Data columns (total 17 columns):\n",
      " #   Column                   Non-Null Count  Dtype  \n",
      "---  ------                   --------------  -----  \n",
      " 0   Invoice ID               1000 non-null   object \n",
      " 1   Branch                   1000 non-null   object \n",
      " 2   City                     1000 non-null   object \n",
      " 3   Customer type            1000 non-null   object \n",
      " 4   Gender                   1000 non-null   object \n",
      " 5   Product line             1000 non-null   object \n",
      " 6   Unit price               1000 non-null   float64\n",
      " 7   Quantity                 1000 non-null   int64  \n",
      " 8   Tax 5%                   1000 non-null   float64\n",
      " 9   Total                    1000 non-null   float64\n",
      " 10  Date                     1000 non-null   object \n",
      " 11  Time                     1000 non-null   object \n",
      " 12  Payment                  1000 non-null   object \n",
      " 13  cogs                     1000 non-null   float64\n",
      " 14  gross margin percentage  1000 non-null   float64\n",
      " 15  gross income             1000 non-null   float64\n",
      " 16  Rating                   1000 non-null   float64\n",
      "dtypes: float64(7), int64(1), object(9)\n",
      "memory usage: 132.9+ KB\n"
     ]
    }
   ],
   "source": [
    "df.info()"
   ]
  },
  {
   "cell_type": "code",
   "execution_count": 6,
   "id": "905f7104",
   "metadata": {},
   "outputs": [
    {
     "data": {
      "text/plain": [
       "Invoice ID                 0\n",
       "Branch                     0\n",
       "City                       0\n",
       "Customer type              0\n",
       "Gender                     0\n",
       "Product line               0\n",
       "Unit price                 0\n",
       "Quantity                   0\n",
       "Tax 5%                     0\n",
       "Total                      0\n",
       "Date                       0\n",
       "Time                       0\n",
       "Payment                    0\n",
       "cogs                       0\n",
       "gross margin percentage    0\n",
       "gross income               0\n",
       "Rating                     0\n",
       "dtype: int64"
      ]
     },
     "execution_count": 6,
     "metadata": {},
     "output_type": "execute_result"
    }
   ],
   "source": [
    "df.isna().sum()"
   ]
  },
  {
   "cell_type": "markdown",
   "id": "9b181869",
   "metadata": {},
   "source": [
    "### 1. Invoice ID"
   ]
  },
  {
   "cell_type": "code",
   "execution_count": 7,
   "id": "87f17477",
   "metadata": {},
   "outputs": [
    {
     "data": {
      "text/plain": [
       "750-67-8428    1\n",
       "642-61-4706    1\n",
       "816-72-8853    1\n",
       "491-38-3499    1\n",
       "322-02-2271    1\n",
       "              ..\n",
       "633-09-3463    1\n",
       "374-17-3652    1\n",
       "378-07-7001    1\n",
       "433-75-6987    1\n",
       "849-09-3807    1\n",
       "Name: Invoice ID, Length: 1000, dtype: int64"
      ]
     },
     "execution_count": 7,
     "metadata": {},
     "output_type": "execute_result"
    }
   ],
   "source": [
    "df['Invoice ID'].value_counts()"
   ]
  },
  {
   "cell_type": "raw",
   "id": "9c09371f",
   "metadata": {},
   "source": [
    "In Invoice ID column all the values are unique, so we drop this column"
   ]
  },
  {
   "cell_type": "code",
   "execution_count": 8,
   "id": "db53a624",
   "metadata": {},
   "outputs": [],
   "source": [
    "df.drop(columns=['Invoice ID'],axis=1,inplace=True)"
   ]
  },
  {
   "cell_type": "markdown",
   "id": "3afd6a65",
   "metadata": {},
   "source": [
    "### 2. Branch"
   ]
  },
  {
   "cell_type": "code",
   "execution_count": 9,
   "id": "c68b6e02",
   "metadata": {},
   "outputs": [
    {
     "data": {
      "text/plain": [
       "A    340\n",
       "B    332\n",
       "C    328\n",
       "Name: Branch, dtype: int64"
      ]
     },
     "execution_count": 9,
     "metadata": {},
     "output_type": "execute_result"
    }
   ],
   "source": [
    "df['Branch'].value_counts()"
   ]
  },
  {
   "cell_type": "raw",
   "id": "74328dc1",
   "metadata": {},
   "source": [
    "We are use OneHotEncoder Here"
   ]
  },
  {
   "cell_type": "code",
   "execution_count": 10,
   "id": "16a07f2b",
   "metadata": {},
   "outputs": [
    {
     "data": {
      "text/plain": [
       "array([[1, 0, 0],\n",
       "       [0, 0, 1],\n",
       "       [1, 0, 0],\n",
       "       ...,\n",
       "       [1, 0, 0],\n",
       "       [1, 0, 0],\n",
       "       [1, 0, 0]])"
      ]
     },
     "execution_count": 10,
     "metadata": {},
     "output_type": "execute_result"
    }
   ],
   "source": [
    "One_hot_encoder = OneHotEncoder(dtype=int,sparse=False)\n",
    "One_hot_encoder.fit_transform(df[['Branch']])"
   ]
  },
  {
   "cell_type": "code",
   "execution_count": 11,
   "id": "f7336da4",
   "metadata": {},
   "outputs": [
    {
     "data": {
      "text/plain": [
       "array(['A', 'B', 'C'], dtype=object)"
      ]
     },
     "execution_count": 11,
     "metadata": {},
     "output_type": "execute_result"
    }
   ],
   "source": [
    "One_hot_encoder.categories_[0]"
   ]
  },
  {
   "cell_type": "code",
   "execution_count": 12,
   "id": "8203e570",
   "metadata": {
    "scrolled": true
   },
   "outputs": [],
   "source": [
    "df1 = pd.DataFrame(One_hot_encoder.fit_transform(df[['Branch']]))\n",
    "df1.columns= list(map(lambda x:'Branch_'+x,One_hot_encoder.categories_[0].tolist()))"
   ]
  },
  {
   "cell_type": "code",
   "execution_count": 13,
   "id": "4e0d568e",
   "metadata": {},
   "outputs": [],
   "source": [
    "df = pd.concat([df,df1],axis=1)"
   ]
  },
  {
   "cell_type": "code",
   "execution_count": 14,
   "id": "cb9b42dc",
   "metadata": {},
   "outputs": [],
   "source": [
    "df.drop(columns=['Branch'],inplace=True)"
   ]
  },
  {
   "cell_type": "markdown",
   "id": "bdfad4ef",
   "metadata": {},
   "source": [
    "### 3. City"
   ]
  },
  {
   "cell_type": "code",
   "execution_count": 15,
   "id": "e9d9ed74",
   "metadata": {},
   "outputs": [
    {
     "data": {
      "text/plain": [
       "Yangon       340\n",
       "Mandalay     332\n",
       "Naypyitaw    328\n",
       "Name: City, dtype: int64"
      ]
     },
     "execution_count": 15,
     "metadata": {},
     "output_type": "execute_result"
    }
   ],
   "source": [
    "df['City'].value_counts()"
   ]
  },
  {
   "cell_type": "raw",
   "id": "834c7d11",
   "metadata": {},
   "source": [
    "We are use OneHotEncoder Here"
   ]
  },
  {
   "cell_type": "code",
   "execution_count": 16,
   "id": "d2cd2544",
   "metadata": {},
   "outputs": [
    {
     "data": {
      "text/plain": [
       "array([[0, 0, 1],\n",
       "       [0, 1, 0],\n",
       "       [0, 0, 1],\n",
       "       ...,\n",
       "       [0, 0, 1],\n",
       "       [0, 0, 1],\n",
       "       [0, 0, 1]])"
      ]
     },
     "execution_count": 16,
     "metadata": {},
     "output_type": "execute_result"
    }
   ],
   "source": [
    "One_hot_encoder = OneHotEncoder(dtype=int,sparse=False)\n",
    "One_hot_encoder.fit_transform(df[['City']])"
   ]
  },
  {
   "cell_type": "code",
   "execution_count": 17,
   "id": "7a8118fd",
   "metadata": {},
   "outputs": [
    {
     "data": {
      "text/plain": [
       "array(['Mandalay', 'Naypyitaw', 'Yangon'], dtype=object)"
      ]
     },
     "execution_count": 17,
     "metadata": {},
     "output_type": "execute_result"
    }
   ],
   "source": [
    "One_hot_encoder.categories_[0]"
   ]
  },
  {
   "cell_type": "code",
   "execution_count": 18,
   "id": "732113e4",
   "metadata": {
    "scrolled": true
   },
   "outputs": [],
   "source": [
    "df1 = pd.DataFrame(One_hot_encoder.fit_transform(df[['City']]))\n",
    "df1.columns= list(map(lambda x:'City_'+x,One_hot_encoder.categories_[0].tolist()))"
   ]
  },
  {
   "cell_type": "code",
   "execution_count": 19,
   "id": "37842cd7",
   "metadata": {},
   "outputs": [],
   "source": [
    "df = pd.concat([df,df1],axis=1)"
   ]
  },
  {
   "cell_type": "code",
   "execution_count": 20,
   "id": "959baa9b",
   "metadata": {},
   "outputs": [],
   "source": [
    "df.drop(columns=['City'],inplace=True)"
   ]
  },
  {
   "cell_type": "markdown",
   "id": "3ce2ac9d",
   "metadata": {},
   "source": [
    "### 4. Customer type"
   ]
  },
  {
   "cell_type": "code",
   "execution_count": 21,
   "id": "797f6257",
   "metadata": {},
   "outputs": [
    {
     "data": {
      "text/plain": [
       "Member    501\n",
       "Normal    499\n",
       "Name: Customer type, dtype: int64"
      ]
     },
     "execution_count": 21,
     "metadata": {},
     "output_type": "execute_result"
    }
   ],
   "source": [
    "df['Customer type'].value_counts()"
   ]
  },
  {
   "cell_type": "raw",
   "id": "dcda34c0",
   "metadata": {},
   "source": [
    "This column contains Ordinal data, so we use Label Encoder"
   ]
  },
  {
   "cell_type": "code",
   "execution_count": 22,
   "id": "69f8a84e",
   "metadata": {},
   "outputs": [],
   "source": [
    "values_Customer_type =  {'Normal': 0, 'Member': 1}"
   ]
  },
  {
   "cell_type": "code",
   "execution_count": 23,
   "id": "6d8c6607",
   "metadata": {},
   "outputs": [],
   "source": [
    "mapping = [{\n",
    "    'col': 'Customer type',\n",
    "    'mapping': values_Customer_type\n",
    "}]"
   ]
  },
  {
   "cell_type": "code",
   "execution_count": 24,
   "id": "b93c178f",
   "metadata": {},
   "outputs": [],
   "source": [
    "encoder = OrdinalEncoder(cols=['Customer type'], mapping=mapping)\n",
    "df['Customer type'] = encoder.fit_transform(df['Customer type'])"
   ]
  },
  {
   "cell_type": "markdown",
   "id": "77eb6553",
   "metadata": {},
   "source": [
    "### 5. Gender"
   ]
  },
  {
   "cell_type": "code",
   "execution_count": 25,
   "id": "313558d1",
   "metadata": {},
   "outputs": [
    {
     "data": {
      "text/plain": [
       "Female    501\n",
       "Male      499\n",
       "Name: Gender, dtype: int64"
      ]
     },
     "execution_count": 25,
     "metadata": {},
     "output_type": "execute_result"
    }
   ],
   "source": [
    "df['Gender'].value_counts()"
   ]
  },
  {
   "cell_type": "raw",
   "id": "e08c868e",
   "metadata": {},
   "source": [
    "Gender is a ordinal data so we do label encoding"
   ]
  },
  {
   "cell_type": "code",
   "execution_count": 26,
   "id": "f5c5c4ee",
   "metadata": {},
   "outputs": [],
   "source": [
    "encoder = LabelEncoder()\n",
    "df['Gender'] = encoder.fit_transform(df['Gender'])"
   ]
  },
  {
   "cell_type": "code",
   "execution_count": 27,
   "id": "9ac52ea4",
   "metadata": {},
   "outputs": [
    {
     "data": {
      "text/plain": [
       "{'Female': 0, 'Male': 1}"
      ]
     },
     "execution_count": 27,
     "metadata": {},
     "output_type": "execute_result"
    }
   ],
   "source": [
    "values_Gender = dict(zip(list(encoder.classes_),list(range(len(encoder.classes_)))))\n",
    "values_Gender"
   ]
  },
  {
   "cell_type": "markdown",
   "id": "7ef4769a",
   "metadata": {},
   "source": [
    "### 6. Product line"
   ]
  },
  {
   "cell_type": "code",
   "execution_count": 28,
   "id": "fb38119c",
   "metadata": {},
   "outputs": [
    {
     "data": {
      "text/plain": [
       "Fashion accessories       178\n",
       "Food and beverages        174\n",
       "Electronic accessories    170\n",
       "Sports and travel         166\n",
       "Home and lifestyle        160\n",
       "Health and beauty         152\n",
       "Name: Product line, dtype: int64"
      ]
     },
     "execution_count": 28,
     "metadata": {},
     "output_type": "execute_result"
    }
   ],
   "source": [
    "df['Product line'].value_counts()"
   ]
  },
  {
   "cell_type": "raw",
   "id": "7796b3e4",
   "metadata": {},
   "source": [
    "We are use OneHotEncoder Here"
   ]
  },
  {
   "cell_type": "code",
   "execution_count": 29,
   "id": "5cf2162e",
   "metadata": {},
   "outputs": [
    {
     "data": {
      "text/plain": [
       "array([[0, 0, 0, 1, 0, 0],\n",
       "       [1, 0, 0, 0, 0, 0],\n",
       "       [0, 0, 0, 0, 1, 0],\n",
       "       ...,\n",
       "       [0, 0, 1, 0, 0, 0],\n",
       "       [0, 0, 0, 0, 1, 0],\n",
       "       [0, 1, 0, 0, 0, 0]])"
      ]
     },
     "execution_count": 29,
     "metadata": {},
     "output_type": "execute_result"
    }
   ],
   "source": [
    "One_hot_encoder = OneHotEncoder(dtype=int,sparse=False)\n",
    "One_hot_encoder.fit_transform(df[['Product line']])"
   ]
  },
  {
   "cell_type": "code",
   "execution_count": 30,
   "id": "c03923e9",
   "metadata": {},
   "outputs": [
    {
     "data": {
      "text/plain": [
       "array(['Electronic accessories', 'Fashion accessories',\n",
       "       'Food and beverages', 'Health and beauty', 'Home and lifestyle',\n",
       "       'Sports and travel'], dtype=object)"
      ]
     },
     "execution_count": 30,
     "metadata": {},
     "output_type": "execute_result"
    }
   ],
   "source": [
    "One_hot_encoder.categories_[0]"
   ]
  },
  {
   "cell_type": "code",
   "execution_count": 31,
   "id": "3f7bd3ff",
   "metadata": {
    "scrolled": true
   },
   "outputs": [],
   "source": [
    "df1 = pd.DataFrame(One_hot_encoder.fit_transform(df[['Product line']]))\n",
    "df1.columns= list(map(lambda x:'Product line_'+x,One_hot_encoder.categories_[0].tolist()))"
   ]
  },
  {
   "cell_type": "code",
   "execution_count": 32,
   "id": "5d6cc1dc",
   "metadata": {},
   "outputs": [],
   "source": [
    "df = pd.concat([df,df1],axis=1)"
   ]
  },
  {
   "cell_type": "code",
   "execution_count": 33,
   "id": "13461994",
   "metadata": {},
   "outputs": [],
   "source": [
    "df.drop(columns=['Product line'],inplace=True)"
   ]
  },
  {
   "cell_type": "markdown",
   "id": "392fd4e8",
   "metadata": {},
   "source": [
    "### 7. Date and Time"
   ]
  },
  {
   "cell_type": "raw",
   "id": "20b79df3",
   "metadata": {},
   "source": [
    "we are dropping Date and Time columns"
   ]
  },
  {
   "cell_type": "code",
   "execution_count": 34,
   "id": "c4229905",
   "metadata": {},
   "outputs": [],
   "source": [
    "df.drop(columns=['Date','Time'],inplace=True)"
   ]
  },
  {
   "cell_type": "markdown",
   "id": "765aa9a3",
   "metadata": {},
   "source": [
    "### 8. Payment"
   ]
  },
  {
   "cell_type": "code",
   "execution_count": 35,
   "id": "5b484ff4",
   "metadata": {},
   "outputs": [
    {
     "data": {
      "text/plain": [
       "Ewallet        345\n",
       "Cash           344\n",
       "Credit card    311\n",
       "Name: Payment, dtype: int64"
      ]
     },
     "execution_count": 35,
     "metadata": {},
     "output_type": "execute_result"
    }
   ],
   "source": [
    "df['Payment'].value_counts()"
   ]
  },
  {
   "cell_type": "raw",
   "id": "5786c1dd",
   "metadata": {},
   "source": [
    "We are use OneHotEncoder Here"
   ]
  },
  {
   "cell_type": "code",
   "execution_count": 36,
   "id": "b20fa642",
   "metadata": {},
   "outputs": [
    {
     "data": {
      "text/plain": [
       "array([[0, 0, 1],\n",
       "       [1, 0, 0],\n",
       "       [0, 1, 0],\n",
       "       ...,\n",
       "       [1, 0, 0],\n",
       "       [1, 0, 0],\n",
       "       [1, 0, 0]])"
      ]
     },
     "execution_count": 36,
     "metadata": {},
     "output_type": "execute_result"
    }
   ],
   "source": [
    "One_hot_encoder = OneHotEncoder(dtype=int,sparse=False)\n",
    "One_hot_encoder.fit_transform(df[['Payment']])"
   ]
  },
  {
   "cell_type": "code",
   "execution_count": 37,
   "id": "70570e24",
   "metadata": {},
   "outputs": [
    {
     "data": {
      "text/plain": [
       "array(['Cash', 'Credit card', 'Ewallet'], dtype=object)"
      ]
     },
     "execution_count": 37,
     "metadata": {},
     "output_type": "execute_result"
    }
   ],
   "source": [
    "One_hot_encoder.categories_[0]"
   ]
  },
  {
   "cell_type": "code",
   "execution_count": 38,
   "id": "1979e7bc",
   "metadata": {
    "scrolled": true
   },
   "outputs": [],
   "source": [
    "df1 = pd.DataFrame(One_hot_encoder.fit_transform(df[['Payment']]))\n",
    "df1.columns= list(map(lambda x:'Payment_'+x,One_hot_encoder.categories_[0].tolist()))"
   ]
  },
  {
   "cell_type": "code",
   "execution_count": 39,
   "id": "c5188352",
   "metadata": {},
   "outputs": [],
   "source": [
    "df = pd.concat([df,df1],axis=1)"
   ]
  },
  {
   "cell_type": "code",
   "execution_count": 40,
   "id": "59bedd84",
   "metadata": {},
   "outputs": [],
   "source": [
    "df.drop(columns=['Payment'],inplace=True)"
   ]
  },
  {
   "cell_type": "markdown",
   "id": "fae14b09",
   "metadata": {},
   "source": [
    "### 9. gross margin percentage"
   ]
  },
  {
   "cell_type": "code",
   "execution_count": 41,
   "id": "eae6a6ef",
   "metadata": {},
   "outputs": [
    {
     "data": {
      "text/plain": [
       "4.761905    1000\n",
       "Name: gross margin percentage, dtype: int64"
      ]
     },
     "execution_count": 41,
     "metadata": {},
     "output_type": "execute_result"
    }
   ],
   "source": [
    "df['gross margin percentage'].value_counts()"
   ]
  },
  {
   "cell_type": "code",
   "execution_count": 42,
   "id": "9d663bd3",
   "metadata": {},
   "outputs": [],
   "source": [
    "df.drop(columns=['gross margin percentage'],inplace=True)"
   ]
  },
  {
   "cell_type": "code",
   "execution_count": 43,
   "id": "dd593765",
   "metadata": {},
   "outputs": [
    {
     "name": "stdout",
     "output_type": "stream",
     "text": [
      "<class 'pandas.core.frame.DataFrame'>\n",
      "RangeIndex: 1000 entries, 0 to 999\n",
      "Data columns (total 24 columns):\n",
      " #   Column                               Non-Null Count  Dtype  \n",
      "---  ------                               --------------  -----  \n",
      " 0   Customer type                        1000 non-null   int32  \n",
      " 1   Gender                               1000 non-null   int32  \n",
      " 2   Unit price                           1000 non-null   float64\n",
      " 3   Quantity                             1000 non-null   int64  \n",
      " 4   Tax 5%                               1000 non-null   float64\n",
      " 5   Total                                1000 non-null   float64\n",
      " 6   cogs                                 1000 non-null   float64\n",
      " 7   gross income                         1000 non-null   float64\n",
      " 8   Rating                               1000 non-null   float64\n",
      " 9   Branch_A                             1000 non-null   int32  \n",
      " 10  Branch_B                             1000 non-null   int32  \n",
      " 11  Branch_C                             1000 non-null   int32  \n",
      " 12  City_Mandalay                        1000 non-null   int32  \n",
      " 13  City_Naypyitaw                       1000 non-null   int32  \n",
      " 14  City_Yangon                          1000 non-null   int32  \n",
      " 15  Product line_Electronic accessories  1000 non-null   int32  \n",
      " 16  Product line_Fashion accessories     1000 non-null   int32  \n",
      " 17  Product line_Food and beverages      1000 non-null   int32  \n",
      " 18  Product line_Health and beauty       1000 non-null   int32  \n",
      " 19  Product line_Home and lifestyle      1000 non-null   int32  \n",
      " 20  Product line_Sports and travel       1000 non-null   int32  \n",
      " 21  Payment_Cash                         1000 non-null   int32  \n",
      " 22  Payment_Credit card                  1000 non-null   int32  \n",
      " 23  Payment_Ewallet                      1000 non-null   int32  \n",
      "dtypes: float64(6), int32(17), int64(1)\n",
      "memory usage: 121.2 KB\n"
     ]
    }
   ],
   "source": [
    "df.info()"
   ]
  },
  {
   "cell_type": "markdown",
   "id": "d170b5f9",
   "metadata": {},
   "source": [
    "# Binning"
   ]
  },
  {
   "cell_type": "code",
   "execution_count": 44,
   "id": "a2ecd3fb",
   "metadata": {},
   "outputs": [
    {
     "data": {
      "text/plain": [
       "[4, 5, 10]"
      ]
     },
     "execution_count": 44,
     "metadata": {},
     "output_type": "execute_result"
    }
   ],
   "source": [
    "min_val = int(df['Rating'].min())\n",
    "min_val\n",
    "\n",
    "max_val = int(df['Rating'].max())\n",
    "max_val\n",
    "\n",
    "cut_points = [5]\n",
    "\n",
    "break_points = [min_val] + cut_points + [max_val]\n",
    "break_points"
   ]
  },
  {
   "cell_type": "code",
   "execution_count": 45,
   "id": "7acaf922",
   "metadata": {},
   "outputs": [],
   "source": [
    "df['Rating'] = pd.cut(df['Rating'], bins=break_points, labels=['Satisfied','Not Satisfied'], include_lowest=True)"
   ]
  },
  {
   "cell_type": "code",
   "execution_count": 46,
   "id": "ccc5213a",
   "metadata": {},
   "outputs": [
    {
     "data": {
      "text/plain": [
       "Not Satisfied    826\n",
       "Satisfied        174\n",
       "Name: Rating, dtype: int64"
      ]
     },
     "execution_count": 46,
     "metadata": {},
     "output_type": "execute_result"
    }
   ],
   "source": [
    "df['Rating'].value_counts()"
   ]
  },
  {
   "cell_type": "code",
   "execution_count": 47,
   "id": "22e5cf40",
   "metadata": {},
   "outputs": [],
   "source": [
    "encoder = LabelEncoder()\n",
    "df['Rating'] = encoder.fit_transform(df['Rating'])"
   ]
  },
  {
   "cell_type": "code",
   "execution_count": 48,
   "id": "554fdc19",
   "metadata": {},
   "outputs": [
    {
     "data": {
      "text/plain": [
       "{'Not Satisfied': 0, 'Satisfied': 1}"
      ]
     },
     "execution_count": 48,
     "metadata": {},
     "output_type": "execute_result"
    }
   ],
   "source": [
    "values_Rating = dict(zip(list(encoder.classes_),list(range(len(encoder.classes_)))))\n",
    "values_Rating"
   ]
  },
  {
   "cell_type": "markdown",
   "id": "32b0984f",
   "metadata": {},
   "source": [
    "# SMOTE"
   ]
  },
  {
   "cell_type": "code",
   "execution_count": 137,
   "id": "911ede30",
   "metadata": {},
   "outputs": [],
   "source": [
    "target_column = \"Rating\""
   ]
  },
  {
   "cell_type": "code",
   "execution_count": 138,
   "id": "78e66dfe",
   "metadata": {},
   "outputs": [],
   "source": [
    "x = df.drop(target_column,axis=1)\n",
    "y = df[target_column]"
   ]
  },
  {
   "cell_type": "code",
   "execution_count": 139,
   "id": "baf07dfc",
   "metadata": {},
   "outputs": [],
   "source": [
    "from imblearn.over_sampling import SMOTE"
   ]
  },
  {
   "cell_type": "code",
   "execution_count": 143,
   "id": "2b469d01",
   "metadata": {},
   "outputs": [],
   "source": [
    "sm = SMOTE(random_state=77)\n",
    "x, y = sm.fit_resample(x,y)"
   ]
  },
  {
   "cell_type": "code",
   "execution_count": 144,
   "id": "8d632be0",
   "metadata": {},
   "outputs": [
    {
     "data": {
      "text/plain": [
       "(1652, 23)"
      ]
     },
     "execution_count": 144,
     "metadata": {},
     "output_type": "execute_result"
    }
   ],
   "source": [
    "x.shape"
   ]
  },
  {
   "cell_type": "code",
   "execution_count": 145,
   "id": "2e8cc4bc",
   "metadata": {},
   "outputs": [
    {
     "data": {
      "text/plain": [
       "3"
      ]
     },
     "execution_count": 145,
     "metadata": {},
     "output_type": "execute_result"
    }
   ],
   "source": [
    "x.duplicated().sum()"
   ]
  },
  {
   "cell_type": "markdown",
   "id": "bac262bb",
   "metadata": {},
   "source": [
    "# Outliers Handaling"
   ]
  },
  {
   "cell_type": "code",
   "execution_count": 57,
   "id": "093e412f",
   "metadata": {
    "scrolled": true
   },
   "outputs": [
    {
     "data": {
      "text/plain": [
       "<AxesSubplot:>"
      ]
     },
     "execution_count": 57,
     "metadata": {},
     "output_type": "execute_result"
    },
    {
     "data": {
      "image/png": "[encoded data removed]",
      "text/plain": [
       "<Figure size 1440x1440 with 1 Axes>"
      ]
     },
     "metadata": {
      "needs_background": "light"
     },
     "output_type": "display_data"
    }
   ],
   "source": [
    "plt.figure(figsize=(20,20))\n",
    "x.boxplot()"
   ]
  },
  {
   "cell_type": "markdown",
   "id": "1b275ee6",
   "metadata": {},
   "source": [
    "### Tax 5%"
   ]
  },
  {
   "cell_type": "code",
   "execution_count": 58,
   "id": "89abe503",
   "metadata": {},
   "outputs": [
    {
     "data": {
      "text/plain": [
       "<AxesSubplot:xlabel='Tax 5%'>"
      ]
     },
     "execution_count": 58,
     "metadata": {},
     "output_type": "execute_result"
    },
    {
     "data": {
      "image/png": "[encoded data removed]",
      "text/plain": [
       "<Figure size 432x288 with 1 Axes>"
      ]
     },
     "metadata": {
      "needs_background": "light"
     },
     "output_type": "display_data"
    }
   ],
   "source": [
    "sns.boxplot(x['Tax 5%'])"
   ]
  },
  {
   "cell_type": "markdown",
   "id": "df7a0f24",
   "metadata": {},
   "source": [
    "### Total"
   ]
  },
  {
   "cell_type": "code",
   "execution_count": 59,
   "id": "6d39ef3e",
   "metadata": {},
   "outputs": [
    {
     "data": {
      "text/plain": [
       "<AxesSubplot:xlabel='Total'>"
      ]
     },
     "execution_count": 59,
     "metadata": {},
     "output_type": "execute_result"
    },
    {
     "data": {
      "image/png": "[encoded data removed]",
      "text/plain": [
       "<Figure size 432x288 with 1 Axes>"
      ]
     },
     "metadata": {
      "needs_background": "light"
     },
     "output_type": "display_data"
    }
   ],
   "source": [
    "sns.boxplot(x['Total'])"
   ]
  },
  {
   "cell_type": "markdown",
   "id": "38f695e7",
   "metadata": {},
   "source": [
    "### cogs"
   ]
  },
  {
   "cell_type": "code",
   "execution_count": 60,
   "id": "c6220155",
   "metadata": {},
   "outputs": [
    {
     "data": {
      "text/plain": [
       "<AxesSubplot:xlabel='cogs'>"
      ]
     },
     "execution_count": 60,
     "metadata": {},
     "output_type": "execute_result"
    },
    {
     "data": {
      "image/png": "[encoded data removed]",
      "text/plain": [
       "<Figure size 432x288 with 1 Axes>"
      ]
     },
     "metadata": {
      "needs_background": "light"
     },
     "output_type": "display_data"
    }
   ],
   "source": [
    "sns.boxplot(x['cogs'])"
   ]
  },
  {
   "cell_type": "markdown",
   "id": "aaa3da62",
   "metadata": {},
   "source": [
    "### gross income"
   ]
  },
  {
   "cell_type": "code",
   "execution_count": 61,
   "id": "df0cfa7b",
   "metadata": {},
   "outputs": [
    {
     "data": {
      "text/plain": [
       "<AxesSubplot:xlabel='gross income'>"
      ]
     },
     "execution_count": 61,
     "metadata": {},
     "output_type": "execute_result"
    },
    {
     "data": {
      "image/png": "[encoded data removed]",
      "text/plain": [
       "<Figure size 432x288 with 1 Axes>"
      ]
     },
     "metadata": {
      "needs_background": "light"
     },
     "output_type": "display_data"
    }
   ],
   "source": [
    "sns.boxplot(x['gross income'])"
   ]
  },
  {
   "cell_type": "code",
   "execution_count": 62,
   "id": "b917669e",
   "metadata": {},
   "outputs": [],
   "source": [
    "# Create Instance\n",
    "preprocessing = DataPreProcessing()"
   ]
  },
  {
   "cell_type": "code",
   "execution_count": 63,
   "id": "5e0ae73e",
   "metadata": {},
   "outputs": [],
   "source": [
    "x = preprocessing.replace_outliers_by_nan(x,outlier_columns=['Tax 5%','Total','cogs','gross income'])"
   ]
  },
  {
   "cell_type": "code",
   "execution_count": 64,
   "id": "aa0d7ba6",
   "metadata": {},
   "outputs": [
    {
     "data": {
      "text/plain": [
       "<AxesSubplot:>"
      ]
     },
     "execution_count": 64,
     "metadata": {},
     "output_type": "execute_result"
    },
    {
     "data": {
      "image/png": "[encoded data removed]",
      "text/plain": [
       "<Figure size 1440x1440 with 1 Axes>"
      ]
     },
     "metadata": {
      "needs_background": "light"
     },
     "output_type": "display_data"
    }
   ],
   "source": [
    "plt.figure(figsize=(20,20))\n",
    "x.boxplot()"
   ]
  },
  {
   "cell_type": "code",
   "execution_count": 65,
   "id": "09832201",
   "metadata": {},
   "outputs": [],
   "source": [
    "x = preprocessing.knn_imputer(x,continuous_columns = ['Tax 5%','Total','cogs','gross income'])"
   ]
  },
  {
   "cell_type": "code",
   "execution_count": 66,
   "id": "4b3eb995",
   "metadata": {},
   "outputs": [
    {
     "data": {
      "text/plain": [
       "Index(['Customer type', 'Gender', 'Unit price', 'Quantity', 'Tax 5%', 'Total',\n",
       "       'cogs', 'gross income', 'Branch_A', 'Branch_B', 'Branch_C',\n",
       "       'City_Mandalay', 'City_Naypyitaw', 'City_Yangon',\n",
       "       'Product line_Electronic accessories',\n",
       "       'Product line_Fashion accessories', 'Product line_Food and beverages',\n",
       "       'Product line_Health and beauty', 'Product line_Home and lifestyle',\n",
       "       'Product line_Sports and travel', 'Payment_Cash', 'Payment_Credit card',\n",
       "       'Payment_Ewallet'],\n",
       "      dtype='object')"
      ]
     },
     "execution_count": 66,
     "metadata": {},
     "output_type": "execute_result"
    }
   ],
   "source": [
    "x.columns"
   ]
  },
  {
   "cell_type": "markdown",
   "id": "16fa40f5",
   "metadata": {},
   "source": [
    "# Feature Selection"
   ]
  },
  {
   "cell_type": "code",
   "execution_count": 67,
   "id": "1636287a",
   "metadata": {},
   "outputs": [
    {
     "data": {
      "text/html": [
       "<div>\n",
       "<style scoped>\n",
       "    .dataframe tbody tr th:only-of-type {\n",
       "        vertical-align: middle;\n",
       "    }\n",
       "\n",
       "    .dataframe tbody tr th {\n",
       "        vertical-align: top;\n",
       "    }\n",
       "\n",
       "    .dataframe thead th {\n",
       "        text-align: right;\n",
       "    }\n",
       "</style>\n",
       "<table border=\"1\" class=\"dataframe\">\n",
       "  <thead>\n",
       "    <tr style=\"text-align: right;\">\n",
       "      <th></th>\n",
       "      <th>Customer type</th>\n",
       "      <th>Gender</th>\n",
       "      <th>Unit price</th>\n",
       "      <th>Quantity</th>\n",
       "      <th>Tax 5%</th>\n",
       "      <th>Total</th>\n",
       "      <th>cogs</th>\n",
       "      <th>gross income</th>\n",
       "      <th>Branch_A</th>\n",
       "      <th>Branch_B</th>\n",
       "      <th>...</th>\n",
       "      <th>City_Yangon</th>\n",
       "      <th>Product line_Electronic accessories</th>\n",
       "      <th>Product line_Fashion accessories</th>\n",
       "      <th>Product line_Food and beverages</th>\n",
       "      <th>Product line_Health and beauty</th>\n",
       "      <th>Product line_Home and lifestyle</th>\n",
       "      <th>Product line_Sports and travel</th>\n",
       "      <th>Payment_Cash</th>\n",
       "      <th>Payment_Credit card</th>\n",
       "      <th>Payment_Ewallet</th>\n",
       "    </tr>\n",
       "  </thead>\n",
       "  <tbody>\n",
       "    <tr>\n",
       "      <th>0</th>\n",
       "      <td>1</td>\n",
       "      <td>0</td>\n",
       "      <td>74.69</td>\n",
       "      <td>7</td>\n",
       "      <td>26.1415</td>\n",
       "      <td>548.9715</td>\n",
       "      <td>522.83</td>\n",
       "      <td>26.1415</td>\n",
       "      <td>1</td>\n",
       "      <td>0</td>\n",
       "      <td>...</td>\n",
       "      <td>1</td>\n",
       "      <td>0</td>\n",
       "      <td>0</td>\n",
       "      <td>0</td>\n",
       "      <td>1</td>\n",
       "      <td>0</td>\n",
       "      <td>0</td>\n",
       "      <td>0</td>\n",
       "      <td>0</td>\n",
       "      <td>1</td>\n",
       "    </tr>\n",
       "    <tr>\n",
       "      <th>1</th>\n",
       "      <td>0</td>\n",
       "      <td>0</td>\n",
       "      <td>15.28</td>\n",
       "      <td>5</td>\n",
       "      <td>3.8200</td>\n",
       "      <td>80.2200</td>\n",
       "      <td>76.40</td>\n",
       "      <td>3.8200</td>\n",
       "      <td>0</td>\n",
       "      <td>0</td>\n",
       "      <td>...</td>\n",
       "      <td>0</td>\n",
       "      <td>1</td>\n",
       "      <td>0</td>\n",
       "      <td>0</td>\n",
       "      <td>0</td>\n",
       "      <td>0</td>\n",
       "      <td>0</td>\n",
       "      <td>1</td>\n",
       "      <td>0</td>\n",
       "      <td>0</td>\n",
       "    </tr>\n",
       "  </tbody>\n",
       "</table>\n",
       "<p>2 rows × 23 columns</p>\n",
       "</div>"
      ],
      "text/plain": [
       "   Customer type  Gender  Unit price  Quantity   Tax 5%     Total    cogs  \\\n",
       "0              1       0       74.69         7  26.1415  548.9715  522.83   \n",
       "1              0       0       15.28         5   3.8200   80.2200   76.40   \n",
       "\n",
       "   gross income  Branch_A  Branch_B  ...  City_Yangon  \\\n",
       "0       26.1415         1         0  ...            1   \n",
       "1        3.8200         0         0  ...            0   \n",
       "\n",
       "   Product line_Electronic accessories  Product line_Fashion accessories  \\\n",
       "0                                    0                                 0   \n",
       "1                                    1                                 0   \n",
       "\n",
       "   Product line_Food and beverages  Product line_Health and beauty  \\\n",
       "0                                0                               1   \n",
       "1                                0                               0   \n",
       "\n",
       "   Product line_Home and lifestyle  Product line_Sports and travel  \\\n",
       "0                                0                               0   \n",
       "1                                0                               0   \n",
       "\n",
       "   Payment_Cash  Payment_Credit card  Payment_Ewallet  \n",
       "0             0                    0                1  \n",
       "1             1                    0                0  \n",
       "\n",
       "[2 rows x 23 columns]"
      ]
     },
     "execution_count": 67,
     "metadata": {},
     "output_type": "execute_result"
    }
   ],
   "source": [
    "x.head(2)"
   ]
  },
  {
   "cell_type": "code",
   "execution_count": 68,
   "id": "80ad123d",
   "metadata": {},
   "outputs": [],
   "source": [
    "continuous_columns = ['Unit price','Tax 5%','Total','cogs','gross income']\n",
    "catogorical_columns = ['Customer type', 'Gender','Quantity', 'Branch_A', 'Branch_B', 'Branch_C',\n",
    "       'City_Mandalay', 'City_Naypyitaw', 'City_Yangon',\n",
    "       'Product line_Electronic accessories',\n",
    "       'Product line_Fashion accessories', 'Product line_Food and beverages',\n",
    "       'Product line_Health and beauty', 'Product line_Home and lifestyle',\n",
    "       'Product line_Sports and travel', 'Payment_Cash', 'Payment_Credit card',\n",
    "       'Payment_Ewallet']"
   ]
  },
  {
   "cell_type": "markdown",
   "id": "ece315eb",
   "metadata": {},
   "source": [
    "### 0. correlation "
   ]
  },
  {
   "cell_type": "code",
   "execution_count": 176,
   "id": "c56f4505",
   "metadata": {},
   "outputs": [
    {
     "data": {
      "text/html": [
       "<div>\n",
       "<style scoped>\n",
       "    .dataframe tbody tr th:only-of-type {\n",
       "        vertical-align: middle;\n",
       "    }\n",
       "\n",
       "    .dataframe tbody tr th {\n",
       "        vertical-align: top;\n",
       "    }\n",
       "\n",
       "    .dataframe thead th {\n",
       "        text-align: right;\n",
       "    }\n",
       "</style>\n",
       "<table border=\"1\" class=\"dataframe\">\n",
       "  <thead>\n",
       "    <tr style=\"text-align: right;\">\n",
       "      <th></th>\n",
       "      <th>Customer type</th>\n",
       "      <th>Gender</th>\n",
       "      <th>Unit price</th>\n",
       "      <th>Quantity</th>\n",
       "      <th>Tax 5%</th>\n",
       "      <th>Total</th>\n",
       "      <th>cogs</th>\n",
       "      <th>gross income</th>\n",
       "      <th>Branch_A</th>\n",
       "      <th>Branch_B</th>\n",
       "      <th>...</th>\n",
       "      <th>Product line_Electronic accessories</th>\n",
       "      <th>Product line_Fashion accessories</th>\n",
       "      <th>Product line_Food and beverages</th>\n",
       "      <th>Product line_Health and beauty</th>\n",
       "      <th>Product line_Home and lifestyle</th>\n",
       "      <th>Product line_Sports and travel</th>\n",
       "      <th>Payment_Cash</th>\n",
       "      <th>Payment_Credit card</th>\n",
       "      <th>Payment_Ewallet</th>\n",
       "      <th>Rating</th>\n",
       "    </tr>\n",
       "  </thead>\n",
       "  <tbody>\n",
       "    <tr>\n",
       "      <th>Rating</th>\n",
       "      <td>-0.123609</td>\n",
       "      <td>-0.277008</td>\n",
       "      <td>0.01832</td>\n",
       "      <td>-0.038268</td>\n",
       "      <td>0.014144</td>\n",
       "      <td>0.014144</td>\n",
       "      <td>0.014144</td>\n",
       "      <td>0.014144</td>\n",
       "      <td>-0.199267</td>\n",
       "      <td>-0.161772</td>\n",
       "      <td>...</td>\n",
       "      <td>-0.172266</td>\n",
       "      <td>-0.146897</td>\n",
       "      <td>-0.202049</td>\n",
       "      <td>-0.151414</td>\n",
       "      <td>-0.122492</td>\n",
       "      <td>-0.187083</td>\n",
       "      <td>-0.211548</td>\n",
       "      <td>-0.192926</td>\n",
       "      <td>-0.222997</td>\n",
       "      <td>1.0</td>\n",
       "    </tr>\n",
       "  </tbody>\n",
       "</table>\n",
       "<p>1 rows × 24 columns</p>\n",
       "</div>"
      ],
      "text/plain": [
       "        Customer type    Gender  Unit price  Quantity    Tax 5%     Total  \\\n",
       "Rating      -0.123609 -0.277008     0.01832 -0.038268  0.014144  0.014144   \n",
       "\n",
       "            cogs  gross income  Branch_A  Branch_B  ...  \\\n",
       "Rating  0.014144      0.014144 -0.199267 -0.161772  ...   \n",
       "\n",
       "        Product line_Electronic accessories  Product line_Fashion accessories  \\\n",
       "Rating                            -0.172266                         -0.146897   \n",
       "\n",
       "        Product line_Food and beverages  Product line_Health and beauty  \\\n",
       "Rating                        -0.202049                       -0.151414   \n",
       "\n",
       "        Product line_Home and lifestyle  Product line_Sports and travel  \\\n",
       "Rating                        -0.122492                       -0.187083   \n",
       "\n",
       "        Payment_Cash  Payment_Credit card  Payment_Ewallet  Rating  \n",
       "Rating     -0.211548            -0.192926        -0.222997     1.0  \n",
       "\n",
       "[1 rows x 24 columns]"
      ]
     },
     "execution_count": 176,
     "metadata": {},
     "output_type": "execute_result"
    }
   ],
   "source": [
    " pd.concat([x,y],axis=1).corr('kendall').tail(1)"
   ]
  },
  {
   "cell_type": "code",
   "execution_count": 178,
   "id": "1947131e",
   "metadata": {},
   "outputs": [
    {
     "data": {
      "text/html": [
       "<div>\n",
       "<style scoped>\n",
       "    .dataframe tbody tr th:only-of-type {\n",
       "        vertical-align: middle;\n",
       "    }\n",
       "\n",
       "    .dataframe tbody tr th {\n",
       "        vertical-align: top;\n",
       "    }\n",
       "\n",
       "    .dataframe thead th {\n",
       "        text-align: right;\n",
       "    }\n",
       "</style>\n",
       "<table border=\"1\" class=\"dataframe\">\n",
       "  <thead>\n",
       "    <tr style=\"text-align: right;\">\n",
       "      <th></th>\n",
       "      <th>Customer type</th>\n",
       "      <th>Gender</th>\n",
       "      <th>Unit price</th>\n",
       "      <th>Quantity</th>\n",
       "      <th>Tax 5%</th>\n",
       "      <th>Total</th>\n",
       "      <th>cogs</th>\n",
       "      <th>gross income</th>\n",
       "      <th>Branch_A</th>\n",
       "      <th>Branch_B</th>\n",
       "      <th>...</th>\n",
       "      <th>Product line_Electronic accessories</th>\n",
       "      <th>Product line_Fashion accessories</th>\n",
       "      <th>Product line_Food and beverages</th>\n",
       "      <th>Product line_Health and beauty</th>\n",
       "      <th>Product line_Home and lifestyle</th>\n",
       "      <th>Product line_Sports and travel</th>\n",
       "      <th>Payment_Cash</th>\n",
       "      <th>Payment_Credit card</th>\n",
       "      <th>Payment_Ewallet</th>\n",
       "      <th>Rating</th>\n",
       "    </tr>\n",
       "  </thead>\n",
       "  <tbody>\n",
       "    <tr>\n",
       "      <th>Rating</th>\n",
       "      <td>-0.123609</td>\n",
       "      <td>-0.277008</td>\n",
       "      <td>0.02243</td>\n",
       "      <td>-0.044648</td>\n",
       "      <td>0.017317</td>\n",
       "      <td>0.017317</td>\n",
       "      <td>0.017317</td>\n",
       "      <td>0.017317</td>\n",
       "      <td>-0.199267</td>\n",
       "      <td>-0.161772</td>\n",
       "      <td>...</td>\n",
       "      <td>-0.172266</td>\n",
       "      <td>-0.146897</td>\n",
       "      <td>-0.202049</td>\n",
       "      <td>-0.151414</td>\n",
       "      <td>-0.122492</td>\n",
       "      <td>-0.187083</td>\n",
       "      <td>-0.211548</td>\n",
       "      <td>-0.192926</td>\n",
       "      <td>-0.222997</td>\n",
       "      <td>1.0</td>\n",
       "    </tr>\n",
       "  </tbody>\n",
       "</table>\n",
       "<p>1 rows × 24 columns</p>\n",
       "</div>"
      ],
      "text/plain": [
       "        Customer type    Gender  Unit price  Quantity    Tax 5%     Total  \\\n",
       "Rating      -0.123609 -0.277008     0.02243 -0.044648  0.017317  0.017317   \n",
       "\n",
       "            cogs  gross income  Branch_A  Branch_B  ...  \\\n",
       "Rating  0.017317      0.017317 -0.199267 -0.161772  ...   \n",
       "\n",
       "        Product line_Electronic accessories  Product line_Fashion accessories  \\\n",
       "Rating                            -0.172266                         -0.146897   \n",
       "\n",
       "        Product line_Food and beverages  Product line_Health and beauty  \\\n",
       "Rating                        -0.202049                       -0.151414   \n",
       "\n",
       "        Product line_Home and lifestyle  Product line_Sports and travel  \\\n",
       "Rating                        -0.122492                       -0.187083   \n",
       "\n",
       "        Payment_Cash  Payment_Credit card  Payment_Ewallet  Rating  \n",
       "Rating     -0.211548            -0.192926        -0.222997     1.0  \n",
       "\n",
       "[1 rows x 24 columns]"
      ]
     },
     "execution_count": 178,
     "metadata": {},
     "output_type": "execute_result"
    }
   ],
   "source": [
    " pd.concat([x,y],axis=1).corr('spearman').tail(1)"
   ]
  },
  {
   "cell_type": "markdown",
   "id": "ee54f2b2",
   "metadata": {},
   "source": [
    "### 1. chi-square test"
   ]
  },
  {
   "cell_type": "code",
   "execution_count": 70,
   "id": "20669816",
   "metadata": {},
   "outputs": [],
   "source": [
    "from sklearn.feature_selection import chi2"
   ]
  },
  {
   "cell_type": "code",
   "execution_count": 71,
   "id": "d124b898",
   "metadata": {},
   "outputs": [],
   "source": [
    "test_statistics, p_value = chi2(x[catogorical_columns],y)"
   ]
  },
  {
   "cell_type": "code",
   "execution_count": 72,
   "id": "fc4fb21c",
   "metadata": {},
   "outputs": [
    {
     "data": {
      "text/plain": [
       "Customer type                          1.424472e-04\n",
       "Gender                                 7.126243e-19\n",
       "Quantity                               2.115248e-02\n",
       "Branch_A                               2.510042e-12\n",
       "Branch_B                               1.290123e-08\n",
       "Branch_C                               6.723388e-22\n",
       "City_Mandalay                          1.290123e-08\n",
       "City_Naypyitaw                         6.723388e-22\n",
       "City_Yangon                            2.510042e-12\n",
       "Product line_Electronic accessories    4.563299e-11\n",
       "Product line_Fashion accessories       2.457305e-08\n",
       "Product line_Food and beverages        1.068354e-14\n",
       "Product line_Health and beauty         5.578259e-09\n",
       "Product line_Home and lifestyle        2.885554e-06\n",
       "Product line_Sports and travel         7.475365e-13\n",
       "Payment_Cash                           1.319544e-13\n",
       "Payment_Credit card                    5.019779e-12\n",
       "Payment_Ewallet                        3.779152e-15\n",
       "dtype: float64"
      ]
     },
     "execution_count": 72,
     "metadata": {},
     "output_type": "execute_result"
    }
   ],
   "source": [
    "pd.Series(p_value, index=catogorical_columns)"
   ]
  },
  {
   "cell_type": "markdown",
   "id": "0b93e824",
   "metadata": {},
   "source": [
    "## 2. ANOVA"
   ]
  },
  {
   "cell_type": "code",
   "execution_count": 73,
   "id": "6cfe8887",
   "metadata": {},
   "outputs": [],
   "source": [
    "from sklearn.feature_selection import f_classif"
   ]
  },
  {
   "cell_type": "code",
   "execution_count": 74,
   "id": "080ad654",
   "metadata": {},
   "outputs": [],
   "source": [
    "test_statistics, p_value = f_classif(x[continuous_columns],y)"
   ]
  },
  {
   "cell_type": "code",
   "execution_count": 75,
   "id": "bdae481f",
   "metadata": {},
   "outputs": [
    {
     "data": {
      "text/plain": [
       "Unit price      0.347772\n",
       "Tax 5%          0.038593\n",
       "Total           0.038593\n",
       "cogs            0.038593\n",
       "gross income    0.038593\n",
       "dtype: float64"
      ]
     },
     "execution_count": 75,
     "metadata": {},
     "output_type": "execute_result"
    }
   ],
   "source": [
    "pd.Series(p_value, index=continuous_columns)"
   ]
  },
  {
   "cell_type": "markdown",
   "id": "804e1cb0",
   "metadata": {},
   "source": [
    "### 3. Mutual information (Information Gain)"
   ]
  },
  {
   "cell_type": "code",
   "execution_count": 76,
   "id": "a37885df",
   "metadata": {},
   "outputs": [],
   "source": [
    "from sklearn.feature_selection import mutual_info_classif"
   ]
  },
  {
   "cell_type": "code",
   "execution_count": 77,
   "id": "1c8c6523",
   "metadata": {},
   "outputs": [],
   "source": [
    "array = mutual_info_classif(x,y,random_state = 10)"
   ]
  },
  {
   "cell_type": "code",
   "execution_count": 78,
   "id": "fdc45a13",
   "metadata": {},
   "outputs": [
    {
     "data": {
      "text/plain": [
       "<AxesSubplot:>"
      ]
     },
     "execution_count": 78,
     "metadata": {},
     "output_type": "execute_result"
    },
    {
     "data": {
      "image/png": "[encoded data removed]",
      "text/plain": [
       "<Figure size 432x288 with 1 Axes>"
      ]
     },
     "metadata": {
      "needs_background": "light"
     },
     "output_type": "display_data"
    }
   ],
   "source": [
    "s2 = pd.Series(array, index=x.columns)\n",
    "s2.sort_values().plot(kind= 'barh')"
   ]
  },
  {
   "cell_type": "markdown",
   "id": "bee97de7",
   "metadata": {},
   "source": [
    "### 2.1 . Exhaustive Feature Selection"
   ]
  },
  {
   "cell_type": "code",
   "execution_count": 91,
   "id": "a2f94bae",
   "metadata": {},
   "outputs": [],
   "source": [
    "from mlxtend.feature_selection import ExhaustiveFeatureSelector\n",
    "from sklearn.tree import DecisionTreeClassifier"
   ]
  },
  {
   "cell_type": "code",
   "execution_count": 98,
   "id": "b469047a",
   "metadata": {},
   "outputs": [],
   "source": [
    "efs = ExhaustiveFeatureSelector(DecisionTreeClassifier(), min_features=19, max_features=20, cv=5, n_jobs=-1)\n",
    "efs.fit(x,y)"
   ]
  },
  {
   "cell_type": "code",
   "execution_count": 92,
   "id": "4f8455e0",
   "metadata": {},
   "outputs": [
    {
     "data": {
      "text/plain": [
       "(1000, 23)"
      ]
     },
     "execution_count": 92,
     "metadata": {},
     "output_type": "execute_result"
    }
   ],
   "source": [
    "pd.DataFrame(efs.subsets_).T"
   ]
  },
  {
   "cell_type": "markdown",
   "id": "41f15ecf",
   "metadata": {},
   "source": [
    "### 2.2 Recursive Feature Elimination"
   ]
  },
  {
   "cell_type": "code",
   "execution_count": 79,
   "id": "fccbcdeb",
   "metadata": {},
   "outputs": [
    {
     "data": {
      "text/html": [
       "<style>#sk-container-id-1 {color: black;background-color: white;}#sk-container-id-1 pre{padding: 0;}#sk-container-id-1 div.sk-toggleable {background-color: white;}#sk-container-id-1 label.sk-toggleable__label {cursor: pointer;display: block;width: 100%;margin-bottom: 0;padding: 0.3em;box-sizing: border-box;text-align: center;}#sk-container-id-1 label.sk-toggleable__label-arrow:before {content: \"▸\";float: left;margin-right: 0.25em;color: #696969;}#sk-container-id-1 label.sk-toggleable__label-arrow:hover:before {color: black;}#sk-container-id-1 div.sk-estimator:hover label.sk-toggleable__label-arrow:before {color: black;}#sk-container-id-1 div.sk-toggleable__content {max-height: 0;max-width: 0;overflow: hidden;text-align: left;background-color: #f0f8ff;}#sk-container-id-1 div.sk-toggleable__content pre {margin: 0.2em;color: black;border-radius: 0.25em;background-color: #f0f8ff;}#sk-container-id-1 input.sk-toggleable__control:checked~div.sk-toggleable__content {max-height: 200px;max-width: 100%;overflow: auto;}#sk-container-id-1 input.sk-toggleable__control:checked~label.sk-toggleable__label-arrow:before {content: \"▾\";}#sk-container-id-1 div.sk-estimator input.sk-toggleable__control:checked~label.sk-toggleable__label {background-color: #d4ebff;}#sk-container-id-1 div.sk-label input.sk-toggleable__control:checked~label.sk-toggleable__label {background-color: #d4ebff;}#sk-container-id-1 input.sk-hidden--visually {border: 0;clip: rect(1px 1px 1px 1px);clip: rect(1px, 1px, 1px, 1px);height: 1px;margin: -1px;overflow: hidden;padding: 0;position: absolute;width: 1px;}#sk-container-id-1 div.sk-estimator {font-family: monospace;background-color: #f0f8ff;border: 1px dotted black;border-radius: 0.25em;box-sizing: border-box;margin-bottom: 0.5em;}#sk-container-id-1 div.sk-estimator:hover {background-color: #d4ebff;}#sk-container-id-1 div.sk-parallel-item::after {content: \"\";width: 100%;border-bottom: 1px solid gray;flex-grow: 1;}#sk-container-id-1 div.sk-label:hover label.sk-toggleable__label {background-color: #d4ebff;}#sk-container-id-1 div.sk-serial::before {content: \"\";position: absolute;border-left: 1px solid gray;box-sizing: border-box;top: 0;bottom: 0;left: 50%;z-index: 0;}#sk-container-id-1 div.sk-serial {display: flex;flex-direction: column;align-items: center;background-color: white;padding-right: 0.2em;padding-left: 0.2em;position: relative;}#sk-container-id-1 div.sk-item {position: relative;z-index: 1;}#sk-container-id-1 div.sk-parallel {display: flex;align-items: stretch;justify-content: center;background-color: white;position: relative;}#sk-container-id-1 div.sk-item::before, #sk-container-id-1 div.sk-parallel-item::before {content: \"\";position: absolute;border-left: 1px solid gray;box-sizing: border-box;top: 0;bottom: 0;left: 50%;z-index: -1;}#sk-container-id-1 div.sk-parallel-item {display: flex;flex-direction: column;z-index: 1;position: relative;background-color: white;}#sk-container-id-1 div.sk-parallel-item:first-child::after {align-self: flex-end;width: 50%;}#sk-container-id-1 div.sk-parallel-item:last-child::after {align-self: flex-start;width: 50%;}#sk-container-id-1 div.sk-parallel-item:only-child::after {width: 0;}#sk-container-id-1 div.sk-dashed-wrapped {border: 1px dashed gray;margin: 0 0.4em 0.5em 0.4em;box-sizing: border-box;padding-bottom: 0.4em;background-color: white;}#sk-container-id-1 div.sk-label label {font-family: monospace;font-weight: bold;display: inline-block;line-height: 1.2em;}#sk-container-id-1 div.sk-label-container {text-align: center;}#sk-container-id-1 div.sk-container {/* jupyter's `normalize.less` sets `[hidden] { display: none; }` but bootstrap.min.css set `[hidden] { display: none !important; }` so we also need the `!important` here to be able to override the default hidden behavior on the sphinx rendered scikit-learn.org. See: https://github.com/scikit-learn/scikit-learn/issues/21755 */display: inline-block !important;position: relative;}#sk-container-id-1 div.sk-text-repr-fallback {display: none;}</style><div id=\"sk-container-id-1\" class=\"sk-top-container\"><div class=\"sk-text-repr-fallback\"><pre>RFE(estimator=DecisionTreeClassifier(), n_features_to_select=15)</pre><b>In a Jupyter environment, please rerun this cell to show the HTML representation or trust the notebook. <br />On GitHub, the HTML representation is unable to render, please try loading this page with nbviewer.org.</b></div><div class=\"sk-container\" hidden><div class=\"sk-item sk-dashed-wrapped\"><div class=\"sk-label-container\"><div class=\"sk-label sk-toggleable\"><input class=\"sk-toggleable__control sk-hidden--visually\" id=\"sk-estimator-id-1\" type=\"checkbox\" ><label for=\"sk-estimator-id-1\" class=\"sk-toggleable__label sk-toggleable__label-arrow\">RFE</label><div class=\"sk-toggleable__content\"><pre>RFE(estimator=DecisionTreeClassifier(), n_features_to_select=15)</pre></div></div></div><div class=\"sk-parallel\"><div class=\"sk-parallel-item\"><div class=\"sk-item\"><div class=\"sk-label-container\"><div class=\"sk-label sk-toggleable\"><input class=\"sk-toggleable__control sk-hidden--visually\" id=\"sk-estimator-id-2\" type=\"checkbox\" ><label for=\"sk-estimator-id-2\" class=\"sk-toggleable__label sk-toggleable__label-arrow\">estimator: DecisionTreeClassifier</label><div class=\"sk-toggleable__content\"><pre>DecisionTreeClassifier()</pre></div></div></div><div class=\"sk-serial\"><div class=\"sk-item\"><div class=\"sk-estimator sk-toggleable\"><input class=\"sk-toggleable__control sk-hidden--visually\" id=\"sk-estimator-id-3\" type=\"checkbox\" ><label for=\"sk-estimator-id-3\" class=\"sk-toggleable__label sk-toggleable__label-arrow\">DecisionTreeClassifier</label><div class=\"sk-toggleable__content\"><pre>DecisionTreeClassifier()</pre></div></div></div></div></div></div></div></div></div></div>"
      ],
      "text/plain": [
       "RFE(estimator=DecisionTreeClassifier(), n_features_to_select=15)"
      ]
     },
     "execution_count": 79,
     "metadata": {},
     "output_type": "execute_result"
    }
   ],
   "source": [
    "# from sklearn.feature_selection import RFE\n",
    "# from sklearn.tree import DecisionTreeClassifier\n",
    "\n",
    "# dt_model = DecisionTreeClassifier()\n",
    "\n",
    "# rfe = RFE(dt_model, n_features_to_select=15)\n",
    "# rfe.fit(x,y)\n",
    "# x = x[rfe.get_feature_names_out()]"
   ]
  },
  {
   "cell_type": "code",
   "execution_count": 82,
   "id": "79849005",
   "metadata": {},
   "outputs": [
    {
     "data": {
      "text/plain": [
       "(1652, 15)"
      ]
     },
     "execution_count": 82,
     "metadata": {},
     "output_type": "execute_result"
    }
   ],
   "source": [
    "x.shape"
   ]
  },
  {
   "cell_type": "markdown",
   "id": "21fbd0a3",
   "metadata": {},
   "source": [
    "### SVM"
   ]
  },
  {
   "cell_type": "code",
   "execution_count": 146,
   "id": "5805d30a",
   "metadata": {},
   "outputs": [],
   "source": [
    "from sklearn.svm import SVC\n",
    "# Metrics\n",
    "from sklearn.metrics import classification_report, accuracy_score, confusion_matrix"
   ]
  },
  {
   "cell_type": "code",
   "execution_count": 147,
   "id": "3d58e458",
   "metadata": {},
   "outputs": [
    {
     "data": {
      "text/html": [
       "<div>\n",
       "<style scoped>\n",
       "    .dataframe tbody tr th:only-of-type {\n",
       "        vertical-align: middle;\n",
       "    }\n",
       "\n",
       "    .dataframe tbody tr th {\n",
       "        vertical-align: top;\n",
       "    }\n",
       "\n",
       "    .dataframe thead th {\n",
       "        text-align: right;\n",
       "    }\n",
       "</style>\n",
       "<table border=\"1\" class=\"dataframe\">\n",
       "  <thead>\n",
       "    <tr style=\"text-align: right;\">\n",
       "      <th></th>\n",
       "      <th>Unit price</th>\n",
       "      <th>Quantity</th>\n",
       "      <th>Tax 5%</th>\n",
       "      <th>Total</th>\n",
       "      <th>cogs</th>\n",
       "      <th>gross income</th>\n",
       "    </tr>\n",
       "  </thead>\n",
       "  <tbody>\n",
       "    <tr>\n",
       "      <th>0</th>\n",
       "      <td>0.718847</td>\n",
       "      <td>0.666667</td>\n",
       "      <td>0.521616</td>\n",
       "      <td>0.521616</td>\n",
       "      <td>0.521616</td>\n",
       "      <td>0.521616</td>\n",
       "    </tr>\n",
       "    <tr>\n",
       "      <th>1</th>\n",
       "      <td>0.057855</td>\n",
       "      <td>0.444444</td>\n",
       "      <td>0.067387</td>\n",
       "      <td>0.067387</td>\n",
       "      <td>0.067387</td>\n",
       "      <td>0.067387</td>\n",
       "    </tr>\n",
       "    <tr>\n",
       "      <th>2</th>\n",
       "      <td>0.403316</td>\n",
       "      <td>0.666667</td>\n",
       "      <td>0.319628</td>\n",
       "      <td>0.319628</td>\n",
       "      <td>0.319628</td>\n",
       "      <td>0.319628</td>\n",
       "    </tr>\n",
       "    <tr>\n",
       "      <th>3</th>\n",
       "      <td>0.535603</td>\n",
       "      <td>0.777778</td>\n",
       "      <td>0.463549</td>\n",
       "      <td>0.463549</td>\n",
       "      <td>0.463549</td>\n",
       "      <td>0.463549</td>\n",
       "    </tr>\n",
       "    <tr>\n",
       "      <th>4</th>\n",
       "      <td>0.848131</td>\n",
       "      <td>0.666667</td>\n",
       "      <td>0.604377</td>\n",
       "      <td>0.604377</td>\n",
       "      <td>0.604377</td>\n",
       "      <td>0.604377</td>\n",
       "    </tr>\n",
       "    <tr>\n",
       "      <th>...</th>\n",
       "      <td>...</td>\n",
       "      <td>...</td>\n",
       "      <td>...</td>\n",
       "      <td>...</td>\n",
       "      <td>...</td>\n",
       "      <td>...</td>\n",
       "    </tr>\n",
       "    <tr>\n",
       "      <th>1647</th>\n",
       "      <td>0.369688</td>\n",
       "      <td>0.111111</td>\n",
       "      <td>0.077781</td>\n",
       "      <td>0.077781</td>\n",
       "      <td>0.077781</td>\n",
       "      <td>0.077781</td>\n",
       "    </tr>\n",
       "    <tr>\n",
       "      <th>1648</th>\n",
       "      <td>0.253803</td>\n",
       "      <td>0.444444</td>\n",
       "      <td>0.159694</td>\n",
       "      <td>0.159694</td>\n",
       "      <td>0.159694</td>\n",
       "      <td>0.159694</td>\n",
       "    </tr>\n",
       "    <tr>\n",
       "      <th>1649</th>\n",
       "      <td>0.190285</td>\n",
       "      <td>0.777778</td>\n",
       "      <td>0.212347</td>\n",
       "      <td>0.212347</td>\n",
       "      <td>0.212347</td>\n",
       "      <td>0.212347</td>\n",
       "    </tr>\n",
       "    <tr>\n",
       "      <th>1650</th>\n",
       "      <td>0.073342</td>\n",
       "      <td>0.000000</td>\n",
       "      <td>0.018132</td>\n",
       "      <td>0.018132</td>\n",
       "      <td>0.018132</td>\n",
       "      <td>0.018132</td>\n",
       "    </tr>\n",
       "    <tr>\n",
       "      <th>1651</th>\n",
       "      <td>0.630049</td>\n",
       "      <td>1.000000</td>\n",
       "      <td>0.668394</td>\n",
       "      <td>0.668394</td>\n",
       "      <td>0.668394</td>\n",
       "      <td>0.668394</td>\n",
       "    </tr>\n",
       "  </tbody>\n",
       "</table>\n",
       "<p>1652 rows × 6 columns</p>\n",
       "</div>"
      ],
      "text/plain": [
       "      Unit price  Quantity    Tax 5%     Total      cogs  gross income\n",
       "0       0.718847  0.666667  0.521616  0.521616  0.521616      0.521616\n",
       "1       0.057855  0.444444  0.067387  0.067387  0.067387      0.067387\n",
       "2       0.403316  0.666667  0.319628  0.319628  0.319628      0.319628\n",
       "3       0.535603  0.777778  0.463549  0.463549  0.463549      0.463549\n",
       "4       0.848131  0.666667  0.604377  0.604377  0.604377      0.604377\n",
       "...          ...       ...       ...       ...       ...           ...\n",
       "1647    0.369688  0.111111  0.077781  0.077781  0.077781      0.077781\n",
       "1648    0.253803  0.444444  0.159694  0.159694  0.159694      0.159694\n",
       "1649    0.190285  0.777778  0.212347  0.212347  0.212347      0.212347\n",
       "1650    0.073342  0.000000  0.018132  0.018132  0.018132      0.018132\n",
       "1651    0.630049  1.000000  0.668394  0.668394  0.668394      0.668394\n",
       "\n",
       "[1652 rows x 6 columns]"
      ]
     },
     "execution_count": 147,
     "metadata": {},
     "output_type": "execute_result"
    }
   ],
   "source": [
    "x1 = x[['Unit price','Quantity','Tax 5%','Total','cogs','gross income']]\n",
    "\n",
    "std_scalar = MinMaxScaler()\n",
    "array = std_scalar.fit_transform(x1)\n",
    "\n",
    "x1 = pd.DataFrame(array, columns=x1.columns)\n",
    "x1"
   ]
  },
  {
   "cell_type": "code",
   "execution_count": 148,
   "id": "58b94ae0",
   "metadata": {},
   "outputs": [
    {
     "data": {
      "text/plain": [
       "(1652, 23)"
      ]
     },
     "execution_count": 148,
     "metadata": {},
     "output_type": "execute_result"
    }
   ],
   "source": [
    "x.shape"
   ]
  },
  {
   "cell_type": "code",
   "execution_count": 149,
   "id": "52e01b11",
   "metadata": {},
   "outputs": [],
   "source": [
    "for i in ['Unit price','Quantity','Tax 5%','Total','cogs','gross income']:\n",
    "    x[i] = x1[i]"
   ]
  },
  {
   "cell_type": "code",
   "execution_count": 150,
   "id": "cd4a7e0e",
   "metadata": {},
   "outputs": [
    {
     "data": {
      "text/plain": [
       "(1652, 23)"
      ]
     },
     "execution_count": 150,
     "metadata": {},
     "output_type": "execute_result"
    }
   ],
   "source": [
    "x.shape"
   ]
  },
  {
   "cell_type": "code",
   "execution_count": 151,
   "id": "87d90629",
   "metadata": {},
   "outputs": [],
   "source": [
    "# target_column = \"Rating\""
   ]
  },
  {
   "cell_type": "code",
   "execution_count": 152,
   "id": "6ced54dd",
   "metadata": {},
   "outputs": [],
   "source": [
    "# x = df.drop(target_column,axis=1)\n",
    "# y = df[target_column]"
   ]
  },
  {
   "cell_type": "code",
   "execution_count": 171,
   "id": "91fa15aa",
   "metadata": {},
   "outputs": [],
   "source": [
    "x_train, x_test, y_train, y_test = train_test_split(x, y , test_size=0.30, random_state=10, stratify=y)"
   ]
  },
  {
   "cell_type": "code",
   "execution_count": 172,
   "id": "54926147",
   "metadata": {},
   "outputs": [
    {
     "data": {
      "text/plain": [
       "(1156, 23)"
      ]
     },
     "execution_count": 172,
     "metadata": {},
     "output_type": "execute_result"
    }
   ],
   "source": [
    "x_train.shape"
   ]
  },
  {
   "cell_type": "code",
   "execution_count": 173,
   "id": "ec51fcc5",
   "metadata": {},
   "outputs": [
    {
     "data": {
      "text/html": [
       "<style>#sk-container-id-15 {color: black;background-color: white;}#sk-container-id-15 pre{padding: 0;}#sk-container-id-15 div.sk-toggleable {background-color: white;}#sk-container-id-15 label.sk-toggleable__label {cursor: pointer;display: block;width: 100%;margin-bottom: 0;padding: 0.3em;box-sizing: border-box;text-align: center;}#sk-container-id-15 label.sk-toggleable__label-arrow:before {content: \"▸\";float: left;margin-right: 0.25em;color: #696969;}#sk-container-id-15 label.sk-toggleable__label-arrow:hover:before {color: black;}#sk-container-id-15 div.sk-estimator:hover label.sk-toggleable__label-arrow:before {color: black;}#sk-container-id-15 div.sk-toggleable__content {max-height: 0;max-width: 0;overflow: hidden;text-align: left;background-color: #f0f8ff;}#sk-container-id-15 div.sk-toggleable__content pre {margin: 0.2em;color: black;border-radius: 0.25em;background-color: #f0f8ff;}#sk-container-id-15 input.sk-toggleable__control:checked~div.sk-toggleable__content {max-height: 200px;max-width: 100%;overflow: auto;}#sk-container-id-15 input.sk-toggleable__control:checked~label.sk-toggleable__label-arrow:before {content: \"▾\";}#sk-container-id-15 div.sk-estimator input.sk-toggleable__control:checked~label.sk-toggleable__label {background-color: #d4ebff;}#sk-container-id-15 div.sk-label input.sk-toggleable__control:checked~label.sk-toggleable__label {background-color: #d4ebff;}#sk-container-id-15 input.sk-hidden--visually {border: 0;clip: rect(1px 1px 1px 1px);clip: rect(1px, 1px, 1px, 1px);height: 1px;margin: -1px;overflow: hidden;padding: 0;position: absolute;width: 1px;}#sk-container-id-15 div.sk-estimator {font-family: monospace;background-color: #f0f8ff;border: 1px dotted black;border-radius: 0.25em;box-sizing: border-box;margin-bottom: 0.5em;}#sk-container-id-15 div.sk-estimator:hover {background-color: #d4ebff;}#sk-container-id-15 div.sk-parallel-item::after {content: \"\";width: 100%;border-bottom: 1px solid gray;flex-grow: 1;}#sk-container-id-15 div.sk-label:hover label.sk-toggleable__label {background-color: #d4ebff;}#sk-container-id-15 div.sk-serial::before {content: \"\";position: absolute;border-left: 1px solid gray;box-sizing: border-box;top: 0;bottom: 0;left: 50%;z-index: 0;}#sk-container-id-15 div.sk-serial {display: flex;flex-direction: column;align-items: center;background-color: white;padding-right: 0.2em;padding-left: 0.2em;position: relative;}#sk-container-id-15 div.sk-item {position: relative;z-index: 1;}#sk-container-id-15 div.sk-parallel {display: flex;align-items: stretch;justify-content: center;background-color: white;position: relative;}#sk-container-id-15 div.sk-item::before, #sk-container-id-15 div.sk-parallel-item::before {content: \"\";position: absolute;border-left: 1px solid gray;box-sizing: border-box;top: 0;bottom: 0;left: 50%;z-index: -1;}#sk-container-id-15 div.sk-parallel-item {display: flex;flex-direction: column;z-index: 1;position: relative;background-color: white;}#sk-container-id-15 div.sk-parallel-item:first-child::after {align-self: flex-end;width: 50%;}#sk-container-id-15 div.sk-parallel-item:last-child::after {align-self: flex-start;width: 50%;}#sk-container-id-15 div.sk-parallel-item:only-child::after {width: 0;}#sk-container-id-15 div.sk-dashed-wrapped {border: 1px dashed gray;margin: 0 0.4em 0.5em 0.4em;box-sizing: border-box;padding-bottom: 0.4em;background-color: white;}#sk-container-id-15 div.sk-label label {font-family: monospace;font-weight: bold;display: inline-block;line-height: 1.2em;}#sk-container-id-15 div.sk-label-container {text-align: center;}#sk-container-id-15 div.sk-container {/* jupyter's `normalize.less` sets `[hidden] { display: none; }` but bootstrap.min.css set `[hidden] { display: none !important; }` so we also need the `!important` here to be able to override the default hidden behavior on the sphinx rendered scikit-learn.org. See: https://github.com/scikit-learn/scikit-learn/issues/21755 */display: inline-block !important;position: relative;}#sk-container-id-15 div.sk-text-repr-fallback {display: none;}</style><div id=\"sk-container-id-15\" class=\"sk-top-container\"><div class=\"sk-text-repr-fallback\"><pre>SVC()</pre><b>In a Jupyter environment, please rerun this cell to show the HTML representation or trust the notebook. <br />On GitHub, the HTML representation is unable to render, please try loading this page with nbviewer.org.</b></div><div class=\"sk-container\" hidden><div class=\"sk-item\"><div class=\"sk-estimator sk-toggleable\"><input class=\"sk-toggleable__control sk-hidden--visually\" id=\"sk-estimator-id-21\" type=\"checkbox\" checked><label for=\"sk-estimator-id-21\" class=\"sk-toggleable__label sk-toggleable__label-arrow\">SVC</label><div class=\"sk-toggleable__content\"><pre>SVC()</pre></div></div></div></div></div>"
      ],
      "text/plain": [
       "SVC()"
      ]
     },
     "execution_count": 173,
     "metadata": {},
     "output_type": "execute_result"
    }
   ],
   "source": [
    "svm_clf = SVC()\n",
    "svm_clf.fit(x_train, y_train)"
   ]
  },
  {
   "cell_type": "code",
   "execution_count": 174,
   "id": "1e771d8f",
   "metadata": {},
   "outputs": [
    {
     "name": "stdout",
     "output_type": "stream",
     "text": [
      "Confusion Matrix:\n",
      " [[248  58]\n",
      " [  0 190]]\n",
      "*******************************************************\n",
      "Accuracy Score: 0.8830645161290323\n",
      "*******************************************************\n",
      "Classification report:\n",
      "               precision    recall  f1-score   support\n",
      "\n",
      "           0       1.00      0.81      0.90       306\n",
      "           1       0.77      1.00      0.87       190\n",
      "\n",
      "    accuracy                           0.88       496\n",
      "   macro avg       0.88      0.91      0.88       496\n",
      "weighted avg       0.91      0.88      0.88       496\n",
      "\n"
     ]
    }
   ],
   "source": [
    "# Testing Accuracy\n",
    "\n",
    "y_pred = svm_clf.predict(x_test)\n",
    "\n",
    "cnf_matrix = confusion_matrix(y_pred, y_test)\n",
    "print(\"Confusion Matrix:\\n\", cnf_matrix)\n",
    "print(\"*\"*55)\n",
    "\n",
    "accuracy = accuracy_score(y_pred, y_test)\n",
    "print(\"Accuracy Score:\",accuracy)\n",
    "print(\"*\"*55)\n",
    "\n",
    "\n",
    "clf_report = classification_report(y_pred, y_test)\n",
    "print(\"Classification report:\\n\", clf_report)"
   ]
  },
  {
   "cell_type": "code",
   "execution_count": 175,
   "id": "be59a20b",
   "metadata": {},
   "outputs": [
    {
     "name": "stdout",
     "output_type": "stream",
     "text": [
      "Confusion Matrix:\n",
      " [[578 139]\n",
      " [  0 439]]\n",
      "*******************************************************\n",
      "Accuracy Score: 0.879757785467128\n",
      "*******************************************************\n",
      "Classification report:\n",
      "               precision    recall  f1-score   support\n",
      "\n",
      "           0       1.00      0.81      0.89       717\n",
      "           1       0.76      1.00      0.86       439\n",
      "\n",
      "    accuracy                           0.88      1156\n",
      "   macro avg       0.88      0.90      0.88      1156\n",
      "weighted avg       0.91      0.88      0.88      1156\n",
      "\n"
     ]
    }
   ],
   "source": [
    "# Training Accuracy\n",
    "\n",
    "y_pred_train = svm_clf.predict(x_train)\n",
    "\n",
    "cnf_matrix = confusion_matrix(y_pred_train, y_train)\n",
    "print(\"Confusion Matrix:\\n\", cnf_matrix)\n",
    "print(\"*\"*55)\n",
    "\n",
    "accuracy = accuracy_score(y_pred_train, y_train)\n",
    "print(\"Accuracy Score:\",accuracy)\n",
    "print(\"*\"*55)\n",
    "\n",
    "\n",
    "clf_report = classification_report(y_pred_train, y_train)\n",
    "print(\"Classification report:\\n\", clf_report)"
   ]
  },
  {
   "cell_type": "markdown",
   "id": "66cf7a2c",
   "metadata": {},
   "source": [
    "# RandomForestClassifier"
   ]
  },
  {
   "cell_type": "code",
   "execution_count": 158,
   "id": "ae5b6a87",
   "metadata": {},
   "outputs": [],
   "source": [
    "from sklearn.ensemble import RandomForestClassifier"
   ]
  },
  {
   "cell_type": "code",
   "execution_count": 159,
   "id": "87345f84",
   "metadata": {},
   "outputs": [],
   "source": [
    "model = RandomForestClassifier(random_state=7)"
   ]
  },
  {
   "cell_type": "code",
   "execution_count": 160,
   "id": "751455cf",
   "metadata": {},
   "outputs": [
    {
     "data": {
      "text/html": [
       "<style>#sk-container-id-11 {color: black;background-color: white;}#sk-container-id-11 pre{padding: 0;}#sk-container-id-11 div.sk-toggleable {background-color: white;}#sk-container-id-11 label.sk-toggleable__label {cursor: pointer;display: block;width: 100%;margin-bottom: 0;padding: 0.3em;box-sizing: border-box;text-align: center;}#sk-container-id-11 label.sk-toggleable__label-arrow:before {content: \"▸\";float: left;margin-right: 0.25em;color: #696969;}#sk-container-id-11 label.sk-toggleable__label-arrow:hover:before {color: black;}#sk-container-id-11 div.sk-estimator:hover label.sk-toggleable__label-arrow:before {color: black;}#sk-container-id-11 div.sk-toggleable__content {max-height: 0;max-width: 0;overflow: hidden;text-align: left;background-color: #f0f8ff;}#sk-container-id-11 div.sk-toggleable__content pre {margin: 0.2em;color: black;border-radius: 0.25em;background-color: #f0f8ff;}#sk-container-id-11 input.sk-toggleable__control:checked~div.sk-toggleable__content {max-height: 200px;max-width: 100%;overflow: auto;}#sk-container-id-11 input.sk-toggleable__control:checked~label.sk-toggleable__label-arrow:before {content: \"▾\";}#sk-container-id-11 div.sk-estimator input.sk-toggleable__control:checked~label.sk-toggleable__label {background-color: #d4ebff;}#sk-container-id-11 div.sk-label input.sk-toggleable__control:checked~label.sk-toggleable__label {background-color: #d4ebff;}#sk-container-id-11 input.sk-hidden--visually {border: 0;clip: rect(1px 1px 1px 1px);clip: rect(1px, 1px, 1px, 1px);height: 1px;margin: -1px;overflow: hidden;padding: 0;position: absolute;width: 1px;}#sk-container-id-11 div.sk-estimator {font-family: monospace;background-color: #f0f8ff;border: 1px dotted black;border-radius: 0.25em;box-sizing: border-box;margin-bottom: 0.5em;}#sk-container-id-11 div.sk-estimator:hover {background-color: #d4ebff;}#sk-container-id-11 div.sk-parallel-item::after {content: \"\";width: 100%;border-bottom: 1px solid gray;flex-grow: 1;}#sk-container-id-11 div.sk-label:hover label.sk-toggleable__label {background-color: #d4ebff;}#sk-container-id-11 div.sk-serial::before {content: \"\";position: absolute;border-left: 1px solid gray;box-sizing: border-box;top: 0;bottom: 0;left: 50%;z-index: 0;}#sk-container-id-11 div.sk-serial {display: flex;flex-direction: column;align-items: center;background-color: white;padding-right: 0.2em;padding-left: 0.2em;position: relative;}#sk-container-id-11 div.sk-item {position: relative;z-index: 1;}#sk-container-id-11 div.sk-parallel {display: flex;align-items: stretch;justify-content: center;background-color: white;position: relative;}#sk-container-id-11 div.sk-item::before, #sk-container-id-11 div.sk-parallel-item::before {content: \"\";position: absolute;border-left: 1px solid gray;box-sizing: border-box;top: 0;bottom: 0;left: 50%;z-index: -1;}#sk-container-id-11 div.sk-parallel-item {display: flex;flex-direction: column;z-index: 1;position: relative;background-color: white;}#sk-container-id-11 div.sk-parallel-item:first-child::after {align-self: flex-end;width: 50%;}#sk-container-id-11 div.sk-parallel-item:last-child::after {align-self: flex-start;width: 50%;}#sk-container-id-11 div.sk-parallel-item:only-child::after {width: 0;}#sk-container-id-11 div.sk-dashed-wrapped {border: 1px dashed gray;margin: 0 0.4em 0.5em 0.4em;box-sizing: border-box;padding-bottom: 0.4em;background-color: white;}#sk-container-id-11 div.sk-label label {font-family: monospace;font-weight: bold;display: inline-block;line-height: 1.2em;}#sk-container-id-11 div.sk-label-container {text-align: center;}#sk-container-id-11 div.sk-container {/* jupyter's `normalize.less` sets `[hidden] { display: none; }` but bootstrap.min.css set `[hidden] { display: none !important; }` so we also need the `!important` here to be able to override the default hidden behavior on the sphinx rendered scikit-learn.org. See: https://github.com/scikit-learn/scikit-learn/issues/21755 */display: inline-block !important;position: relative;}#sk-container-id-11 div.sk-text-repr-fallback {display: none;}</style><div id=\"sk-container-id-11\" class=\"sk-top-container\"><div class=\"sk-text-repr-fallback\"><pre>RandomForestClassifier(random_state=7)</pre><b>In a Jupyter environment, please rerun this cell to show the HTML representation or trust the notebook. <br />On GitHub, the HTML representation is unable to render, please try loading this page with nbviewer.org.</b></div><div class=\"sk-container\" hidden><div class=\"sk-item\"><div class=\"sk-estimator sk-toggleable\"><input class=\"sk-toggleable__control sk-hidden--visually\" id=\"sk-estimator-id-15\" type=\"checkbox\" checked><label for=\"sk-estimator-id-15\" class=\"sk-toggleable__label sk-toggleable__label-arrow\">RandomForestClassifier</label><div class=\"sk-toggleable__content\"><pre>RandomForestClassifier(random_state=7)</pre></div></div></div></div></div>"
      ],
      "text/plain": [
       "RandomForestClassifier(random_state=7)"
      ]
     },
     "execution_count": 160,
     "metadata": {},
     "output_type": "execute_result"
    }
   ],
   "source": [
    "model.fit(x_train,y_train)"
   ]
  },
  {
   "cell_type": "code",
   "execution_count": 161,
   "id": "92c40007",
   "metadata": {},
   "outputs": [
    {
     "data": {
      "text/plain": [
       "1.0"
      ]
     },
     "execution_count": 161,
     "metadata": {},
     "output_type": "execute_result"
    }
   ],
   "source": [
    "model.score(x_train,y_train)"
   ]
  },
  {
   "cell_type": "code",
   "execution_count": 162,
   "id": "95fc62fe",
   "metadata": {},
   "outputs": [
    {
     "data": {
      "text/plain": [
       "0.8773747841105354"
      ]
     },
     "execution_count": 162,
     "metadata": {},
     "output_type": "execute_result"
    }
   ],
   "source": [
    "model.score(x_test,y_test)"
   ]
  },
  {
   "cell_type": "code",
   "execution_count": 163,
   "id": "b6edf878",
   "metadata": {},
   "outputs": [
    {
     "data": {
      "text/plain": [
       "array([0.016225  , 0.04200373, 0.08464294, 0.04871887, 0.07760138,\n",
       "       0.07415082, 0.07710446, 0.08053814, 0.04883199, 0.03680903,\n",
       "       0.05420568, 0.05710666, 0.03675939, 0.04324432, 0.02355859,\n",
       "       0.0189932 , 0.02331153, 0.01615959, 0.01658419, 0.01672237,\n",
       "       0.04187104, 0.02899983, 0.03585724])"
      ]
     },
     "execution_count": 163,
     "metadata": {},
     "output_type": "execute_result"
    }
   ],
   "source": [
    "model.feature_importances_"
   ]
  },
  {
   "cell_type": "code",
   "execution_count": 164,
   "id": "2c375270",
   "metadata": {},
   "outputs": [
    {
     "data": {
      "text/plain": [
       "Unit price                             0.084643\n",
       "gross income                           0.080538\n",
       "Tax 5%                                 0.077601\n",
       "cogs                                   0.077104\n",
       "Total                                  0.074151\n",
       "City_Mandalay                          0.057107\n",
       "Branch_C                               0.054206\n",
       "Branch_A                               0.048832\n",
       "Quantity                               0.048719\n",
       "City_Yangon                            0.043244\n",
       "Gender                                 0.042004\n",
       "Payment_Cash                           0.041871\n",
       "Branch_B                               0.036809\n",
       "City_Naypyitaw                         0.036759\n",
       "Payment_Ewallet                        0.035857\n",
       "Payment_Credit card                    0.029000\n",
       "Product line_Electronic accessories    0.023559\n",
       "Product line_Food and beverages        0.023312\n",
       "Product line_Fashion accessories       0.018993\n",
       "Product line_Sports and travel         0.016722\n",
       "Product line_Home and lifestyle        0.016584\n",
       "Customer type                          0.016225\n",
       "Product line_Health and beauty         0.016160\n",
       "dtype: float64"
      ]
     },
     "execution_count": 164,
     "metadata": {},
     "output_type": "execute_result"
    }
   ],
   "source": [
    "pd.Series(model.feature_importances_,index=x.columns).sort_values(ascending=False)"
   ]
  },
  {
   "cell_type": "markdown",
   "id": "dbde1a5c",
   "metadata": {},
   "source": [
    "### GridSearchCV "
   ]
  },
  {
   "cell_type": "code",
   "execution_count": 165,
   "id": "86c47958",
   "metadata": {},
   "outputs": [],
   "source": [
    "from sklearn.model_selection import GridSearchCV"
   ]
  },
  {
   "cell_type": "code",
   "execution_count": 166,
   "id": "b23d6e31",
   "metadata": {},
   "outputs": [
    {
     "data": {
      "text/html": [
       "<style>#sk-container-id-12 {color: black;background-color: white;}#sk-container-id-12 pre{padding: 0;}#sk-container-id-12 div.sk-toggleable {background-color: white;}#sk-container-id-12 label.sk-toggleable__label {cursor: pointer;display: block;width: 100%;margin-bottom: 0;padding: 0.3em;box-sizing: border-box;text-align: center;}#sk-container-id-12 label.sk-toggleable__label-arrow:before {content: \"▸\";float: left;margin-right: 0.25em;color: #696969;}#sk-container-id-12 label.sk-toggleable__label-arrow:hover:before {color: black;}#sk-container-id-12 div.sk-estimator:hover label.sk-toggleable__label-arrow:before {color: black;}#sk-container-id-12 div.sk-toggleable__content {max-height: 0;max-width: 0;overflow: hidden;text-align: left;background-color: #f0f8ff;}#sk-container-id-12 div.sk-toggleable__content pre {margin: 0.2em;color: black;border-radius: 0.25em;background-color: #f0f8ff;}#sk-container-id-12 input.sk-toggleable__control:checked~div.sk-toggleable__content {max-height: 200px;max-width: 100%;overflow: auto;}#sk-container-id-12 input.sk-toggleable__control:checked~label.sk-toggleable__label-arrow:before {content: \"▾\";}#sk-container-id-12 div.sk-estimator input.sk-toggleable__control:checked~label.sk-toggleable__label {background-color: #d4ebff;}#sk-container-id-12 div.sk-label input.sk-toggleable__control:checked~label.sk-toggleable__label {background-color: #d4ebff;}#sk-container-id-12 input.sk-hidden--visually {border: 0;clip: rect(1px 1px 1px 1px);clip: rect(1px, 1px, 1px, 1px);height: 1px;margin: -1px;overflow: hidden;padding: 0;position: absolute;width: 1px;}#sk-container-id-12 div.sk-estimator {font-family: monospace;background-color: #f0f8ff;border: 1px dotted black;border-radius: 0.25em;box-sizing: border-box;margin-bottom: 0.5em;}#sk-container-id-12 div.sk-estimator:hover {background-color: #d4ebff;}#sk-container-id-12 div.sk-parallel-item::after {content: \"\";width: 100%;border-bottom: 1px solid gray;flex-grow: 1;}#sk-container-id-12 div.sk-label:hover label.sk-toggleable__label {background-color: #d4ebff;}#sk-container-id-12 div.sk-serial::before {content: \"\";position: absolute;border-left: 1px solid gray;box-sizing: border-box;top: 0;bottom: 0;left: 50%;z-index: 0;}#sk-container-id-12 div.sk-serial {display: flex;flex-direction: column;align-items: center;background-color: white;padding-right: 0.2em;padding-left: 0.2em;position: relative;}#sk-container-id-12 div.sk-item {position: relative;z-index: 1;}#sk-container-id-12 div.sk-parallel {display: flex;align-items: stretch;justify-content: center;background-color: white;position: relative;}#sk-container-id-12 div.sk-item::before, #sk-container-id-12 div.sk-parallel-item::before {content: \"\";position: absolute;border-left: 1px solid gray;box-sizing: border-box;top: 0;bottom: 0;left: 50%;z-index: -1;}#sk-container-id-12 div.sk-parallel-item {display: flex;flex-direction: column;z-index: 1;position: relative;background-color: white;}#sk-container-id-12 div.sk-parallel-item:first-child::after {align-self: flex-end;width: 50%;}#sk-container-id-12 div.sk-parallel-item:last-child::after {align-self: flex-start;width: 50%;}#sk-container-id-12 div.sk-parallel-item:only-child::after {width: 0;}#sk-container-id-12 div.sk-dashed-wrapped {border: 1px dashed gray;margin: 0 0.4em 0.5em 0.4em;box-sizing: border-box;padding-bottom: 0.4em;background-color: white;}#sk-container-id-12 div.sk-label label {font-family: monospace;font-weight: bold;display: inline-block;line-height: 1.2em;}#sk-container-id-12 div.sk-label-container {text-align: center;}#sk-container-id-12 div.sk-container {/* jupyter's `normalize.less` sets `[hidden] { display: none; }` but bootstrap.min.css set `[hidden] { display: none !important; }` so we also need the `!important` here to be able to override the default hidden behavior on the sphinx rendered scikit-learn.org. See: https://github.com/scikit-learn/scikit-learn/issues/21755 */display: inline-block !important;position: relative;}#sk-container-id-12 div.sk-text-repr-fallback {display: none;}</style><div id=\"sk-container-id-12\" class=\"sk-top-container\"><div class=\"sk-text-repr-fallback\"><pre>GridSearchCV(estimator=RandomForestClassifier(),\n",
       "             param_grid={&#x27;criterion&#x27;: [&#x27;gini&#x27;, &#x27;entropy&#x27;],\n",
       "                         &#x27;max_depth&#x27;: array([3, 4]),\n",
       "                         &#x27;max_features&#x27;: [&#x27;sqrt&#x27;, &#x27;log2&#x27;],\n",
       "                         &#x27;min_samples_leaf&#x27;: array([2, 3]),\n",
       "                         &#x27;min_samples_split&#x27;: array([5, 6]),\n",
       "                         &#x27;n_estimators&#x27;: array([ 98,  99, 100, 101])})</pre><b>In a Jupyter environment, please rerun this cell to show the HTML representation or trust the notebook. <br />On GitHub, the HTML representation is unable to render, please try loading this page with nbviewer.org.</b></div><div class=\"sk-container\" hidden><div class=\"sk-item sk-dashed-wrapped\"><div class=\"sk-label-container\"><div class=\"sk-label sk-toggleable\"><input class=\"sk-toggleable__control sk-hidden--visually\" id=\"sk-estimator-id-16\" type=\"checkbox\" ><label for=\"sk-estimator-id-16\" class=\"sk-toggleable__label sk-toggleable__label-arrow\">GridSearchCV</label><div class=\"sk-toggleable__content\"><pre>GridSearchCV(estimator=RandomForestClassifier(),\n",
       "             param_grid={&#x27;criterion&#x27;: [&#x27;gini&#x27;, &#x27;entropy&#x27;],\n",
       "                         &#x27;max_depth&#x27;: array([3, 4]),\n",
       "                         &#x27;max_features&#x27;: [&#x27;sqrt&#x27;, &#x27;log2&#x27;],\n",
       "                         &#x27;min_samples_leaf&#x27;: array([2, 3]),\n",
       "                         &#x27;min_samples_split&#x27;: array([5, 6]),\n",
       "                         &#x27;n_estimators&#x27;: array([ 98,  99, 100, 101])})</pre></div></div></div><div class=\"sk-parallel\"><div class=\"sk-parallel-item\"><div class=\"sk-item\"><div class=\"sk-label-container\"><div class=\"sk-label sk-toggleable\"><input class=\"sk-toggleable__control sk-hidden--visually\" id=\"sk-estimator-id-17\" type=\"checkbox\" ><label for=\"sk-estimator-id-17\" class=\"sk-toggleable__label sk-toggleable__label-arrow\">estimator: RandomForestClassifier</label><div class=\"sk-toggleable__content\"><pre>RandomForestClassifier()</pre></div></div></div><div class=\"sk-serial\"><div class=\"sk-item\"><div class=\"sk-estimator sk-toggleable\"><input class=\"sk-toggleable__control sk-hidden--visually\" id=\"sk-estimator-id-18\" type=\"checkbox\" ><label for=\"sk-estimator-id-18\" class=\"sk-toggleable__label sk-toggleable__label-arrow\">RandomForestClassifier</label><div class=\"sk-toggleable__content\"><pre>RandomForestClassifier()</pre></div></div></div></div></div></div></div></div></div></div>"
      ],
      "text/plain": [
       "GridSearchCV(estimator=RandomForestClassifier(),\n",
       "             param_grid={'criterion': ['gini', 'entropy'],\n",
       "                         'max_depth': array([3, 4]),\n",
       "                         'max_features': ['sqrt', 'log2'],\n",
       "                         'min_samples_leaf': array([2, 3]),\n",
       "                         'min_samples_split': array([5, 6]),\n",
       "                         'n_estimators': array([ 98,  99, 100, 101])})"
      ]
     },
     "execution_count": 166,
     "metadata": {},
     "output_type": "execute_result"
    }
   ],
   "source": [
    "grid_model = GridSearchCV(RandomForestClassifier(),param_grid={'n_estimators':np.arange(98,102),\n",
    "                                \"criterion\":[\"gini\", \"entropy\"],\n",
    "                                'max_depth':np.arange(3,5),\n",
    "                                'min_samples_split': np.arange(5,7),\n",
    "                                'min_samples_leaf':np.arange(2,4),\n",
    "                                'max_features':['sqrt','log2']})\n",
    "grid_model.fit(x_train,y_train)"
   ]
  },
  {
   "cell_type": "code",
   "execution_count": 167,
   "id": "4b03b8c3",
   "metadata": {},
   "outputs": [
    {
     "data": {
      "text/html": [
       "<style>#sk-container-id-13 {color: black;background-color: white;}#sk-container-id-13 pre{padding: 0;}#sk-container-id-13 div.sk-toggleable {background-color: white;}#sk-container-id-13 label.sk-toggleable__label {cursor: pointer;display: block;width: 100%;margin-bottom: 0;padding: 0.3em;box-sizing: border-box;text-align: center;}#sk-container-id-13 label.sk-toggleable__label-arrow:before {content: \"▸\";float: left;margin-right: 0.25em;color: #696969;}#sk-container-id-13 label.sk-toggleable__label-arrow:hover:before {color: black;}#sk-container-id-13 div.sk-estimator:hover label.sk-toggleable__label-arrow:before {color: black;}#sk-container-id-13 div.sk-toggleable__content {max-height: 0;max-width: 0;overflow: hidden;text-align: left;background-color: #f0f8ff;}#sk-container-id-13 div.sk-toggleable__content pre {margin: 0.2em;color: black;border-radius: 0.25em;background-color: #f0f8ff;}#sk-container-id-13 input.sk-toggleable__control:checked~div.sk-toggleable__content {max-height: 200px;max-width: 100%;overflow: auto;}#sk-container-id-13 input.sk-toggleable__control:checked~label.sk-toggleable__label-arrow:before {content: \"▾\";}#sk-container-id-13 div.sk-estimator input.sk-toggleable__control:checked~label.sk-toggleable__label {background-color: #d4ebff;}#sk-container-id-13 div.sk-label input.sk-toggleable__control:checked~label.sk-toggleable__label {background-color: #d4ebff;}#sk-container-id-13 input.sk-hidden--visually {border: 0;clip: rect(1px 1px 1px 1px);clip: rect(1px, 1px, 1px, 1px);height: 1px;margin: -1px;overflow: hidden;padding: 0;position: absolute;width: 1px;}#sk-container-id-13 div.sk-estimator {font-family: monospace;background-color: #f0f8ff;border: 1px dotted black;border-radius: 0.25em;box-sizing: border-box;margin-bottom: 0.5em;}#sk-container-id-13 div.sk-estimator:hover {background-color: #d4ebff;}#sk-container-id-13 div.sk-parallel-item::after {content: \"\";width: 100%;border-bottom: 1px solid gray;flex-grow: 1;}#sk-container-id-13 div.sk-label:hover label.sk-toggleable__label {background-color: #d4ebff;}#sk-container-id-13 div.sk-serial::before {content: \"\";position: absolute;border-left: 1px solid gray;box-sizing: border-box;top: 0;bottom: 0;left: 50%;z-index: 0;}#sk-container-id-13 div.sk-serial {display: flex;flex-direction: column;align-items: center;background-color: white;padding-right: 0.2em;padding-left: 0.2em;position: relative;}#sk-container-id-13 div.sk-item {position: relative;z-index: 1;}#sk-container-id-13 div.sk-parallel {display: flex;align-items: stretch;justify-content: center;background-color: white;position: relative;}#sk-container-id-13 div.sk-item::before, #sk-container-id-13 div.sk-parallel-item::before {content: \"\";position: absolute;border-left: 1px solid gray;box-sizing: border-box;top: 0;bottom: 0;left: 50%;z-index: -1;}#sk-container-id-13 div.sk-parallel-item {display: flex;flex-direction: column;z-index: 1;position: relative;background-color: white;}#sk-container-id-13 div.sk-parallel-item:first-child::after {align-self: flex-end;width: 50%;}#sk-container-id-13 div.sk-parallel-item:last-child::after {align-self: flex-start;width: 50%;}#sk-container-id-13 div.sk-parallel-item:only-child::after {width: 0;}#sk-container-id-13 div.sk-dashed-wrapped {border: 1px dashed gray;margin: 0 0.4em 0.5em 0.4em;box-sizing: border-box;padding-bottom: 0.4em;background-color: white;}#sk-container-id-13 div.sk-label label {font-family: monospace;font-weight: bold;display: inline-block;line-height: 1.2em;}#sk-container-id-13 div.sk-label-container {text-align: center;}#sk-container-id-13 div.sk-container {/* jupyter's `normalize.less` sets `[hidden] { display: none; }` but bootstrap.min.css set `[hidden] { display: none !important; }` so we also need the `!important` here to be able to override the default hidden behavior on the sphinx rendered scikit-learn.org. See: https://github.com/scikit-learn/scikit-learn/issues/21755 */display: inline-block !important;position: relative;}#sk-container-id-13 div.sk-text-repr-fallback {display: none;}</style><div id=\"sk-container-id-13\" class=\"sk-top-container\"><div class=\"sk-text-repr-fallback\"><pre>RandomForestClassifier(criterion=&#x27;entropy&#x27;, max_depth=4, min_samples_leaf=3,\n",
       "                       min_samples_split=5, n_estimators=98)</pre><b>In a Jupyter environment, please rerun this cell to show the HTML representation or trust the notebook. <br />On GitHub, the HTML representation is unable to render, please try loading this page with nbviewer.org.</b></div><div class=\"sk-container\" hidden><div class=\"sk-item\"><div class=\"sk-estimator sk-toggleable\"><input class=\"sk-toggleable__control sk-hidden--visually\" id=\"sk-estimator-id-19\" type=\"checkbox\" checked><label for=\"sk-estimator-id-19\" class=\"sk-toggleable__label sk-toggleable__label-arrow\">RandomForestClassifier</label><div class=\"sk-toggleable__content\"><pre>RandomForestClassifier(criterion=&#x27;entropy&#x27;, max_depth=4, min_samples_leaf=3,\n",
       "                       min_samples_split=5, n_estimators=98)</pre></div></div></div></div></div>"
      ],
      "text/plain": [
       "RandomForestClassifier(criterion='entropy', max_depth=4, min_samples_leaf=3,\n",
       "                       min_samples_split=5, n_estimators=98)"
      ]
     },
     "execution_count": 167,
     "metadata": {},
     "output_type": "execute_result"
    }
   ],
   "source": [
    "gscv = grid_model.best_estimator_\n",
    "gscv"
   ]
  },
  {
   "cell_type": "code",
   "execution_count": 168,
   "id": "bd41bdb9",
   "metadata": {},
   "outputs": [
    {
     "data": {
      "text/html": [
       "<style>#sk-container-id-14 {color: black;background-color: white;}#sk-container-id-14 pre{padding: 0;}#sk-container-id-14 div.sk-toggleable {background-color: white;}#sk-container-id-14 label.sk-toggleable__label {cursor: pointer;display: block;width: 100%;margin-bottom: 0;padding: 0.3em;box-sizing: border-box;text-align: center;}#sk-container-id-14 label.sk-toggleable__label-arrow:before {content: \"▸\";float: left;margin-right: 0.25em;color: #696969;}#sk-container-id-14 label.sk-toggleable__label-arrow:hover:before {color: black;}#sk-container-id-14 div.sk-estimator:hover label.sk-toggleable__label-arrow:before {color: black;}#sk-container-id-14 div.sk-toggleable__content {max-height: 0;max-width: 0;overflow: hidden;text-align: left;background-color: #f0f8ff;}#sk-container-id-14 div.sk-toggleable__content pre {margin: 0.2em;color: black;border-radius: 0.25em;background-color: #f0f8ff;}#sk-container-id-14 input.sk-toggleable__control:checked~div.sk-toggleable__content {max-height: 200px;max-width: 100%;overflow: auto;}#sk-container-id-14 input.sk-toggleable__control:checked~label.sk-toggleable__label-arrow:before {content: \"▾\";}#sk-container-id-14 div.sk-estimator input.sk-toggleable__control:checked~label.sk-toggleable__label {background-color: #d4ebff;}#sk-container-id-14 div.sk-label input.sk-toggleable__control:checked~label.sk-toggleable__label {background-color: #d4ebff;}#sk-container-id-14 input.sk-hidden--visually {border: 0;clip: rect(1px 1px 1px 1px);clip: rect(1px, 1px, 1px, 1px);height: 1px;margin: -1px;overflow: hidden;padding: 0;position: absolute;width: 1px;}#sk-container-id-14 div.sk-estimator {font-family: monospace;background-color: #f0f8ff;border: 1px dotted black;border-radius: 0.25em;box-sizing: border-box;margin-bottom: 0.5em;}#sk-container-id-14 div.sk-estimator:hover {background-color: #d4ebff;}#sk-container-id-14 div.sk-parallel-item::after {content: \"\";width: 100%;border-bottom: 1px solid gray;flex-grow: 1;}#sk-container-id-14 div.sk-label:hover label.sk-toggleable__label {background-color: #d4ebff;}#sk-container-id-14 div.sk-serial::before {content: \"\";position: absolute;border-left: 1px solid gray;box-sizing: border-box;top: 0;bottom: 0;left: 50%;z-index: 0;}#sk-container-id-14 div.sk-serial {display: flex;flex-direction: column;align-items: center;background-color: white;padding-right: 0.2em;padding-left: 0.2em;position: relative;}#sk-container-id-14 div.sk-item {position: relative;z-index: 1;}#sk-container-id-14 div.sk-parallel {display: flex;align-items: stretch;justify-content: center;background-color: white;position: relative;}#sk-container-id-14 div.sk-item::before, #sk-container-id-14 div.sk-parallel-item::before {content: \"\";position: absolute;border-left: 1px solid gray;box-sizing: border-box;top: 0;bottom: 0;left: 50%;z-index: -1;}#sk-container-id-14 div.sk-parallel-item {display: flex;flex-direction: column;z-index: 1;position: relative;background-color: white;}#sk-container-id-14 div.sk-parallel-item:first-child::after {align-self: flex-end;width: 50%;}#sk-container-id-14 div.sk-parallel-item:last-child::after {align-self: flex-start;width: 50%;}#sk-container-id-14 div.sk-parallel-item:only-child::after {width: 0;}#sk-container-id-14 div.sk-dashed-wrapped {border: 1px dashed gray;margin: 0 0.4em 0.5em 0.4em;box-sizing: border-box;padding-bottom: 0.4em;background-color: white;}#sk-container-id-14 div.sk-label label {font-family: monospace;font-weight: bold;display: inline-block;line-height: 1.2em;}#sk-container-id-14 div.sk-label-container {text-align: center;}#sk-container-id-14 div.sk-container {/* jupyter's `normalize.less` sets `[hidden] { display: none; }` but bootstrap.min.css set `[hidden] { display: none !important; }` so we also need the `!important` here to be able to override the default hidden behavior on the sphinx rendered scikit-learn.org. See: https://github.com/scikit-learn/scikit-learn/issues/21755 */display: inline-block !important;position: relative;}#sk-container-id-14 div.sk-text-repr-fallback {display: none;}</style><div id=\"sk-container-id-14\" class=\"sk-top-container\"><div class=\"sk-text-repr-fallback\"><pre>RandomForestClassifier(criterion=&#x27;entropy&#x27;, max_depth=4, min_samples_leaf=3,\n",
       "                       min_samples_split=5, n_estimators=98)</pre><b>In a Jupyter environment, please rerun this cell to show the HTML representation or trust the notebook. <br />On GitHub, the HTML representation is unable to render, please try loading this page with nbviewer.org.</b></div><div class=\"sk-container\" hidden><div class=\"sk-item\"><div class=\"sk-estimator sk-toggleable\"><input class=\"sk-toggleable__control sk-hidden--visually\" id=\"sk-estimator-id-20\" type=\"checkbox\" checked><label for=\"sk-estimator-id-20\" class=\"sk-toggleable__label sk-toggleable__label-arrow\">RandomForestClassifier</label><div class=\"sk-toggleable__content\"><pre>RandomForestClassifier(criterion=&#x27;entropy&#x27;, max_depth=4, min_samples_leaf=3,\n",
       "                       min_samples_split=5, n_estimators=98)</pre></div></div></div></div></div>"
      ],
      "text/plain": [
       "RandomForestClassifier(criterion='entropy', max_depth=4, min_samples_leaf=3,\n",
       "                       min_samples_split=5, n_estimators=98)"
      ]
     },
     "execution_count": 168,
     "metadata": {},
     "output_type": "execute_result"
    }
   ],
   "source": [
    "gscv.fit(x_train,y_train)"
   ]
  },
  {
   "cell_type": "code",
   "execution_count": 169,
   "id": "bb068856",
   "metadata": {},
   "outputs": [
    {
     "data": {
      "text/plain": [
       "0.8434296365330848"
      ]
     },
     "execution_count": 169,
     "metadata": {},
     "output_type": "execute_result"
    }
   ],
   "source": [
    "gscv.score(x_train,y_train)"
   ]
  },
  {
   "cell_type": "code",
   "execution_count": 170,
   "id": "f50552a0",
   "metadata": {},
   "outputs": [
    {
     "data": {
      "text/plain": [
       "0.8134715025906736"
      ]
     },
     "execution_count": 170,
     "metadata": {},
     "output_type": "execute_result"
    }
   ],
   "source": [
    "gscv.score(x_test,y_test)"
   ]
  },
  {
   "cell_type": "markdown",
   "id": "c379a487",
   "metadata": {},
   "source": [
    "### Customers Point of View"
   ]
  },
  {
   "cell_type": "code",
   "execution_count": null,
   "id": "5ee88e2f",
   "metadata": {},
   "outputs": [],
   "source": [
    "# Columns:-\n",
    "1. Service by Mart (Rating)\n",
    "2. Parking (Parking Available/Not)\n",
    "3. Location\n",
    "4. Lift\n",
    "5. Transportations\n",
    "6. Discount are available (Yes/ No)\n",
    "7. Quality of Products\n",
    "8. Number of Visits\n",
    "9. Source of Visit (word of mouth, Advertisement,Social media)\n",
    "10. Hygiene\n",
    "11. All Payment Facilities are available (Yes/Not)\n",
    "12. replacment policy\n",
    "13. "
   ]
  },
  {
   "cell_type": "markdown",
   "id": "77e27a66",
   "metadata": {},
   "source": [
    "### Mart Point of View"
   ]
  },
  {
   "cell_type": "code",
   "execution_count": null,
   "id": "435d362b",
   "metadata": {},
   "outputs": [],
   "source": [
    "1. "
   ]
  },
  {
   "cell_type": "code",
   "execution_count": null,
   "id": "51dd693e",
   "metadata": {},
   "outputs": [],
   "source": [
    "pd.read_csv('supermarket_sales - Sheet1.csv')"
   ]
  },
  {
   "cell_type": "code",
   "execution_count": 109,
   "id": "8acaf014",
   "metadata": {},
   "outputs": [],
   "source": [
    "s = [20,20,15,18,20,18,16,19]\n",
    "y = [19,18,19,19,19,17,18,17]"
   ]
  },
  {
   "cell_type": "code",
   "execution_count": 110,
   "id": "939643e7",
   "metadata": {},
   "outputs": [
    {
     "data": {
      "text/plain": [
       "3.1875"
      ]
     },
     "execution_count": 110,
     "metadata": {},
     "output_type": "execute_result"
    }
   ],
   "source": [
    "np.var(s)"
   ]
  },
  {
   "cell_type": "code",
   "execution_count": 111,
   "id": "621f55cc",
   "metadata": {},
   "outputs": [
    {
     "data": {
      "text/plain": [
       "0.6875"
      ]
     },
     "execution_count": 111,
     "metadata": {},
     "output_type": "execute_result"
    }
   ],
   "source": [
    "np.var(y)"
   ]
  },
  {
   "cell_type": "code",
   "execution_count": null,
   "id": "d5aca84a",
   "metadata": {},
   "outputs": [],
   "source": []
  }
 ],
 "metadata": {
  "kernelspec": {
   "display_name": "Python 3 (ipykernel)",
   "language": "python",
   "name": "python3"
  },
  "language_info": {
   "codemirror_mode": {
    "name": "ipython",
    "version": 3
   },
   "file_extension": ".py",
   "mimetype": "text/x-python",
   "name": "python",
   "nbconvert_exporter": "python",
   "pygments_lexer": "ipython3",
   "version": "3.9.12"
  }
 },
 "nbformat": 4,
 "nbformat_minor": 5
}
